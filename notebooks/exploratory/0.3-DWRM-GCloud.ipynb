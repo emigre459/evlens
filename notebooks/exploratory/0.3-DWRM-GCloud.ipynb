{
 "cells": [
  {
   "cell_type": "markdown",
   "id": "bddfc535-9593-42fe-8b05-4680ba70926a",
   "metadata": {},
   "source": [
    "# Purpose\n",
    "\n",
    "Figure out pulling location IDs for only DCFC US (non-Tesla to start with) in the US. Need location IDs to efficiently scrape Plugshare with some of our other code."
   ]
  },
  {
   "cell_type": "markdown",
   "id": "9005defb-b608-430d-b91a-c384cf8bed2e",
   "metadata": {},
   "source": [
    "# Imports"
   ]
  },
  {
   "cell_type": "code",
   "execution_count": 1,
   "id": "0f1b5e06",
   "metadata": {},
   "outputs": [
    {
     "name": "stderr",
     "output_type": "stream",
     "text": [
      "2024-07-02_T07_32_40CDT: INFO (Notebook-0.3:L25) - TEST!\n"
     ]
    }
   ],
   "source": [
    "\n",
    "%load_ext autoreload\n",
    "%autoreload 2\n",
    "\n",
    "import numpy as np\n",
    "from rich import print\n",
    "import os\n",
    "import pandas as pd\n",
    "from bs4 import BeautifulSoup\n",
    "import requests\n",
    "from tqdm import tqdm\n",
    "from typing import List, Union, Set\n",
    "\n",
    "# from torch.utils.data import DataLoader\n",
    "\n",
    "from evlens.data.plugshare import MainMapScraper\n",
    "\n",
    "# Electrify America in Springfield, VA mall parking lot\n",
    "TEST_LOCATION = 252784\n",
    "\n",
    "from dotenv import load_dotenv\n",
    "load_dotenv(override=True)\n",
    "\n",
    "from evlens.logs import setup_logger\n",
    "logger = setup_logger(\"Notebook-0.3\")\n",
    "logger.info(\"TEST!\")"
   ]
  },
  {
   "cell_type": "markdown",
   "id": "b2bcfa9d",
   "metadata": {},
   "source": [
    "# Set up our constants"
   ]
  },
  {
   "cell_type": "code",
   "execution_count": 2,
   "id": "2d1f7939",
   "metadata": {},
   "outputs": [],
   "source": [
    "# URL = \"https://developer.plugshare.com/embed\"\n",
    "location_id = 252784\n",
    "URL = f\"https://www.plugshare.com/location/{location_id}\""
   ]
  },
  {
   "cell_type": "markdown",
   "id": "d87555de",
   "metadata": {},
   "source": [
    "# Try uploading a screenshot to GCP Cloud Storage\n",
    "\n",
    "This isn't datatabase stuff but useful for scraping and *should* be easy to do..."
   ]
  },
  {
   "cell_type": "code",
   "execution_count": 7,
   "id": "040bcafe",
   "metadata": {},
   "outputs": [
    {
     "name": "stderr",
     "output_type": "stream",
     "text": [
      "2024-07-01_T17_53_05CDT: INFO (evlens.data.google_cloud:L41) - File ../../data/external/plugshare/06-30-2024/errors/07-01-2024_T04_37_46_checkins.png uploaded to errors/07-01-2024_T04_37_46_checkins.png.\n"
     ]
    }
   ],
   "source": [
    "from evlens.data.google_cloud import upload_blob\n",
    "\n",
    "upload_blob('plugshare_scraping', '../../data/external/plugshare/06-30-2024/errors/07-01-2024_T04_37_46_checkins.png', 'errors/07-01-2024_T04_37_46_checkins.png')"
   ]
  },
  {
   "cell_type": "code",
   "execution_count": null,
   "id": "403544e5",
   "metadata": {},
   "outputs": [],
   "source": [
    "# Push our hex data for location ID scraping to the bucket\n"
   ]
  },
  {
   "cell_type": "markdown",
   "id": "2e84765e",
   "metadata": {},
   "source": [
    "# Working with Google Cloud BigQuery\n",
    "\n",
    "It has a free tier and seems to be a good choice for our needs at the moment, at least for an MVP."
   ]
  },
  {
   "cell_type": "code",
   "execution_count": null,
   "id": "817a5027",
   "metadata": {},
   "outputs": [],
   "source": [
    "# Test grabbing some data\n",
    "from google.cloud import bigquery\n",
    "\n",
    "client = bigquery.Client()\n",
    "\n",
    "# Perform a query.\n",
    "QUERY = (\n",
    "    'SELECT name FROM `bigquery-public-data.usa_names.usa_1910_2013` '\n",
    "    'WHERE state = \"TX\" '\n",
    "    'LIMIT 100')\n",
    "query_job = client.query(QUERY)  # API request\n",
    "rows = query_job.result()  # Waits for query to finish\n",
    "\n",
    "for row in rows:\n",
    "    print(row.name)"
   ]
  },
  {
   "cell_type": "code",
   "execution_count": 4,
   "id": "a574e57c",
   "metadata": {},
   "outputs": [
    {
     "name": "stdout",
     "output_type": "stream",
     "text": [
      "<class 'pandas.core.frame.DataFrame'>\n",
      "RangeIndex: 10 entries, 0 to 9\n",
      "Data columns (total 2 columns):\n",
      " #   Column  Non-Null Count  Dtype \n",
      "---  ------  --------------  ----- \n",
      " 0   name    10 non-null     object\n",
      " 1   count   10 non-null     Int64 \n",
      "dtypes: Int64(1), object(1)\n",
      "memory usage: 302.0+ bytes\n"
     ]
    },
    {
     "data": {
      "text/html": [
       "<div>\n",
       "<style scoped>\n",
       "    .dataframe tbody tr th:only-of-type {\n",
       "        vertical-align: middle;\n",
       "    }\n",
       "\n",
       "    .dataframe tbody tr th {\n",
       "        vertical-align: top;\n",
       "    }\n",
       "\n",
       "    .dataframe thead th {\n",
       "        text-align: right;\n",
       "    }\n",
       "</style>\n",
       "<table border=\"1\" class=\"dataframe\">\n",
       "  <thead>\n",
       "    <tr style=\"text-align: right;\">\n",
       "      <th></th>\n",
       "      <th>name</th>\n",
       "      <th>count</th>\n",
       "    </tr>\n",
       "  </thead>\n",
       "  <tbody>\n",
       "    <tr>\n",
       "      <th>0</th>\n",
       "      <td>James</td>\n",
       "      <td>5054074</td>\n",
       "    </tr>\n",
       "    <tr>\n",
       "      <th>1</th>\n",
       "      <td>John</td>\n",
       "      <td>4910976</td>\n",
       "    </tr>\n",
       "    <tr>\n",
       "      <th>2</th>\n",
       "      <td>Robert</td>\n",
       "      <td>4763102</td>\n",
       "    </tr>\n",
       "    <tr>\n",
       "      <th>3</th>\n",
       "      <td>Michael</td>\n",
       "      <td>4396482</td>\n",
       "    </tr>\n",
       "    <tr>\n",
       "      <th>4</th>\n",
       "      <td>William</td>\n",
       "      <td>3939912</td>\n",
       "    </tr>\n",
       "  </tbody>\n",
       "</table>\n",
       "</div>"
      ],
      "text/plain": [
       "      name    count\n",
       "0    James  5054074\n",
       "1     John  4910976\n",
       "2   Robert  4763102\n",
       "3  Michael  4396482\n",
       "4  William  3939912"
      ]
     },
     "execution_count": 4,
     "metadata": {},
     "output_type": "execute_result"
    }
   ],
   "source": [
    "from evlens.data.google_cloud import bigquery_to_dataframe\n",
    "\n",
    "query = \"\"\"\n",
    "SELECT name, SUM(number) as count\n",
    "FROM `bigquery-public-data.usa_names.usa_1910_current`\n",
    "GROUP BY name\n",
    "ORDER BY count DESC\n",
    "LIMIT 10\n",
    "\"\"\"\n",
    "\n",
    "df = bigquery_to_dataframe(query)\n",
    "df.info()\n",
    "df.head()"
   ]
  },
  {
   "cell_type": "code",
   "execution_count": null,
   "id": "84d77e14",
   "metadata": {},
   "outputs": [],
   "source": []
  }
 ],
 "metadata": {
  "kernelspec": {
   "display_name": ".venv",
   "language": "python",
   "name": "python3"
  },
  "language_info": {
   "codemirror_mode": {
    "name": "ipython",
    "version": 3
   },
   "file_extension": ".py",
   "mimetype": "text/x-python",
   "name": "python",
   "nbconvert_exporter": "python",
   "pygments_lexer": "ipython3",
   "version": "3.11.5"
  }
 },
 "nbformat": 4,
 "nbformat_minor": 5
}
