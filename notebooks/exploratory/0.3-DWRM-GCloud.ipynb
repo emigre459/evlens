{
 "cells": [
  {
   "cell_type": "markdown",
   "id": "bddfc535-9593-42fe-8b05-4680ba70926a",
   "metadata": {},
   "source": [
    "# Purpose\n",
    "\n",
    "Figure out pulling location IDs for only DCFC US (non-Tesla to start with) in the US. Need location IDs to efficiently scrape Plugshare with some of our other code."
   ]
  },
  {
   "cell_type": "markdown",
   "id": "9005defb-b608-430d-b91a-c384cf8bed2e",
   "metadata": {},
   "source": [
    "# Imports"
   ]
  },
  {
   "cell_type": "code",
   "execution_count": 1,
   "id": "0f1b5e06",
   "metadata": {},
   "outputs": [
    {
     "name": "stderr",
     "output_type": "stream",
     "text": [
      "2024-07-01_T17_45_04CDT: INFO (Notebook-0.3:L25) - TEST!\n"
     ]
    }
   ],
   "source": [
    "\n",
    "%load_ext autoreload\n",
    "%autoreload 2\n",
    "\n",
    "import numpy as np\n",
    "from rich import print\n",
    "import os\n",
    "import pandas as pd\n",
    "from bs4 import BeautifulSoup\n",
    "import requests\n",
    "from tqdm import tqdm\n",
    "from typing import List, Union, Set\n",
    "\n",
    "# from torch.utils.data import DataLoader\n",
    "\n",
    "from evlens.data.plugshare import MainMapScraper\n",
    "\n",
    "# Electrify America in Springfield, VA mall parking lot\n",
    "TEST_LOCATION = 252784\n",
    "\n",
    "from dotenv import load_dotenv\n",
    "load_dotenv(override=True)\n",
    "\n",
    "from evlens.logs import setup_logger\n",
    "logger = setup_logger(\"Notebook-0.3\")\n",
    "logger.info(\"TEST!\")"
   ]
  },
  {
   "cell_type": "markdown",
   "id": "b2bcfa9d",
   "metadata": {},
   "source": [
    "# Set up our constants"
   ]
  },
  {
   "cell_type": "code",
   "execution_count": 2,
   "id": "2d1f7939",
   "metadata": {},
   "outputs": [],
   "source": [
    "# URL = \"https://developer.plugshare.com/embed\"\n",
    "location_id = 252784\n",
    "URL = f\"https://www.plugshare.com/location/{location_id}\""
   ]
  },
  {
   "cell_type": "markdown",
   "id": "d87555de",
   "metadata": {},
   "source": [
    "# Try uploading a screenshot to GCP Cloud Storage\n",
    "\n",
    "This isn't datatabase stuff but useful for scraping and *should* be easy to do..."
   ]
  },
  {
   "cell_type": "code",
   "execution_count": 7,
   "id": "040bcafe",
   "metadata": {},
   "outputs": [
    {
     "name": "stderr",
     "output_type": "stream",
     "text": [
      "2024-07-01_T17_53_05CDT: INFO (evlens.data.google_cloud:L41) - File ../../data/external/plugshare/06-30-2024/errors/07-01-2024_T04_37_46_checkins.png uploaded to errors/07-01-2024_T04_37_46_checkins.png.\n"
     ]
    }
   ],
   "source": [
    "from evlens.data.google_cloud import upload_blob\n",
    "\n",
    "upload_blob('plugshare_scraping', '../../data/external/plugshare/06-30-2024/errors/07-01-2024_T04_37_46_checkins.png', 'errors/07-01-2024_T04_37_46_checkins.png')"
   ]
  },
  {
   "cell_type": "code",
   "execution_count": null,
   "id": "4dc9e814",
   "metadata": {},
   "outputs": [],
   "source": []
  }
 ],
 "metadata": {
  "kernelspec": {
   "display_name": ".venv",
   "language": "python",
   "name": "python3"
  },
  "language_info": {
   "codemirror_mode": {
    "name": "ipython",
    "version": 3
   },
   "file_extension": ".py",
   "mimetype": "text/x-python",
   "name": "python",
   "nbconvert_exporter": "python",
   "pygments_lexer": "ipython3",
   "version": "3.11.5"
  }
 },
 "nbformat": 4,
 "nbformat_minor": 5
}
