{
 "cells": [
  {
   "cell_type": "markdown",
   "metadata": {},
   "source": [
    "# Purpose\n",
    "\n",
    "Figure out exactly how to run CodeCarbon.io and decide if there is an interesting use case to explore further with it."
   ]
  },
  {
   "cell_type": "code",
   "execution_count": 1,
   "metadata": {},
   "outputs": [
    {
     "name": "stdout",
     "output_type": "stream",
     "text": [
      "\n",
      "Welcome to CodeCarbon, here is your experiment id:\n",
      "\u001b[92m85b8fe08-4b8c-4041-8231-1b9c219a358a\u001b[0m\n",
      "\n",
      "CodeCarbon automatically added this id to your local config: \u001b[94m./.codecarbon.config\u001b[0m\n",
      "\n"
     ]
    }
   ],
   "source": [
    "# Get a CodeCarbon experiment ID\n",
    "!codecarbon init"
   ]
  },
  {
   "cell_type": "code",
   "execution_count": 2,
   "metadata": {},
   "outputs": [],
   "source": [
    "# Use the decorator approach (you can also use an explicit object or a context \n",
    "# manager)\n",
    "from codecarbon import track_emissions\n",
    "@track_emissions(offline=True, country_iso_code=\"USA\")\n",
    "def fibonacci(i=2, i2=3):\n",
    "    return i + i2"
   ]
  },
  {
   "cell_type": "code",
   "execution_count": 3,
   "metadata": {},
   "outputs": [
    {
     "name": "stderr",
     "output_type": "stream",
     "text": [
      "[codecarbon INFO @ 21:40:22] offline tracker init\n",
      "[codecarbon INFO @ 21:40:22] [setup] RAM Tracking...\n",
      "[codecarbon INFO @ 21:40:22] [setup] GPU Tracking...\n",
      "[codecarbon INFO @ 21:40:22] No GPU found.\n",
      "[codecarbon INFO @ 21:40:22] [setup] CPU Tracking...\n",
      "[codecarbon WARNING @ 21:40:22] No CPU tracking mode found. Falling back on CPU constant mode.\n",
      "[codecarbon WARNING @ 21:40:22] We saw that you have a Apple M2 Max but we don't know it. Please contact us.\n",
      "[codecarbon INFO @ 21:40:22] CPU Model on constant consumption mode: Apple M2 Max\n",
      "[codecarbon INFO @ 21:40:22] >>> Tracker's metadata:\n",
      "[codecarbon INFO @ 21:40:22]   Platform system: macOS-14.2-arm64-arm-64bit\n",
      "[codecarbon INFO @ 21:40:22]   Python version: 3.11.5\n",
      "[codecarbon INFO @ 21:40:22]   CodeCarbon version: 2.3.4\n",
      "[codecarbon INFO @ 21:40:22]   Available RAM : 64.000 GB\n",
      "[codecarbon INFO @ 21:40:22]   CPU count: 12\n",
      "[codecarbon INFO @ 21:40:22]   CPU model: Apple M2 Max\n",
      "[codecarbon INFO @ 21:40:22]   GPU count: None\n",
      "[codecarbon INFO @ 21:40:22]   GPU model: None\n",
      "[codecarbon INFO @ 21:40:22] \n",
      "Graceful stopping: collecting and writing information.\n",
      "Please wait a few seconds...\n",
      "[codecarbon INFO @ 21:40:22] Energy consumed for RAM : 0.000000 kWh. RAM Power : 24.0 W\n",
      "[codecarbon INFO @ 21:40:22] Energy consumed for all CPUs : 0.000000 kWh. Total CPU Power : 42.5 W\n",
      "[codecarbon INFO @ 21:40:22] 0.000000 kWh of electricity used since the beginning.\n",
      "/Users/davemcrench/Documents/Projects/evlens/.venv/lib/python3.11/site-packages/codecarbon/output.py:168: FutureWarning: The behavior of DataFrame concatenation with empty or all-NA entries is deprecated. In a future version, this will no longer exclude empty or all-NA columns when determining the result dtypes. To retain the old behavior, exclude the relevant entries before the concat operation.\n",
      "  df = pd.concat([df, pd.DataFrame.from_records([dict(data.values)])])\n",
      "[codecarbon INFO @ 21:40:22] Done!\n",
      "\n"
     ]
    },
    {
     "data": {
      "text/plain": [
       "5"
      ]
     },
     "execution_count": 3,
     "metadata": {},
     "output_type": "execute_result"
    }
   ],
   "source": [
    "fibonacci(2,3)"
   ]
  },
  {
   "cell_type": "code",
   "execution_count": null,
   "metadata": {},
   "outputs": [],
   "source": []
  }
 ],
 "metadata": {
  "kernelspec": {
   "display_name": ".venv",
   "language": "python",
   "name": "python3"
  },
  "language_info": {
   "codemirror_mode": {
    "name": "ipython",
    "version": 3
   },
   "file_extension": ".py",
   "mimetype": "text/x-python",
   "name": "python",
   "nbconvert_exporter": "python",
   "pygments_lexer": "ipython3",
   "version": "3.11.5"
  }
 },
 "nbformat": 4,
 "nbformat_minor": 2
}
