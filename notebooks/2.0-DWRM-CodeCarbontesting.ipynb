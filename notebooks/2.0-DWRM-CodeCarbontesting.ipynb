{
 "cells": [
  {
   "cell_type": "markdown",
   "metadata": {},
   "source": [
    "# Purpose\n",
    "\n",
    "Figure out exactly how to run CodeCarbon.io and decide if there is an interesting use case to explore further with it."
   ]
  },
  {
   "cell_type": "code",
   "execution_count": 1,
   "metadata": {},
   "outputs": [
    {
     "name": "stdout",
     "output_type": "stream",
     "text": [
      "\n",
      "Welcome to CodeCarbon, here is your experiment id:\n",
      "\u001b[92m85b8fe08-4b8c-4041-8231-1b9c219a358a\u001b[0m\n",
      "\n",
      "CodeCarbon automatically added this id to your local config: \u001b[94m./.codecarbon.config\u001b[0m\n",
      "\n"
     ]
    }
   ],
   "source": [
    "# Get a CodeCarbon experiment ID\n",
    "!codecarbon init"
   ]
  },
  {
   "cell_type": "markdown",
   "metadata": {},
   "source": [
    "# Imports"
   ]
  },
  {
   "cell_type": "markdown",
   "metadata": {},
   "source": []
  }
 ],
 "metadata": {
  "kernelspec": {
   "display_name": ".venv",
   "language": "python",
   "name": "python3"
  },
  "language_info": {
   "codemirror_mode": {
    "name": "ipython",
    "version": 3
   },
   "file_extension": ".py",
   "mimetype": "text/x-python",
   "name": "python",
   "nbconvert_exporter": "python",
   "pygments_lexer": "ipython3",
   "version": "3.11.5"
  }
 },
 "nbformat": 4,
 "nbformat_minor": 2
}
