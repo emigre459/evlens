{
 "cells": [
  {
   "cell_type": "markdown",
   "id": "bddfc535-9593-42fe-8b05-4680ba70926a",
   "metadata": {},
   "source": [
    "# Purpose\n",
    "\n",
    "Find a way to get data from Plugshare.com since they're not responding to my API access request. The comments and metadata from stations across different networks should be extremely useful in diagnosing electrical and non-electrical customer experience issues."
   ]
  },
  {
   "cell_type": "markdown",
   "id": "9005defb-b608-430d-b91a-c384cf8bed2e",
   "metadata": {},
   "source": [
    "# Imports"
   ]
  },
  {
   "cell_type": "code",
   "execution_count": 1,
   "id": "8eadbe4f-bacf-4f41-9ffa-07e3d1e29d8f",
   "metadata": {},
   "outputs": [
    {
     "name": "stderr",
     "output_type": "stream",
     "text": [
      "2024-06-13_T20_30_55EDT: INFO (Notebook-0.1:L18) - TEST!\n"
     ]
    }
   ],
   "source": [
    "%load_ext autoreload\n",
    "%autoreload 2\n",
    "\n",
    "import numpy as np\n",
    "from rich import print\n",
    "import os\n",
    "import pandas as pd\n",
    "from bs4 import BeautifulSoup\n",
    "import requests\n",
    "\n",
    "from evlens.data.plugshare import Scraper\n",
    "\n",
    "from dotenv import load_dotenv\n",
    "load_dotenv(override=True)\n",
    "\n",
    "from evlens.logs import setup_logger\n",
    "logger = setup_logger(\"Notebook-0.1\")\n",
    "logger.info(\"TEST!\")"
   ]
  },
  {
   "cell_type": "markdown",
   "id": "16cd2cc8",
   "metadata": {},
   "source": [
    "# Testing our custom scraper"
   ]
  },
  {
   "cell_type": "code",
   "execution_count": 2,
   "id": "a6596cd3",
   "metadata": {},
   "outputs": [],
   "source": [
    "# Electrify America in Springfield, VA mall parking lot\n",
    "TEST_LOCATION = 252784"
   ]
  },
  {
   "cell_type": "code",
   "execution_count": 32,
   "id": "fcbb9504",
   "metadata": {},
   "outputs": [
    {
     "name": "stderr",
     "output_type": "stream",
     "text": [
      "2024-06-16_T14_00_38EDT: INFO (Notebook-0.1:L28) - Found the banner!\n"
     ]
    }
   ],
   "source": [
    "from selenium import webdriver\n",
    "from selenium.webdriver.common.by import By\n",
    "from selenium.webdriver.support.ui import WebDriverWait\n",
    "from selenium.webdriver.chrome.options import Options\n",
    "from selenium.webdriver.support import expected_conditions as EC\n",
    "from selenium.common.exceptions import NoSuchElementException, TimeoutException\n",
    "\n",
    "# Electrify America in Springfield, VA mall parking lot\n",
    "TEST_LOCATION = 252784\n",
    "url = f\"https://www.plugshare.com/location/{TEST_LOCATION}\"\n",
    "\n",
    "chrome_options = Options()\n",
    "# chrome_options.add_argument('--headless=new')\n",
    "chrome_options.add_experimental_option(\"excludeSwitches\", [\"enable-automation\"])\n",
    "\n",
    "driver = webdriver.Chrome(options=chrome_options)\n",
    "\n",
    "driver.get(url)\n",
    "\n",
    "wait = WebDriverWait(driver, 5)\n",
    "\n",
    "# Wait for the cookie dialog to appear\n",
    "try:\n",
    "    iframe = wait.until(EC.visibility_of_element_located((\n",
    "        By.ID,\n",
    "        \"global-consent-notice\"\n",
    "    )))\n",
    "    logger.info(\"Found the banner!\")\n",
    "    \n",
    "except (NoSuchElementException, TimeoutException) as e1:\n",
    "    logger.warning(\"No cookie dialog iframe found, moving on!\")"
   ]
  },
  {
   "cell_type": "code",
   "execution_count": 68,
   "id": "58a244f7",
   "metadata": {},
   "outputs": [
    {
     "data": {
      "text/plain": [
       "1"
      ]
     },
     "execution_count": 68,
     "metadata": {},
     "output_type": "execute_result"
    }
   ],
   "source": [
    "results = driver.find_elements(By.ID, \"global-consent-notice\")\n",
    "len(results)"
   ]
  },
  {
   "cell_type": "code",
   "execution_count": 74,
   "id": "77ee49d6",
   "metadata": {},
   "outputs": [
    {
     "data": {
      "text/plain": [
       "'f.16AFDF4310127F02E90EF1E40AFE08C4.d.E4B2C29C6FE2C310BB0D15345750526D.e.162'"
      ]
     },
     "execution_count": 74,
     "metadata": {},
     "output_type": "execute_result"
    }
   ],
   "source": [
    "main_iframe = results[0]\n",
    "main_id = main_iframe.id\n",
    "main_id"
   ]
  },
  {
   "cell_type": "code",
   "execution_count": 75,
   "id": "5daf671e",
   "metadata": {},
   "outputs": [
    {
     "data": {
      "text/html": [
       "<pre style=\"white-space:pre;overflow-x:auto;line-height:normal;font-family:Menlo,'DejaVu Sans Mono',consolas,'Courier New',monospace\">Found `main_id` in IFRAMES<span style=\"font-weight: bold\">[</span><span style=\"color: #008080; text-decoration-color: #008080; font-weight: bold\">0</span><span style=\"font-weight: bold\">][</span><span style=\"color: #008080; text-decoration-color: #008080; font-weight: bold\">8</span><span style=\"font-weight: bold\">]</span>\n",
       "</pre>\n"
      ],
      "text/plain": [
       "Found `main_id` in IFRAMES\u001b[1m[\u001b[0m\u001b[1;36m0\u001b[0m\u001b[1m]\u001b[0m\u001b[1m[\u001b[0m\u001b[1;36m8\u001b[0m\u001b[1m]\u001b[0m\n"
      ]
     },
     "metadata": {},
     "output_type": "display_data"
    }
   ],
   "source": [
    "for i, IFRAME in enumerate(IFRAMES):\n",
    "    for j, iframe in enumerate(IFRAME):\n",
    "        if iframe.id == main_id:\n",
    "            print(f\"Found `main_id` in IFRAMES[{i}][{j}]\")"
   ]
  },
  {
   "cell_type": "code",
   "execution_count": 79,
   "id": "04625c12",
   "metadata": {},
   "outputs": [
    {
     "data": {
      "text/plain": [
       "[]"
      ]
     },
     "execution_count": 79,
     "metadata": {},
     "output_type": "execute_result"
    }
   ],
   "source": [
    "# Does the dialog iframe have other iframes?\n",
    "\n",
    "driver.switch_to.frame(main_iframe)\n",
    "driver.find_elements(By.TAG_NAME, \"iframe\")\n",
    "\n",
    "# No child iframes found..."
   ]
  },
  {
   "cell_type": "code",
   "execution_count": 81,
   "id": "79498af2",
   "metadata": {},
   "outputs": [
    {
     "data": {
      "text/plain": [
       "1"
      ]
     },
     "execution_count": 81,
     "metadata": {},
     "output_type": "execute_result"
    }
   ],
   "source": [
    "# Can I find the Accept button?\n",
    "main_buttons = driver.find_elements(By.TAG_NAME, \"button\")\n",
    "len(main_buttons)"
   ]
  },
  {
   "cell_type": "code",
   "execution_count": 83,
   "id": "4703bd8d",
   "metadata": {},
   "outputs": [
    {
     "data": {
      "text/plain": [
       "'f.3390C00A4C87815493BD64831889EBE0.d.2E17957C23E49B6AF2E621E995A036DA.e.12'"
      ]
     },
     "execution_count": 83,
     "metadata": {},
     "output_type": "execute_result"
    }
   ],
   "source": [
    "# There's only one button\n",
    "main_button = main_buttons[0]\n",
    "main_button.id"
   ]
  },
  {
   "cell_type": "code",
   "execution_count": 84,
   "id": "de31a7d3",
   "metadata": {},
   "outputs": [],
   "source": [
    "# What if we just click it and accept cookies?\n",
    "main_button.click()"
   ]
  },
  {
   "cell_type": "code",
   "execution_count": 65,
   "id": "78b1e4bb",
   "metadata": {},
   "outputs": [
    {
     "data": {
      "text/plain": [
       "14"
      ]
     },
     "execution_count": 65,
     "metadata": {},
     "output_type": "execute_result"
    }
   ],
   "source": [
    "# Figure out clicking that damned iframe...\n",
    "IFRAMES = []\n",
    "driver.switch_to.default_content()\n",
    "def find_all_iframes(driver, iframes):\n",
    "    iframes_found = driver.find_elements(By.TAG_NAME, \"iframe\")\n",
    "    iframes.append(iframes_found)\n",
    "    for iframe in iframes_found:\n",
    "        # Your sweet business logic applied to iframe goes here.\n",
    "        driver.switch_to.frame(iframe)\n",
    "        find_all_iframes(driver, iframes)\n",
    "        driver.switch_to.parent_frame()\n",
    "        \n",
    "find_all_iframes(driver, IFRAMES)\n",
    "\n",
    "driver.switch_to.default_content()\n",
    "IFRAMES = [i for i in IFRAMES if len(i) > 0]\n",
    "len(IFRAMES)"
   ]
  },
  {
   "cell_type": "code",
   "execution_count": 66,
   "id": "915dfd7f",
   "metadata": {},
   "outputs": [
    {
     "data": {
      "text/plain": [
       "[18, 1, 11, 2, 6, 2, 2, 19, 9, 3, 1, 16, 1, 1]"
      ]
     },
     "execution_count": 66,
     "metadata": {},
     "output_type": "execute_result"
    }
   ],
   "source": [
    "[len(i) for i in IFRAMES]"
   ]
  },
  {
   "cell_type": "markdown",
   "id": "e6d40e45",
   "metadata": {},
   "source": [
    "Enumerating based off of the list at index `i` in `IFRAMES[i]`:\n",
    "\n",
    "1. \n",
    "2. "
   ]
  },
  {
   "cell_type": "code",
   "execution_count": 28,
   "id": "26850263",
   "metadata": {},
   "outputs": [
    {
     "name": "stderr",
     "output_type": "stream",
     "text": [
      "2024-06-14_T09_23_20EDT: ERROR (Notebook-0.1:L14) - Login dialog exit button not found.\n"
     ]
    }
   ],
   "source": [
    "# Switch back to main frame\n",
    "driver.switch_to.default_content()\n",
    "\n",
    "# Exit login dialog\n",
    "try:\n",
    "    # Wait for the exit button\n",
    "    wait = WebDriverWait(driver, 1)\n",
    "    esc_button = wait.until(EC.visibility_of_element_located((\n",
    "        By.XPATH,\n",
    "        # \"//*[@id=\\\"dialogContent_authenticate\\\"]/button/md-icon\" # old\n",
    "        \"//*[@id=\\\"dialogContent_authenticate\\\"]/button\" # from chrome\n",
    "    )))\n",
    "    esc_button.click()\n",
    "    logger.info(\"Found the login escape button and clicked it!\")\n",
    "\n",
    "except (NoSuchElementException, TimeoutException):\n",
    "    logger.error(\"Login dialog exit button not found.\")\n",
    "\n",
    "except Exception as e:\n",
    "    logger.error(f\"Unknown error trying to exit login dialog: {e}\")"
   ]
  },
  {
   "cell_type": "code",
   "execution_count": null,
   "id": "16aadf85",
   "metadata": {},
   "outputs": [],
   "source": []
  },
  {
   "cell_type": "code",
   "execution_count": 29,
   "id": "6eaee754",
   "metadata": {},
   "outputs": [
    {
     "name": "stderr",
     "output_type": "stream",
     "text": [
      "2024-06-14_T09_24_24EDT: ERROR (Notebook-0.1:L12) - Station name error\n",
      "Traceback (most recent call last):\n",
      "  File \"/var/folders/98/fhwnl49n19l_xywxzghbm4jm0000gn/T/ipykernel_58677/2682536154.py\", line 3, in <module>\n",
      "    wait.until(EC.visibility_of_element_located((\n",
      "  File \"/Users/davemcrench/Documents/Projects/evlens/.venv/lib/python3.11/site-packages/selenium/webdriver/support/wait.py\", line 105, in until\n",
      "    raise TimeoutException(message, screen, stacktrace)\n",
      "selenium.common.exceptions.TimeoutException: Message: \n",
      "\n"
     ]
    },
    {
     "data": {
      "text/plain": [
       "nan"
      ]
     },
     "execution_count": 29,
     "metadata": {},
     "output_type": "execute_result"
    }
   ],
   "source": [
    "# Do a single element scrape\n",
    "try: ## FIND STATION NAME\n",
    "    wait.until(EC.visibility_of_element_located((\n",
    "        By.XPATH,\n",
    "        \"//*[@id=\\\"display-name\\\"]/div/h1\"\n",
    "    )))\n",
    "    name = driver.find_element(\n",
    "        By.XPATH,\n",
    "        \"//*[@id=\\\"display-name\\\"]/div/h1\"\n",
    "        ).text\n",
    "except:\n",
    "    logger.error(\"Station name error\", exc_info=True)\n",
    "    name = np.nan\n",
    "    \n",
    "name"
   ]
  },
  {
   "cell_type": "code",
   "execution_count": 25,
   "id": "ef967e8a",
   "metadata": {},
   "outputs": [],
   "source": [
    "driver.quit()"
   ]
  },
  {
   "cell_type": "code",
   "execution_count": null,
   "id": "4cc59a40",
   "metadata": {},
   "outputs": [],
   "source": []
  },
  {
   "cell_type": "code",
   "execution_count": null,
   "id": "53e3d648",
   "metadata": {},
   "outputs": [],
   "source": []
  },
  {
   "cell_type": "code",
   "execution_count": 28,
   "id": "76d11584",
   "metadata": {},
   "outputs": [],
   "source": [
    "# Why is it taking so long to even *start* trying to exit the login dialog?!\n",
    "s = Scraper(timeout=3)\n",
    "\n",
    "# Scrape only one location that I can test via browser\n",
    "df = s.scrape_plugshare_locations(TEST_LOCATION, TEST_LOCATION)\n",
    "df.info()\n",
    "df.head()"
   ]
  },
  {
   "cell_type": "code",
   "execution_count": 19,
   "id": "d57a137c",
   "metadata": {},
   "outputs": [
    {
     "data": {
      "text/plain": [
       "'J-1772 1 Plug 7 kW\\n1 Station\\nElectrify America, CCS/SAE 3 Plugs 350 kW\\n3 Stations\\nElectrify America, , Jun 7, 2024\\ncheck_circleJ C\\nBMW iX 2024, Jun 5, 2024\\ncheck_circleKJva\\nMercedes EQE 350350 Kilowatts, May 30, 2024\\ncheck_circleKJva\\nMercedes EQE 350350 Kilowatts, May 24, 2024\\ncheck_circleBEV\\nChevrolet Blazer EV 2024\\nSo far so good! Screen is cracked on the charger, difficult to read the prompts… but I guess it doesn’t matter if it charges!, May 24, 2024\\ncheck_circleKMac\\nKia EV6 2022235 Kilowatts\\nScreen on 1 not working but can charge through the app, 0.08 mi\\n9.3 Springfield Town Center - Target - East Lot (2)\\nJ-1772, 0.18 mi\\n4.8 Springfield Town Center - LA Fitness\\nJ-1772, 0.22 mi\\n1 Springfield Town Center - Frontier Garage\\nJ-1772, 0.22 mi\\n10 Springfield Town Center - Target - West Lot\\nNACS (Tesla), 0.23 mi\\n4.7 Springfield Town Center - Maggianos\\nJ-1772, , , '"
      ]
     },
     "execution_count": 19,
     "metadata": {},
     "output_type": "execute_result"
    }
   ],
   "source": [
    "df.loc[0, 'Comments']"
   ]
  },
  {
   "cell_type": "code",
   "execution_count": null,
   "id": "e960a02e",
   "metadata": {},
   "outputs": [],
   "source": []
  }
 ],
 "metadata": {
  "kernelspec": {
   "display_name": ".venv",
   "language": "python",
   "name": "python3"
  },
  "language_info": {
   "codemirror_mode": {
    "name": "ipython",
    "version": 3
   },
   "file_extension": ".py",
   "mimetype": "text/x-python",
   "name": "python",
   "nbconvert_exporter": "python",
   "pygments_lexer": "ipython3",
   "version": "3.11.5"
  }
 },
 "nbformat": 4,
 "nbformat_minor": 5
}
