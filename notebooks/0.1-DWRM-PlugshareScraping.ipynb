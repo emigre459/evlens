{
 "cells": [
  {
   "cell_type": "markdown",
   "id": "bddfc535-9593-42fe-8b05-4680ba70926a",
   "metadata": {},
   "source": [
    "# Purpose\n",
    "\n",
    "Find a way to get data from Plugshare.com since they're not responding to my API access request. The comments and metadata from stations across different networks should be extremely useful in diagnosing electrical and non-electrical customer experience issues."
   ]
  },
  {
   "cell_type": "markdown",
   "id": "9005defb-b608-430d-b91a-c384cf8bed2e",
   "metadata": {},
   "source": [
    "# Imports"
   ]
  },
  {
   "cell_type": "code",
   "execution_count": 1,
   "id": "8eadbe4f-bacf-4f41-9ffa-07e3d1e29d8f",
   "metadata": {},
   "outputs": [
    {
     "name": "stderr",
     "output_type": "stream",
     "text": [
      "2024-06-16_T22_10_52EDT: INFO (Notebook-0.1:L18) - TEST!\n"
     ]
    }
   ],
   "source": [
    "%load_ext autoreload\n",
    "%autoreload 2\n",
    "\n",
    "import numpy as np\n",
    "from rich import print\n",
    "import os\n",
    "import pandas as pd\n",
    "from bs4 import BeautifulSoup\n",
    "import requests\n",
    "\n",
    "from evlens.data.plugshare import Scraper\n",
    "\n",
    "from dotenv import load_dotenv\n",
    "load_dotenv(override=True)\n",
    "\n",
    "from evlens.logs import setup_logger\n",
    "logger = setup_logger(\"Notebook-0.1\")\n",
    "logger.info(\"TEST!\")"
   ]
  },
  {
   "cell_type": "code",
   "execution_count": 2,
   "id": "d3654895",
   "metadata": {},
   "outputs": [],
   "source": [
    "# Electrify America in Springfield, VA mall parking lot\n",
    "TEST_LOCATION = 252784"
   ]
  },
  {
   "cell_type": "markdown",
   "id": "16cd2cc8",
   "metadata": {},
   "source": [
    "# Testing our custom scraper"
   ]
  },
  {
   "cell_type": "code",
   "execution_count": 78,
   "id": "fcbb9504",
   "metadata": {},
   "outputs": [
    {
     "name": "stderr",
     "output_type": "stream",
     "text": [
      "2024-06-16_T16_03_39EDT: INFO (Notebook-0.1:L31) - Found the banner!\n"
     ]
    }
   ],
   "source": [
    "from selenium import webdriver\n",
    "from selenium.webdriver.common.by import By\n",
    "from selenium.webdriver.support.ui import WebDriverWait\n",
    "from selenium.webdriver.chrome.options import Options\n",
    "from selenium.webdriver.support import expected_conditions as EC\n",
    "from selenium.common.exceptions import NoSuchElementException, TimeoutException\n",
    "\n",
    "# Electrify America in Springfield, VA mall parking lot\n",
    "TEST_LOCATION = 252784\n",
    "url = f\"https://www.plugshare.com/location/{TEST_LOCATION}\"\n",
    "\n",
    "chrome_options = Options()\n",
    "# chrome_options.add_argument('--headless=new')\n",
    "chrome_options.add_experimental_option(\"excludeSwitches\", [\"enable-automation\"])\n",
    "chrome_options.add_argument(\"--disable-extensions\")\n",
    "\n",
    "driver = webdriver.Chrome(options=chrome_options)\n",
    "driver.maximize_window()\n",
    "\n",
    "driver.get(url)\n",
    "\n",
    "\n",
    "wait = WebDriverWait(driver, 5)\n",
    "\n",
    "# Wait for the cookie dialog to appear\n",
    "try:\n",
    "    iframe = wait.until(EC.visibility_of_element_located((\n",
    "        By.ID,\n",
    "        \"global-consent-notice\"\n",
    "    )))\n",
    "    logger.info(\"Found the banner!\")\n",
    "    driver.switch_to.frame(iframe)\n",
    "    \n",
    "except (NoSuchElementException, TimeoutException) as e1:\n",
    "    logger.warning(\"No cookie dialog iframe found, moving on!\")"
   ]
  },
  {
   "cell_type": "markdown",
   "id": "20b5270f",
   "metadata": {},
   "source": [
    "*Note that the only button is the Accept one, we need another mechanism for finding the Manage Settings link...*"
   ]
  },
  {
   "cell_type": "code",
   "execution_count": 79,
   "id": "eb09c630",
   "metadata": {},
   "outputs": [
    {
     "data": {
      "text/plain": [
       "<selenium.webdriver.remote.webelement.WebElement (session=\"5fefa6b7c37ee906f2cff31d1ecc7a9e\", element=\"f.E6EB0A15BAB1CC4BE0B30E3921F6534E.d.99CDEDC2E7F962853D2B80E20931F10A.e.8\")>"
      ]
     },
     "execution_count": 79,
     "metadata": {},
     "output_type": "execute_result"
    }
   ],
   "source": [
    "# Example: Find a link with class \"my-link\" and href attribute starting with \"https://...\"\n",
    "manage_cookies_link = wait.until(EC.element_to_be_clickable((\n",
    "        By.XPATH,\n",
    "        \"/html/body/app-root/app-theme/div/div/app-notice/app-theme/div/div/app-home/div/div[2]/app-footer/div/div/app-section-links/span/a\"\n",
    "    )))\n",
    "manage_cookies_link"
   ]
  },
  {
   "cell_type": "code",
   "execution_count": 80,
   "id": "17231df3",
   "metadata": {},
   "outputs": [],
   "source": [
    "manage_cookies_link.click()"
   ]
  },
  {
   "cell_type": "code",
   "execution_count": 81,
   "id": "a3483742",
   "metadata": {},
   "outputs": [
    {
     "data": {
      "text/plain": [
       "<selenium.webdriver.remote.webelement.WebElement (session=\"5fefa6b7c37ee906f2cff31d1ecc7a9e\", element=\"f.E6EB0A15BAB1CC4BE0B30E3921F6534E.d.99CDEDC2E7F962853D2B80E20931F10A.e.20\")>"
      ]
     },
     "execution_count": 81,
     "metadata": {},
     "output_type": "execute_result"
    }
   ],
   "source": [
    "reject_all_button = wait.until(EC.element_to_be_clickable((\n",
    "        By.XPATH,\n",
    "        \"//*[@id=\\\"denyAll\\\"]\"\n",
    "    )))\n",
    "reject_all_button"
   ]
  },
  {
   "cell_type": "code",
   "execution_count": 82,
   "id": "91c2c918",
   "metadata": {},
   "outputs": [],
   "source": [
    "reject_all_button.click()"
   ]
  },
  {
   "cell_type": "code",
   "execution_count": 83,
   "id": "c7af4128",
   "metadata": {},
   "outputs": [
    {
     "data": {
      "text/plain": [
       "<selenium.webdriver.remote.webelement.WebElement (session=\"5fefa6b7c37ee906f2cff31d1ecc7a9e\", element=\"f.E6EB0A15BAB1CC4BE0B30E3921F6534E.d.99CDEDC2E7F962853D2B80E20931F10A.e.580\")>"
      ]
     },
     "execution_count": 83,
     "metadata": {},
     "output_type": "execute_result"
    }
   ],
   "source": [
    "reject_all_button_confirm = wait.until(EC.element_to_be_clickable((\n",
    "        By.XPATH,\n",
    "        \"//*[@id=\\\"mat-dialog-0\\\"]/ng-component/app-theme/div/div/div[2]/button[2]\"\n",
    "    )))\n",
    "reject_all_button_confirm"
   ]
  },
  {
   "cell_type": "code",
   "execution_count": 84,
   "id": "f2d02336",
   "metadata": {},
   "outputs": [],
   "source": [
    "reject_all_button_confirm.click()"
   ]
  },
  {
   "cell_type": "code",
   "execution_count": 85,
   "id": "26850263",
   "metadata": {},
   "outputs": [
    {
     "name": "stderr",
     "output_type": "stream",
     "text": [
      "2024-06-16_T16_05_14EDT: INFO (Notebook-0.1:L14) - Found the login escape button and clicked it!\n"
     ]
    }
   ],
   "source": [
    "# Switch back to main frame\n",
    "driver.switch_to.default_content()\n",
    "\n",
    "# Exit login dialog\n",
    "try:\n",
    "    # Wait for the exit button\n",
    "    wait = WebDriverWait(driver, 1)\n",
    "    esc_button = wait.until(EC.visibility_of_element_located((\n",
    "        By.XPATH,\n",
    "        # \"//*[@id=\\\"dialogContent_authenticate\\\"]/button/md-icon\" # old\n",
    "        \"//*[@id=\\\"dialogContent_authenticate\\\"]/button\" # from chrome\n",
    "    )))\n",
    "    esc_button.click()\n",
    "    logger.info(\"Found the login escape button and clicked it!\")\n",
    "\n",
    "except (NoSuchElementException, TimeoutException):\n",
    "    logger.error(\"Login dialog exit button not found.\")\n",
    "\n",
    "except Exception as e:\n",
    "    logger.error(f\"Unknown error trying to exit login dialog: {e}\")"
   ]
  },
  {
   "cell_type": "code",
   "execution_count": 86,
   "id": "16aadf85",
   "metadata": {},
   "outputs": [],
   "source": [
    "driver.quit()"
   ]
  },
  {
   "cell_type": "code",
   "execution_count": null,
   "id": "0030b82e",
   "metadata": {},
   "outputs": [],
   "source": [
    "print('a')"
   ]
  },
  {
   "cell_type": "code",
   "execution_count": 29,
   "id": "6eaee754",
   "metadata": {},
   "outputs": [
    {
     "name": "stderr",
     "output_type": "stream",
     "text": [
      "2024-06-14_T09_24_24EDT: ERROR (Notebook-0.1:L12) - Station name error\n",
      "Traceback (most recent call last):\n",
      "  File \"/var/folders/98/fhwnl49n19l_xywxzghbm4jm0000gn/T/ipykernel_58677/2682536154.py\", line 3, in <module>\n",
      "    wait.until(EC.visibility_of_element_located((\n",
      "  File \"/Users/davemcrench/Documents/Projects/evlens/.venv/lib/python3.11/site-packages/selenium/webdriver/support/wait.py\", line 105, in until\n",
      "    raise TimeoutException(message, screen, stacktrace)\n",
      "selenium.common.exceptions.TimeoutException: Message: \n",
      "\n"
     ]
    },
    {
     "data": {
      "text/plain": [
       "nan"
      ]
     },
     "execution_count": 29,
     "metadata": {},
     "output_type": "execute_result"
    }
   ],
   "source": [
    "# Do a single element scrape\n",
    "try: ## FIND STATION NAME\n",
    "    wait.until(EC.visibility_of_element_located((\n",
    "        By.XPATH,\n",
    "        \"//*[@id=\\\"display-name\\\"]/div/h1\"\n",
    "    )))\n",
    "    name = driver.find_element(\n",
    "        By.XPATH,\n",
    "        \"//*[@id=\\\"display-name\\\"]/div/h1\"\n",
    "        ).text\n",
    "except:\n",
    "    logger.error(\"Station name error\", exc_info=True)\n",
    "    name = np.nan\n",
    "    \n",
    "name"
   ]
  },
  {
   "cell_type": "code",
   "execution_count": 25,
   "id": "ef967e8a",
   "metadata": {},
   "outputs": [],
   "source": [
    "driver.quit()"
   ]
  },
  {
   "cell_type": "code",
   "execution_count": null,
   "id": "4cc59a40",
   "metadata": {},
   "outputs": [],
   "source": []
  },
  {
   "cell_type": "code",
   "execution_count": 13,
   "id": "53e3d648",
   "metadata": {},
   "outputs": [
    {
     "data": {
      "text/plain": [
       "0"
      ]
     },
     "execution_count": 13,
     "metadata": {},
     "output_type": "execute_result"
    }
   ],
   "source": [
    "100 % 100"
   ]
  },
  {
   "cell_type": "markdown",
   "id": "f02acea2",
   "metadata": {},
   "source": [
    "## Using the Scraper class"
   ]
  },
  {
   "cell_type": "code",
   "execution_count": 5,
   "id": "76d11584",
   "metadata": {},
   "outputs": [
    {
     "name": "stderr",
     "output_type": "stream",
     "text": [
      "2024-06-16_T22_16_16EDT: INFO (evlens.data.plugshare:L201) - Beginning scraping!\n",
      "Parsing stations:   0%|          | 0/1 [00:00<?, ?it/s]2024-06-16_T22_16_19EDT: INFO (evlens.data.plugshare:L81) - Found the cookie banner!\n",
      "2024-06-16_T22_16_19EDT: INFO (evlens.data.plugshare:L85) - Switching to cookie dialog iframe...\n",
      "2024-06-16_T22_16_19EDT: INFO (evlens.data.plugshare:L88) - Selecting 'Manage Settings' link...\n",
      "2024-06-16_T22_16_20EDT: INFO (evlens.data.plugshare:L95) - Clicking 'Reject All' button...\n",
      "2024-06-16_T22_16_22EDT: INFO (evlens.data.plugshare:L102) - Confirming rejection...\n",
      "2024-06-16_T22_16_22EDT: INFO (evlens.data.plugshare:L110) - Switching back to main page content...\n",
      "2024-06-16_T22_16_22EDT: INFO (evlens.data.plugshare:L58) - Attempting to exit login dialog...\n",
      "2024-06-16_T22_16_25EDT: ERROR (evlens.data.plugshare:L69) - Login dialog exit button not found.\n",
      "2024-06-16_T22_16_25EDT: INFO (evlens.data.plugshare:L118) - Starting page scrape...\n",
      "2024-06-16_T22_16_28EDT: ERROR (evlens.data.plugshare:L129) - Station name error\n",
      "Traceback (most recent call last):\n",
      "  File \"/Users/davemcrench/Documents/Projects/evlens/evlens/data/plugshare.py\", line 120, in scrape_location\n",
      "    self.wait.until(EC.visibility_of_element_located((\n",
      "  File \"/Users/davemcrench/Documents/Projects/evlens/.venv/lib/python3.11/site-packages/selenium/webdriver/support/wait.py\", line 105, in until\n",
      "    raise TimeoutException(message, screen, stacktrace)\n",
      "selenium.common.exceptions.TimeoutException: Message: \n",
      "\n",
      "2024-06-16_T22_16_28EDT: ERROR (evlens.data.plugshare:L166) - Check-ins error\n",
      "Traceback (most recent call last):\n",
      "  File \"/Users/davemcrench/Documents/Projects/evlens/evlens/data/plugshare.py\", line 163, in scrape_location\n",
      "    self.checkins = self.checkins.split(' ')[1].split('\\n')[0]\n",
      "                    ~~~~~~~~~~~~~~~~~~~~~~~~^^^\n",
      "IndexError: list index out of range\n",
      "2024-06-16_T22_16_28EDT: INFO (evlens.data.plugshare:L197) - Page scrape complete!\n",
      "2024-06-16_T22_16_28EDT: INFO (evlens.data.plugshare:L231) - Sleeping for 5 seconds\n",
      "Parsing stations: 100%|██████████| 1/1 [00:17<00:00, 17.42s/it]\n",
      "2024-06-16_T22_16_34EDT: INFO (evlens.data.plugshare:L237) - Scraping complete!\n"
     ]
    },
    {
     "name": "stdout",
     "output_type": "stream",
     "text": [
      "<class 'pandas.core.frame.DataFrame'>\n",
      "RangeIndex: 1 entries, 0 to 0\n",
      "Data columns (total 8 columns):\n",
      " #   Column    Non-Null Count  Dtype  \n",
      "---  ------    --------------  -----  \n",
      " 0   Name      0 non-null      float64\n",
      " 1   Address   1 non-null      object \n",
      " 2   Rating    1 non-null      object \n",
      " 3   Wattage   1 non-null      object \n",
      " 4   Hours     1 non-null      object \n",
      " 5   Checkins  1 non-null      object \n",
      " 6   Comments  1 non-null      object \n",
      " 7   Car       1 non-null      object \n",
      "dtypes: float64(1), object(7)\n",
      "memory usage: 196.0+ bytes\n"
     ]
    },
    {
     "data": {
      "text/html": [
       "<div>\n",
       "<style scoped>\n",
       "    .dataframe tbody tr th:only-of-type {\n",
       "        vertical-align: middle;\n",
       "    }\n",
       "\n",
       "    .dataframe tbody tr th {\n",
       "        vertical-align: top;\n",
       "    }\n",
       "\n",
       "    .dataframe thead th {\n",
       "        text-align: right;\n",
       "    }\n",
       "</style>\n",
       "<table border=\"1\" class=\"dataframe\">\n",
       "  <thead>\n",
       "    <tr style=\"text-align: right;\">\n",
       "      <th></th>\n",
       "      <th>Name</th>\n",
       "      <th>Address</th>\n",
       "      <th>Rating</th>\n",
       "      <th>Wattage</th>\n",
       "      <th>Hours</th>\n",
       "      <th>Checkins</th>\n",
       "      <th>Comments</th>\n",
       "      <th>Car</th>\n",
       "    </tr>\n",
       "  </thead>\n",
       "  <tbody>\n",
       "    <tr>\n",
       "      <th>0</th>\n",
       "      <td>NaN</td>\n",
       "      <td></td>\n",
       "      <td></td>\n",
       "      <td></td>\n",
       "      <td></td>\n",
       "      <td></td>\n",
       "      <td>, , ,</td>\n",
       "      <td></td>\n",
       "    </tr>\n",
       "  </tbody>\n",
       "</table>\n",
       "</div>"
      ],
      "text/plain": [
       "   Name Address Rating Wattage Hours Checkins Comments Car\n",
       "0   NaN                                         , , ,     "
      ]
     },
     "execution_count": 5,
     "metadata": {},
     "output_type": "execute_result"
    }
   ],
   "source": [
    "# Why is it taking so long to even *start* trying to exit the login dialog?!\n",
    "s = Scraper(\"../data/external/plugshare/06-16-2024/\", timeout=3, headless=False)\n",
    "\n",
    "# Scrape only one location that I can test via browser\n",
    "df = s.run(1,1)\n",
    "df.info()\n",
    "df.head()"
   ]
  },
  {
   "cell_type": "code",
   "execution_count": 9,
   "id": "d57a137c",
   "metadata": {},
   "outputs": [
    {
     "data": {
      "text/plain": [
       "'J-1772 1 Plug 7 kW\\n1 Station\\nElectrify America, CCS/SAE 3 Plugs 350 kW\\n3 Stations\\nElectrify America, , Jun 16, 2024\\ncheck_circleTim\\nHyundai Ioniq 5 2024242 Kilowatts, Jun 13, 2024\\ncheck_circleKMac\\nKia EV6 2022215 Kilowatts\\nStill no screen on charger 1, but works in the app., Jun 13, 2024\\ncheck_circleShane\\nNissan LEAF 2010\\nSadly they removed the chademo charger. Note there already to be free j1772 chargers in front of target, Jun 12, 2024\\ncheck_circleBennett Morrow\\nHyundai Ioniq 5 2022, Jun 7, 2024\\ncheck_circleJ C\\nBMW iX 2024, 0.08 mi\\n9.3 Springfield Town Center - Target - East Lot (2)\\nJ-1772, 0.18 mi\\n4.8 Springfield Town Center - LA Fitness\\nJ-1772, 0.22 mi\\n1 Springfield Town Center - Frontier Garage\\nJ-1772, 0.22 mi\\n10 Springfield Town Center - Target - West Lot\\nNACS (Tesla), 0.23 mi\\n4.7 Springfield Town Center - Maggianos\\nJ-1772, , , '"
      ]
     },
     "execution_count": 9,
     "metadata": {},
     "output_type": "execute_result"
    }
   ],
   "source": [
    "df.loc[0, 'Comments']"
   ]
  },
  {
   "cell_type": "code",
   "execution_count": null,
   "id": "e960a02e",
   "metadata": {},
   "outputs": [],
   "source": []
  }
 ],
 "metadata": {
  "kernelspec": {
   "display_name": ".venv",
   "language": "python",
   "name": "python3"
  },
  "language_info": {
   "codemirror_mode": {
    "name": "ipython",
    "version": 3
   },
   "file_extension": ".py",
   "mimetype": "text/x-python",
   "name": "python",
   "nbconvert_exporter": "python",
   "pygments_lexer": "ipython3",
   "version": "3.11.5"
  }
 },
 "nbformat": 4,
 "nbformat_minor": 5
}
