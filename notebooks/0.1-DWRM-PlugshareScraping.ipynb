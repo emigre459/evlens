{
 "cells": [
  {
   "cell_type": "markdown",
   "id": "bddfc535-9593-42fe-8b05-4680ba70926a",
   "metadata": {},
   "source": [
    "# Purpose\n",
    "\n",
    "Find a way to get data from Plugshare.com since they're not responding to my API access request. The comments and metadata from stations across different networks should be extremely useful in diagnosing electrical and non-electrical customer experience issues."
   ]
  },
  {
   "cell_type": "markdown",
   "id": "9005defb-b608-430d-b91a-c384cf8bed2e",
   "metadata": {},
   "source": [
    "# Imports"
   ]
  },
  {
   "cell_type": "code",
   "execution_count": 1,
   "id": "8eadbe4f-bacf-4f41-9ffa-07e3d1e29d8f",
   "metadata": {},
   "outputs": [
    {
     "name": "stderr",
     "output_type": "stream",
     "text": [
      "2024-06-16_T14_49_14EDT: INFO (Notebook-0.1:L18) - TEST!\n"
     ]
    }
   ],
   "source": [
    "%load_ext autoreload\n",
    "%autoreload 2\n",
    "\n",
    "import numpy as np\n",
    "from rich import print\n",
    "import os\n",
    "import pandas as pd\n",
    "from bs4 import BeautifulSoup\n",
    "import requests\n",
    "\n",
    "from evlens.data.plugshare import Scraper\n",
    "\n",
    "from dotenv import load_dotenv\n",
    "load_dotenv(override=True)\n",
    "\n",
    "from evlens.logs import setup_logger\n",
    "logger = setup_logger(\"Notebook-0.1\")\n",
    "logger.info(\"TEST!\")"
   ]
  },
  {
   "cell_type": "markdown",
   "id": "16cd2cc8",
   "metadata": {},
   "source": [
    "# Testing our custom scraper"
   ]
  },
  {
   "cell_type": "code",
   "execution_count": 2,
   "id": "a6596cd3",
   "metadata": {},
   "outputs": [],
   "source": [
    "# Electrify America in Springfield, VA mall parking lot\n",
    "TEST_LOCATION = 252784"
   ]
  },
  {
   "cell_type": "code",
   "execution_count": 25,
   "id": "fcbb9504",
   "metadata": {},
   "outputs": [
    {
     "name": "stderr",
     "output_type": "stream",
     "text": [
      "2024-06-16_T15_25_30EDT: INFO (Notebook-0.1:L29) - Found the banner!\n"
     ]
    }
   ],
   "source": [
    "from selenium import webdriver\n",
    "from selenium.webdriver.common.by import By\n",
    "from selenium.webdriver.support.ui import WebDriverWait\n",
    "from selenium.webdriver.chrome.options import Options\n",
    "from selenium.webdriver.support import expected_conditions as EC\n",
    "from selenium.common.exceptions import NoSuchElementException, TimeoutException\n",
    "\n",
    "# Electrify America in Springfield, VA mall parking lot\n",
    "TEST_LOCATION = 252784\n",
    "url = f\"https://www.plugshare.com/location/{TEST_LOCATION}\"\n",
    "\n",
    "chrome_options = Options()\n",
    "# chrome_options.add_argument('--headless=new')\n",
    "chrome_options.add_experimental_option(\"excludeSwitches\", [\"enable-automation\"])\n",
    "chrome_options.add_argument(\"--disable-extensions\")\n",
    "\n",
    "driver = webdriver.Chrome(options=chrome_options)\n",
    "\n",
    "driver.get(url)\n",
    "\n",
    "wait = WebDriverWait(driver, 5)\n",
    "\n",
    "# Wait for the cookie dialog to appear\n",
    "try:\n",
    "    iframe = wait.until(EC.visibility_of_element_located((\n",
    "        By.ID,\n",
    "        \"global-consent-notice\"\n",
    "    )))\n",
    "    logger.info(\"Found the banner!\")\n",
    "    driver.switch_to.frame(iframe)\n",
    "    \n",
    "except (NoSuchElementException, TimeoutException) as e1:\n",
    "    logger.warning(\"No cookie dialog iframe found, moving on!\")"
   ]
  },
  {
   "cell_type": "code",
   "execution_count": 6,
   "id": "79498af2",
   "metadata": {},
   "outputs": [
    {
     "data": {
      "text/plain": [
       "1"
      ]
     },
     "execution_count": 6,
     "metadata": {},
     "output_type": "execute_result"
    }
   ],
   "source": [
    "# Can I find the Accept button?\n",
    "main_buttons = driver.find_elements(By.TAG_NAME, \"button\")\n",
    "len(main_buttons)"
   ]
  },
  {
   "cell_type": "markdown",
   "id": "20b5270f",
   "metadata": {},
   "source": [
    "*Note that the only button is the Accept one, we need another mechanism for finding the Manage Settings link...*"
   ]
  },
  {
   "cell_type": "code",
   "execution_count": 24,
   "id": "808851ea",
   "metadata": {},
   "outputs": [],
   "source": [
    "<iframe src=\"https://cmp-consent-tool.privacymanager.io/latest/index.html#/notice?theme=defaultTheme&amp;useSystemFonts=false&amp;cmpType=global\" id=\"global-consent-notice\" aria-label=\"Privacy Manager window.\" role=\"dialog\" aria-modal=\"true\" frameborder=\"0\" scrolling=\"yes\" style=\"min-height: 72px; max-height: 105px; width: 100%; left: 0px; bottom: 0px; position: fixed; display: block; z-index: 2147483647; box-shadow: rgba(0, 0, 0, 0.12) 0px 6px 30px 5px, rgba(0, 0, 0, 0.14) 0px 16px 24px 2px, rgba(0, 0, 0, 0.2) 0px 8px 10px -5px; height: 105px;\" cd_frame_id_=\"78387f53d0664ffe5d1b4116ea60ee08\"></iframe>"
   ]
  },
  {
   "cell_type": "code",
   "execution_count": 29,
   "id": "eb09c630",
   "metadata": {},
   "outputs": [
    {
     "data": {
      "text/plain": [
       "<selenium.webdriver.remote.webelement.WebElement (session=\"fbd40d5ce7cf519b6687dce30e11487a\", element=\"f.87B02411C39E39D044C9D4C04D7BCF73.d.38D20518693AD9A1F13EDE88F3C4577B.e.61\")>"
      ]
     },
     "execution_count": 29,
     "metadata": {},
     "output_type": "execute_result"
    }
   ],
   "source": [
    "# Example: Find a link with class \"my-link\" and href attribute starting with \"https://...\"\n",
    "manage_cookies_link = driver.find_element(By.CSS_SELECTOR, \"a[aria-label='Customize your consent preferences.']\") \n",
    "manage_cookies_link"
   ]
  },
  {
   "cell_type": "code",
   "execution_count": 30,
   "id": "17231df3",
   "metadata": {},
   "outputs": [],
   "source": [
    "manage_cookies_link.click()"
   ]
  },
  {
   "cell_type": "code",
   "execution_count": 34,
   "id": "a3483742",
   "metadata": {},
   "outputs": [
    {
     "data": {
      "text/plain": [
       "<selenium.webdriver.remote.webelement.WebElement (session=\"fbd40d5ce7cf519b6687dce30e11487a\", element=\"f.87B02411C39E39D044C9D4C04D7BCF73.d.38D20518693AD9A1F13EDE88F3C4577B.e.374\")>"
      ]
     },
     "execution_count": 34,
     "metadata": {},
     "output_type": "execute_result"
    }
   ],
   "source": [
    "reject_all_button = driver.find_element(By.CSS_SELECTOR, \"button[id='denyAll']\")\n",
    "reject_all_button"
   ]
  },
  {
   "cell_type": "code",
   "execution_count": 35,
   "id": "91c2c918",
   "metadata": {},
   "outputs": [],
   "source": [
    "reject_all_button.click()"
   ]
  },
  {
   "cell_type": "code",
   "execution_count": 37,
   "id": "c7af4128",
   "metadata": {},
   "outputs": [
    {
     "data": {
      "text/plain": [
       "<selenium.webdriver.remote.webelement.WebElement (session=\"fbd40d5ce7cf519b6687dce30e11487a\", element=\"f.87B02411C39E39D044C9D4C04D7BCF73.d.38D20518693AD9A1F13EDE88F3C4577B.e.648\")>"
      ]
     },
     "execution_count": 37,
     "metadata": {},
     "output_type": "execute_result"
    }
   ],
   "source": [
    "reject_all_button_confirm = driver.find_element(By.XPATH, \"//*[@id=\\\"mat-dialog-0\\\"]/ng-component/app-theme/div/div/div[2]/button[2]\")\n",
    "reject_all_button_confirm"
   ]
  },
  {
   "cell_type": "code",
   "execution_count": 38,
   "id": "f2d02336",
   "metadata": {},
   "outputs": [],
   "source": [
    "reject_all_button_confirm.click()"
   ]
  },
  {
   "cell_type": "code",
   "execution_count": 39,
   "id": "26850263",
   "metadata": {},
   "outputs": [
    {
     "name": "stderr",
     "output_type": "stream",
     "text": [
      "2024-06-16_T15_31_11EDT: INFO (Notebook-0.1:L14) - Found the login escape button and clicked it!\n"
     ]
    }
   ],
   "source": [
    "# Switch back to main frame\n",
    "driver.switch_to.default_content()\n",
    "\n",
    "# Exit login dialog\n",
    "try:\n",
    "    # Wait for the exit button\n",
    "    wait = WebDriverWait(driver, 1)\n",
    "    esc_button = wait.until(EC.visibility_of_element_located((\n",
    "        By.XPATH,\n",
    "        # \"//*[@id=\\\"dialogContent_authenticate\\\"]/button/md-icon\" # old\n",
    "        \"//*[@id=\\\"dialogContent_authenticate\\\"]/button\" # from chrome\n",
    "    )))\n",
    "    esc_button.click()\n",
    "    logger.info(\"Found the login escape button and clicked it!\")\n",
    "\n",
    "except (NoSuchElementException, TimeoutException):\n",
    "    logger.error(\"Login dialog exit button not found.\")\n",
    "\n",
    "except Exception as e:\n",
    "    logger.error(f\"Unknown error trying to exit login dialog: {e}\")"
   ]
  },
  {
   "cell_type": "code",
   "execution_count": 40,
   "id": "16aadf85",
   "metadata": {},
   "outputs": [],
   "source": [
    "driver.quit()"
   ]
  },
  {
   "cell_type": "code",
   "execution_count": null,
   "id": "0030b82e",
   "metadata": {},
   "outputs": [],
   "source": [
    "print('a')"
   ]
  },
  {
   "cell_type": "code",
   "execution_count": 29,
   "id": "6eaee754",
   "metadata": {},
   "outputs": [
    {
     "name": "stderr",
     "output_type": "stream",
     "text": [
      "2024-06-14_T09_24_24EDT: ERROR (Notebook-0.1:L12) - Station name error\n",
      "Traceback (most recent call last):\n",
      "  File \"/var/folders/98/fhwnl49n19l_xywxzghbm4jm0000gn/T/ipykernel_58677/2682536154.py\", line 3, in <module>\n",
      "    wait.until(EC.visibility_of_element_located((\n",
      "  File \"/Users/davemcrench/Documents/Projects/evlens/.venv/lib/python3.11/site-packages/selenium/webdriver/support/wait.py\", line 105, in until\n",
      "    raise TimeoutException(message, screen, stacktrace)\n",
      "selenium.common.exceptions.TimeoutException: Message: \n",
      "\n"
     ]
    },
    {
     "data": {
      "text/plain": [
       "nan"
      ]
     },
     "execution_count": 29,
     "metadata": {},
     "output_type": "execute_result"
    }
   ],
   "source": [
    "# Do a single element scrape\n",
    "try: ## FIND STATION NAME\n",
    "    wait.until(EC.visibility_of_element_located((\n",
    "        By.XPATH,\n",
    "        \"//*[@id=\\\"display-name\\\"]/div/h1\"\n",
    "    )))\n",
    "    name = driver.find_element(\n",
    "        By.XPATH,\n",
    "        \"//*[@id=\\\"display-name\\\"]/div/h1\"\n",
    "        ).text\n",
    "except:\n",
    "    logger.error(\"Station name error\", exc_info=True)\n",
    "    name = np.nan\n",
    "    \n",
    "name"
   ]
  },
  {
   "cell_type": "code",
   "execution_count": 25,
   "id": "ef967e8a",
   "metadata": {},
   "outputs": [],
   "source": [
    "driver.quit()"
   ]
  },
  {
   "cell_type": "code",
   "execution_count": null,
   "id": "4cc59a40",
   "metadata": {},
   "outputs": [],
   "source": []
  },
  {
   "cell_type": "code",
   "execution_count": null,
   "id": "53e3d648",
   "metadata": {},
   "outputs": [],
   "source": []
  },
  {
   "cell_type": "code",
   "execution_count": 28,
   "id": "76d11584",
   "metadata": {},
   "outputs": [],
   "source": [
    "# Why is it taking so long to even *start* trying to exit the login dialog?!\n",
    "s = Scraper(timeout=3)\n",
    "\n",
    "# Scrape only one location that I can test via browser\n",
    "df = s.scrape_plugshare_locations(TEST_LOCATION, TEST_LOCATION)\n",
    "df.info()\n",
    "df.head()"
   ]
  },
  {
   "cell_type": "code",
   "execution_count": 19,
   "id": "d57a137c",
   "metadata": {},
   "outputs": [
    {
     "data": {
      "text/plain": [
       "'J-1772 1 Plug 7 kW\\n1 Station\\nElectrify America, CCS/SAE 3 Plugs 350 kW\\n3 Stations\\nElectrify America, , Jun 7, 2024\\ncheck_circleJ C\\nBMW iX 2024, Jun 5, 2024\\ncheck_circleKJva\\nMercedes EQE 350350 Kilowatts, May 30, 2024\\ncheck_circleKJva\\nMercedes EQE 350350 Kilowatts, May 24, 2024\\ncheck_circleBEV\\nChevrolet Blazer EV 2024\\nSo far so good! Screen is cracked on the charger, difficult to read the prompts… but I guess it doesn’t matter if it charges!, May 24, 2024\\ncheck_circleKMac\\nKia EV6 2022235 Kilowatts\\nScreen on 1 not working but can charge through the app, 0.08 mi\\n9.3 Springfield Town Center - Target - East Lot (2)\\nJ-1772, 0.18 mi\\n4.8 Springfield Town Center - LA Fitness\\nJ-1772, 0.22 mi\\n1 Springfield Town Center - Frontier Garage\\nJ-1772, 0.22 mi\\n10 Springfield Town Center - Target - West Lot\\nNACS (Tesla), 0.23 mi\\n4.7 Springfield Town Center - Maggianos\\nJ-1772, , , '"
      ]
     },
     "execution_count": 19,
     "metadata": {},
     "output_type": "execute_result"
    }
   ],
   "source": [
    "df.loc[0, 'Comments']"
   ]
  },
  {
   "cell_type": "code",
   "execution_count": null,
   "id": "e960a02e",
   "metadata": {},
   "outputs": [],
   "source": []
  }
 ],
 "metadata": {
  "kernelspec": {
   "display_name": ".venv",
   "language": "python",
   "name": "python3"
  },
  "language_info": {
   "codemirror_mode": {
    "name": "ipython",
    "version": 3
   },
   "file_extension": ".py",
   "mimetype": "text/x-python",
   "name": "python",
   "nbconvert_exporter": "python",
   "pygments_lexer": "ipython3",
   "version": "3.11.5"
  }
 },
 "nbformat": 4,
 "nbformat_minor": 5
}
