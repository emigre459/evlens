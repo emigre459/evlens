{
 "cells": [
  {
   "cell_type": "markdown",
   "id": "bddfc535-9593-42fe-8b05-4680ba70926a",
   "metadata": {},
   "source": [
    "# Purpose\n",
    "\n",
    "Find a way to get data from Plugshare.com since they're not responding to my API access request. The comments and metadata from stations across different networks should be extremely useful in diagnosing electrical and non-electrical customer experience issues."
   ]
  },
  {
   "cell_type": "markdown",
   "id": "9005defb-b608-430d-b91a-c384cf8bed2e",
   "metadata": {},
   "source": [
    "# Imports"
   ]
  },
  {
   "cell_type": "code",
   "execution_count": 2,
   "id": "8eadbe4f-bacf-4f41-9ffa-07e3d1e29d8f",
   "metadata": {},
   "outputs": [
    {
     "name": "stderr",
     "output_type": "stream",
     "text": [
      "2024-06-11_T18_44_44EDT: INFO (Notebook-0.1:L18) - TEST!\n"
     ]
    },
    {
     "name": "stdout",
     "output_type": "stream",
     "text": [
      "The autoreload extension is already loaded. To reload it, use:\n",
      "  %reload_ext autoreload\n"
     ]
    }
   ],
   "source": [
    "%load_ext autoreload\n",
    "%autoreload 2\n",
    "\n",
    "import numpy as np\n",
    "from rich import print\n",
    "import os\n",
    "import pandas as pd\n",
    "from bs4 import BeautifulSoup\n",
    "import requests\n",
    "\n",
    "from evlens.data.plugshare import Scraper\n",
    "\n",
    "from dotenv import load_dotenv\n",
    "load_dotenv(override=True)\n",
    "\n",
    "from evlens.logs import setup_logger\n",
    "logger = setup_logger(\"Notebook-0.1\")\n",
    "logger.info(\"TEST!\")"
   ]
  },
  {
   "cell_type": "markdown",
   "id": "16cd2cc8",
   "metadata": {},
   "source": [
    "# Testing our custom scraper"
   ]
  },
  {
   "cell_type": "code",
   "execution_count": 3,
   "id": "a6596cd3",
   "metadata": {},
   "outputs": [],
   "source": [
    "# Electrify America in Springfield, VA mall parking lot\n",
    "TEST_LOCATION = 252784"
   ]
  },
  {
   "cell_type": "code",
   "execution_count": 18,
   "id": "76d11584",
   "metadata": {},
   "outputs": [
    {
     "name": "stderr",
     "output_type": "stream",
     "text": [
      "2024-06-11_T19_13_29EDT: INFO (evlens.data.plugshare:L169) - Beginning scraping!\n",
      "Parsing stations:   0%|          | 0/1 [00:00<?, ?it/s]2024-06-11_T19_13_34EDT: INFO (evlens.data.plugshare:L45) - Attempting to exit login dialog...\n",
      "2024-06-11_T19_13_34EDT: INFO (evlens.data.plugshare:L61) - Successfully exited the login dialog!\n",
      "2024-06-11_T19_13_34EDT: INFO (evlens.data.plugshare:L86) - Starting page scrape...\n",
      "2024-06-11_T19_13_34EDT: INFO (evlens.data.plugshare:L165) - Page scrape complete!\n",
      "2024-06-11_T19_13_34EDT: INFO (evlens.data.plugshare:L185) - Sleeping for 15 seconds\n",
      "Parsing stations: 100%|██████████| 1/1 [00:19<00:00, 19.92s/it]\n",
      "2024-06-11_T19_13_49EDT: INFO (evlens.data.plugshare:L190) - Scraping complete!\n"
     ]
    },
    {
     "name": "stdout",
     "output_type": "stream",
     "text": [
      "<class 'pandas.core.frame.DataFrame'>\n",
      "RangeIndex: 1 entries, 0 to 0\n",
      "Data columns (total 8 columns):\n",
      " #   Column    Non-Null Count  Dtype \n",
      "---  ------    --------------  ----- \n",
      " 0   Name      1 non-null      object\n",
      " 1   Address   1 non-null      object\n",
      " 2   Rating    1 non-null      object\n",
      " 3   Wattage   1 non-null      object\n",
      " 4   Hours     1 non-null      object\n",
      " 5   Checkins  1 non-null      object\n",
      " 6   Comments  1 non-null      object\n",
      " 7   Car       1 non-null      object\n",
      "dtypes: object(8)\n",
      "memory usage: 196.0+ bytes\n"
     ]
    },
    {
     "data": {
      "text/html": [
       "<div>\n",
       "<style scoped>\n",
       "    .dataframe tbody tr th:only-of-type {\n",
       "        vertical-align: middle;\n",
       "    }\n",
       "\n",
       "    .dataframe tbody tr th {\n",
       "        vertical-align: top;\n",
       "    }\n",
       "\n",
       "    .dataframe thead th {\n",
       "        text-align: right;\n",
       "    }\n",
       "</style>\n",
       "<table border=\"1\" class=\"dataframe\">\n",
       "  <thead>\n",
       "    <tr style=\"text-align: right;\">\n",
       "      <th></th>\n",
       "      <th>Name</th>\n",
       "      <th>Address</th>\n",
       "      <th>Rating</th>\n",
       "      <th>Wattage</th>\n",
       "      <th>Hours</th>\n",
       "      <th>Checkins</th>\n",
       "      <th>Comments</th>\n",
       "      <th>Car</th>\n",
       "    </tr>\n",
       "  </thead>\n",
       "  <tbody>\n",
       "    <tr>\n",
       "      <th>0</th>\n",
       "      <td>Springfield Town Center - Target - East Lot (1)</td>\n",
       "      <td>6600 Springfield Mall, Springfield, Virginia, ...</td>\n",
       "      <td>8.8</td>\n",
       "      <td>7 - 350 kW</td>\n",
       "      <td>Open 24/7</td>\n",
       "      <td>(442)</td>\n",
       "      <td>J-1772 1 Plug 7 kW\\n1 Station\\nElectrify Ameri...</td>\n",
       "      <td></td>\n",
       "    </tr>\n",
       "  </tbody>\n",
       "</table>\n",
       "</div>"
      ],
      "text/plain": [
       "                                              Name  \\\n",
       "0  Springfield Town Center - Target - East Lot (1)   \n",
       "\n",
       "                                             Address Rating     Wattage  \\\n",
       "0  6600 Springfield Mall, Springfield, Virginia, ...    8.8  7 - 350 kW   \n",
       "\n",
       "       Hours Checkins                                           Comments Car  \n",
       "0  Open 24/7    (442)  J-1772 1 Plug 7 kW\\n1 Station\\nElectrify Ameri...      "
      ]
     },
     "execution_count": 18,
     "metadata": {},
     "output_type": "execute_result"
    }
   ],
   "source": [
    "# Why is it taking so long to even *start* trying to exit the login dialog?!\n",
    "s = Scraper(timeout=3)\n",
    "\n",
    "# Scrape only one location that I can test via browser\n",
    "df = s.scrape_plugshare_locations(TEST_LOCATION, TEST_LOCATION)\n",
    "df.info()\n",
    "df.head()"
   ]
  },
  {
   "cell_type": "code",
   "execution_count": 19,
   "id": "d57a137c",
   "metadata": {},
   "outputs": [
    {
     "data": {
      "text/plain": [
       "'J-1772 1 Plug 7 kW\\n1 Station\\nElectrify America, CCS/SAE 3 Plugs 350 kW\\n3 Stations\\nElectrify America, , Jun 7, 2024\\ncheck_circleJ C\\nBMW iX 2024, Jun 5, 2024\\ncheck_circleKJva\\nMercedes EQE 350350 Kilowatts, May 30, 2024\\ncheck_circleKJva\\nMercedes EQE 350350 Kilowatts, May 24, 2024\\ncheck_circleBEV\\nChevrolet Blazer EV 2024\\nSo far so good! Screen is cracked on the charger, difficult to read the prompts… but I guess it doesn’t matter if it charges!, May 24, 2024\\ncheck_circleKMac\\nKia EV6 2022235 Kilowatts\\nScreen on 1 not working but can charge through the app, 0.08 mi\\n9.3 Springfield Town Center - Target - East Lot (2)\\nJ-1772, 0.18 mi\\n4.8 Springfield Town Center - LA Fitness\\nJ-1772, 0.22 mi\\n1 Springfield Town Center - Frontier Garage\\nJ-1772, 0.22 mi\\n10 Springfield Town Center - Target - West Lot\\nNACS (Tesla), 0.23 mi\\n4.7 Springfield Town Center - Maggianos\\nJ-1772, , , '"
      ]
     },
     "execution_count": 19,
     "metadata": {},
     "output_type": "execute_result"
    }
   ],
   "source": [
    "df.loc[0, 'Comments']"
   ]
  },
  {
   "cell_type": "code",
   "execution_count": null,
   "id": "e960a02e",
   "metadata": {},
   "outputs": [],
   "source": []
  }
 ],
 "metadata": {
  "kernelspec": {
   "display_name": ".venv",
   "language": "python",
   "name": "python3"
  },
  "language_info": {
   "codemirror_mode": {
    "name": "ipython",
    "version": 3
   },
   "file_extension": ".py",
   "mimetype": "text/x-python",
   "name": "python",
   "nbconvert_exporter": "python",
   "pygments_lexer": "ipython3",
   "version": "3.11.5"
  }
 },
 "nbformat": 4,
 "nbformat_minor": 5
}
