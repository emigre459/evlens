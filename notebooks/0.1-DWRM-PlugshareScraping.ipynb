{
 "cells": [
  {
   "cell_type": "markdown",
   "id": "bddfc535-9593-42fe-8b05-4680ba70926a",
   "metadata": {},
   "source": [
    "# Purpose\n",
    "\n",
    "Find a way to get data from Plugshare.com since they're not responding to my API access request. The comments and metadata from stations across different networks should be extremely useful in diagnosing electrical and non-electrical customer experience issues."
   ]
  },
  {
   "cell_type": "markdown",
   "id": "9005defb-b608-430d-b91a-c384cf8bed2e",
   "metadata": {},
   "source": [
    "# Imports"
   ]
  },
  {
   "cell_type": "code",
   "execution_count": 2,
   "id": "8eadbe4f-bacf-4f41-9ffa-07e3d1e29d8f",
   "metadata": {},
   "outputs": [
    {
     "name": "stderr",
     "output_type": "stream",
     "text": [
      "2024-06-11_T18_44_44EDT: INFO (Notebook-0.1:L18) - TEST!\n"
     ]
    },
    {
     "name": "stdout",
     "output_type": "stream",
     "text": [
      "The autoreload extension is already loaded. To reload it, use:\n",
      "  %reload_ext autoreload\n"
     ]
    }
   ],
   "source": [
    "%load_ext autoreload\n",
    "%autoreload 2\n",
    "\n",
    "import numpy as np\n",
    "from rich import print\n",
    "import os\n",
    "import pandas as pd\n",
    "from bs4 import BeautifulSoup\n",
    "import requests\n",
    "\n",
    "from evlens.data.plugshare import Scraper\n",
    "\n",
    "from dotenv import load_dotenv\n",
    "load_dotenv(override=True)\n",
    "\n",
    "from evlens.logs import setup_logger\n",
    "logger = setup_logger(\"Notebook-0.1\")\n",
    "logger.info(\"TEST!\")"
   ]
  },
  {
   "cell_type": "markdown",
   "id": "16cd2cc8",
   "metadata": {},
   "source": [
    "# Testing our custom scraper"
   ]
  },
  {
   "cell_type": "code",
   "execution_count": 3,
   "id": "a6596cd3",
   "metadata": {},
   "outputs": [],
   "source": [
    "# Electrify America in Springfield, VA mall parking lot\n",
    "TEST_LOCATION = 252784"
   ]
  },
  {
   "cell_type": "code",
   "execution_count": 21,
   "id": "76d11584",
   "metadata": {},
   "outputs": [
    {
     "name": "stderr",
     "output_type": "stream",
     "text": [
      "2024-06-11_T21_45_43EDT: INFO (evlens.data.plugshare:L169) - Beginning scraping!\n",
      "Parsing stations:   0%|          | 0/1 [00:00<?, ?it/s]2024-06-11_T21_47_05EDT: INFO (evlens.data.plugshare:L45) - Attempting to exit login dialog...\n",
      "Parsing stations:   0%|          | 0/1 [01:22<?, ?it/s]\n"
     ]
    },
    {
     "ename": "RuntimeError",
     "evalue": "Unknown error trying to exit login dialog: Message: element click intercepted: Element <button class=\"close md-icon-button md-button md-ink-ripple\" type=\"button\" ng-transclude=\"\" ng-click=\"maps.closeAuth()\" aria-label=\"cancel\" ng-show=\"maps.visits <= 5 || maps.gmaps\" ng-disabled=\"maps.auth.processing\" aria-hidden=\"false\">...</button> is not clickable at point (1049, 106). Other element would receive the click: <div id=\"global-consent-tool-wrapper\" tabindex=\"-1\" aria-hidden=\"false\" role=\"presentation\" style=\"position: fixed; width: 100%; height: 100%; top: 0px; left: 0px; z-index: 2147483647; background: rgba(0, 0, 0, 0.5);\">...</div>\n  (Session info: chrome=126.0.6478.56)\nStacktrace:\n0   chromedriver                        0x0000000104a97a1c chromedriver + 4389404\n1   chromedriver                        0x0000000104a90328 chromedriver + 4358952\n2   chromedriver                        0x00000001046acafc chromedriver + 281340\n3   chromedriver                        0x00000001046f4cb0 chromedriver + 576688\n4   chromedriver                        0x00000001046f3254 chromedriver + 569940\n5   chromedriver                        0x00000001046f13e4 chromedriver + 562148\n6   chromedriver                        0x00000001046f0580 chromedriver + 558464\n7   chromedriver                        0x00000001046e5ce0 chromedriver + 515296\n8   chromedriver                        0x00000001046e5718 chromedriver + 513816\n9   chromedriver                        0x0000000104727cec chromedriver + 785644\n10  chromedriver                        0x00000001046e3ed0 chromedriver + 507600\n11  chromedriver                        0x00000001046e48a8 chromedriver + 510120\n12  chromedriver                        0x0000000104a5f3a0 chromedriver + 4158368\n13  chromedriver                        0x0000000104a63e04 chromedriver + 4177412\n14  chromedriver                        0x0000000104a45060 chromedriver + 4051040\n15  chromedriver                        0x0000000104a646f0 chromedriver + 4179696\n16  chromedriver                        0x0000000104a38060 chromedriver + 3997792\n17  chromedriver                        0x0000000104a820b8 chromedriver + 4300984\n18  chromedriver                        0x0000000104a82234 chromedriver + 4301364\n19  chromedriver                        0x0000000104a8ff20 chromedriver + 4357920\n20  libsystem_pthread.dylib             0x0000000188dfaf94 _pthread_start + 136\n21  libsystem_pthread.dylib             0x0000000188df5d34 thread_start + 8\n",
     "output_type": "error",
     "traceback": [
      "\u001b[0;31m---------------------------------------------------------------------------\u001b[0m",
      "\u001b[0;31mElementClickInterceptedException\u001b[0m          Traceback (most recent call last)",
      "File \u001b[0;32m~/Documents/Projects/evlens/evlens/data/plugshare.py:53\u001b[0m, in \u001b[0;36mScraper.exit_login_dialog\u001b[0;34m(self)\u001b[0m\n\u001b[1;32m     49\u001b[0m     esc_button \u001b[38;5;241m=\u001b[39m wait\u001b[38;5;241m.\u001b[39muntil(EC\u001b[38;5;241m.\u001b[39mvisibility_of_element_located((\n\u001b[1;32m     50\u001b[0m         By\u001b[38;5;241m.\u001b[39mXPATH,\n\u001b[1;32m     51\u001b[0m         \u001b[38;5;124m\"\u001b[39m\u001b[38;5;124m//*[@id=\u001b[39m\u001b[38;5;130;01m\\\"\u001b[39;00m\u001b[38;5;124mdialogContent_authenticate\u001b[39m\u001b[38;5;130;01m\\\"\u001b[39;00m\u001b[38;5;124m]/button\u001b[39m\u001b[38;5;124m\"\u001b[39m \u001b[38;5;66;03m# from chrome\u001b[39;00m\n\u001b[1;32m     52\u001b[0m     )))\n\u001b[0;32m---> 53\u001b[0m     \u001b[43mesc_button\u001b[49m\u001b[38;5;241;43m.\u001b[39;49m\u001b[43mclick\u001b[49m\u001b[43m(\u001b[49m\u001b[43m)\u001b[49m\n\u001b[1;32m     55\u001b[0m \u001b[38;5;28;01mexcept\u001b[39;00m (NoSuchElementException, TimeoutException):\n",
      "File \u001b[0;32m~/Documents/Projects/evlens/.venv/lib/python3.11/site-packages/selenium/webdriver/remote/webelement.py:94\u001b[0m, in \u001b[0;36mWebElement.click\u001b[0;34m(self)\u001b[0m\n\u001b[1;32m     93\u001b[0m \u001b[38;5;250m\u001b[39m\u001b[38;5;124;03m\"\"\"Clicks the element.\"\"\"\u001b[39;00m\n\u001b[0;32m---> 94\u001b[0m \u001b[38;5;28;43mself\u001b[39;49m\u001b[38;5;241;43m.\u001b[39;49m\u001b[43m_execute\u001b[49m\u001b[43m(\u001b[49m\u001b[43mCommand\u001b[49m\u001b[38;5;241;43m.\u001b[39;49m\u001b[43mCLICK_ELEMENT\u001b[49m\u001b[43m)\u001b[49m\n",
      "File \u001b[0;32m~/Documents/Projects/evlens/.venv/lib/python3.11/site-packages/selenium/webdriver/remote/webelement.py:395\u001b[0m, in \u001b[0;36mWebElement._execute\u001b[0;34m(self, command, params)\u001b[0m\n\u001b[1;32m    394\u001b[0m params[\u001b[38;5;124m\"\u001b[39m\u001b[38;5;124mid\u001b[39m\u001b[38;5;124m\"\u001b[39m] \u001b[38;5;241m=\u001b[39m \u001b[38;5;28mself\u001b[39m\u001b[38;5;241m.\u001b[39m_id\n\u001b[0;32m--> 395\u001b[0m \u001b[38;5;28;01mreturn\u001b[39;00m \u001b[38;5;28;43mself\u001b[39;49m\u001b[38;5;241;43m.\u001b[39;49m\u001b[43m_parent\u001b[49m\u001b[38;5;241;43m.\u001b[39;49m\u001b[43mexecute\u001b[49m\u001b[43m(\u001b[49m\u001b[43mcommand\u001b[49m\u001b[43m,\u001b[49m\u001b[43m \u001b[49m\u001b[43mparams\u001b[49m\u001b[43m)\u001b[49m\n",
      "File \u001b[0;32m~/Documents/Projects/evlens/.venv/lib/python3.11/site-packages/selenium/webdriver/remote/webdriver.py:347\u001b[0m, in \u001b[0;36mWebDriver.execute\u001b[0;34m(self, driver_command, params)\u001b[0m\n\u001b[1;32m    346\u001b[0m \u001b[38;5;28;01mif\u001b[39;00m response:\n\u001b[0;32m--> 347\u001b[0m     \u001b[38;5;28;43mself\u001b[39;49m\u001b[38;5;241;43m.\u001b[39;49m\u001b[43merror_handler\u001b[49m\u001b[38;5;241;43m.\u001b[39;49m\u001b[43mcheck_response\u001b[49m\u001b[43m(\u001b[49m\u001b[43mresponse\u001b[49m\u001b[43m)\u001b[49m\n\u001b[1;32m    348\u001b[0m     response[\u001b[38;5;124m\"\u001b[39m\u001b[38;5;124mvalue\u001b[39m\u001b[38;5;124m\"\u001b[39m] \u001b[38;5;241m=\u001b[39m \u001b[38;5;28mself\u001b[39m\u001b[38;5;241m.\u001b[39m_unwrap_value(response\u001b[38;5;241m.\u001b[39mget(\u001b[38;5;124m\"\u001b[39m\u001b[38;5;124mvalue\u001b[39m\u001b[38;5;124m\"\u001b[39m, \u001b[38;5;28;01mNone\u001b[39;00m))\n",
      "File \u001b[0;32m~/Documents/Projects/evlens/.venv/lib/python3.11/site-packages/selenium/webdriver/remote/errorhandler.py:229\u001b[0m, in \u001b[0;36mErrorHandler.check_response\u001b[0;34m(self, response)\u001b[0m\n\u001b[1;32m    228\u001b[0m     \u001b[38;5;28;01mraise\u001b[39;00m exception_class(message, screen, stacktrace, alert_text)  \u001b[38;5;66;03m# type: ignore[call-arg]  # mypy is not smart enough here\u001b[39;00m\n\u001b[0;32m--> 229\u001b[0m \u001b[38;5;28;01mraise\u001b[39;00m exception_class(message, screen, stacktrace)\n",
      "\u001b[0;31mElementClickInterceptedException\u001b[0m: Message: element click intercepted: Element <button class=\"close md-icon-button md-button md-ink-ripple\" type=\"button\" ng-transclude=\"\" ng-click=\"maps.closeAuth()\" aria-label=\"cancel\" ng-show=\"maps.visits <= 5 || maps.gmaps\" ng-disabled=\"maps.auth.processing\" aria-hidden=\"false\">...</button> is not clickable at point (1049, 106). Other element would receive the click: <div id=\"global-consent-tool-wrapper\" tabindex=\"-1\" aria-hidden=\"false\" role=\"presentation\" style=\"position: fixed; width: 100%; height: 100%; top: 0px; left: 0px; z-index: 2147483647; background: rgba(0, 0, 0, 0.5);\">...</div>\n  (Session info: chrome=126.0.6478.56)\nStacktrace:\n0   chromedriver                        0x0000000104a97a1c chromedriver + 4389404\n1   chromedriver                        0x0000000104a90328 chromedriver + 4358952\n2   chromedriver                        0x00000001046acafc chromedriver + 281340\n3   chromedriver                        0x00000001046f4cb0 chromedriver + 576688\n4   chromedriver                        0x00000001046f3254 chromedriver + 569940\n5   chromedriver                        0x00000001046f13e4 chromedriver + 562148\n6   chromedriver                        0x00000001046f0580 chromedriver + 558464\n7   chromedriver                        0x00000001046e5ce0 chromedriver + 515296\n8   chromedriver                        0x00000001046e5718 chromedriver + 513816\n9   chromedriver                        0x0000000104727cec chromedriver + 785644\n10  chromedriver                        0x00000001046e3ed0 chromedriver + 507600\n11  chromedriver                        0x00000001046e48a8 chromedriver + 510120\n12  chromedriver                        0x0000000104a5f3a0 chromedriver + 4158368\n13  chromedriver                        0x0000000104a63e04 chromedriver + 4177412\n14  chromedriver                        0x0000000104a45060 chromedriver + 4051040\n15  chromedriver                        0x0000000104a646f0 chromedriver + 4179696\n16  chromedriver                        0x0000000104a38060 chromedriver + 3997792\n17  chromedriver                        0x0000000104a820b8 chromedriver + 4300984\n18  chromedriver                        0x0000000104a82234 chromedriver + 4301364\n19  chromedriver                        0x0000000104a8ff20 chromedriver + 4357920\n20  libsystem_pthread.dylib             0x0000000188dfaf94 _pthread_start + 136\n21  libsystem_pthread.dylib             0x0000000188df5d34 thread_start + 8\n",
      "\nDuring handling of the above exception, another exception occurred:\n",
      "\u001b[0;31mRuntimeError\u001b[0m                              Traceback (most recent call last)",
      "Cell \u001b[0;32mIn[21], line 5\u001b[0m\n\u001b[1;32m      2\u001b[0m s \u001b[38;5;241m=\u001b[39m Scraper(timeout\u001b[38;5;241m=\u001b[39m\u001b[38;5;241m3\u001b[39m)\n\u001b[1;32m      4\u001b[0m \u001b[38;5;66;03m# Scrape only one location that I can test via browser\u001b[39;00m\n\u001b[0;32m----> 5\u001b[0m df \u001b[38;5;241m=\u001b[39m \u001b[43ms\u001b[49m\u001b[38;5;241;43m.\u001b[39;49m\u001b[43mscrape_plugshare_locations\u001b[49m\u001b[43m(\u001b[49m\u001b[43mTEST_LOCATION\u001b[49m\u001b[43m,\u001b[49m\u001b[43m \u001b[49m\u001b[43mTEST_LOCATION\u001b[49m\u001b[43m)\u001b[49m\n\u001b[1;32m      6\u001b[0m df\u001b[38;5;241m.\u001b[39minfo()\n\u001b[1;32m      7\u001b[0m df\u001b[38;5;241m.\u001b[39mhead()\n",
      "File \u001b[0;32m~/Documents/Projects/evlens/evlens/data/plugshare.py:182\u001b[0m, in \u001b[0;36mScraper.scrape_plugshare_locations\u001b[0;34m(self, start_location, end_location)\u001b[0m\n\u001b[1;32m    179\u001b[0m \u001b[38;5;28mself\u001b[39m\u001b[38;5;241m.\u001b[39mdriver\u001b[38;5;241m.\u001b[39mget(url)\n\u001b[1;32m    181\u001b[0m \u001b[38;5;66;03m# self.reject_all_cookies_dialog()\u001b[39;00m\n\u001b[0;32m--> 182\u001b[0m \u001b[38;5;28;43mself\u001b[39;49m\u001b[38;5;241;43m.\u001b[39;49m\u001b[43mexit_login_dialog\u001b[49m\u001b[43m(\u001b[49m\u001b[43m)\u001b[49m\n\u001b[1;32m    183\u001b[0m \u001b[38;5;28mself\u001b[39m\u001b[38;5;241m.\u001b[39mdata_scrape()\n\u001b[1;32m    185\u001b[0m logger\u001b[38;5;241m.\u001b[39minfo(\u001b[38;5;124m\"\u001b[39m\u001b[38;5;124mSleeping for 15 seconds\u001b[39m\u001b[38;5;124m\"\u001b[39m)\n",
      "File \u001b[0;32m~/Documents/Projects/evlens/evlens/data/plugshare.py:59\u001b[0m, in \u001b[0;36mScraper.exit_login_dialog\u001b[0;34m(self)\u001b[0m\n\u001b[1;32m     56\u001b[0m     \u001b[38;5;28;01mraise\u001b[39;00m \u001b[38;5;167;01mRuntimeError\u001b[39;00m(\u001b[38;5;124m\"\u001b[39m\u001b[38;5;124mLogin dialog exit button not found.\u001b[39m\u001b[38;5;124m\"\u001b[39m)\n\u001b[1;32m     58\u001b[0m \u001b[38;5;28;01mexcept\u001b[39;00m \u001b[38;5;167;01mException\u001b[39;00m \u001b[38;5;28;01mas\u001b[39;00m e:\n\u001b[0;32m---> 59\u001b[0m     \u001b[38;5;28;01mraise\u001b[39;00m \u001b[38;5;167;01mRuntimeError\u001b[39;00m(\u001b[38;5;124mf\u001b[39m\u001b[38;5;124m\"\u001b[39m\u001b[38;5;124mUnknown error trying to exit login dialog: \u001b[39m\u001b[38;5;132;01m{\u001b[39;00me\u001b[38;5;132;01m}\u001b[39;00m\u001b[38;5;124m\"\u001b[39m)\n\u001b[1;32m     61\u001b[0m logger\u001b[38;5;241m.\u001b[39minfo(\u001b[38;5;124m\"\u001b[39m\u001b[38;5;124mSuccessfully exited the login dialog!\u001b[39m\u001b[38;5;124m\"\u001b[39m)\n",
      "\u001b[0;31mRuntimeError\u001b[0m: Unknown error trying to exit login dialog: Message: element click intercepted: Element <button class=\"close md-icon-button md-button md-ink-ripple\" type=\"button\" ng-transclude=\"\" ng-click=\"maps.closeAuth()\" aria-label=\"cancel\" ng-show=\"maps.visits <= 5 || maps.gmaps\" ng-disabled=\"maps.auth.processing\" aria-hidden=\"false\">...</button> is not clickable at point (1049, 106). Other element would receive the click: <div id=\"global-consent-tool-wrapper\" tabindex=\"-1\" aria-hidden=\"false\" role=\"presentation\" style=\"position: fixed; width: 100%; height: 100%; top: 0px; left: 0px; z-index: 2147483647; background: rgba(0, 0, 0, 0.5);\">...</div>\n  (Session info: chrome=126.0.6478.56)\nStacktrace:\n0   chromedriver                        0x0000000104a97a1c chromedriver + 4389404\n1   chromedriver                        0x0000000104a90328 chromedriver + 4358952\n2   chromedriver                        0x00000001046acafc chromedriver + 281340\n3   chromedriver                        0x00000001046f4cb0 chromedriver + 576688\n4   chromedriver                        0x00000001046f3254 chromedriver + 569940\n5   chromedriver                        0x00000001046f13e4 chromedriver + 562148\n6   chromedriver                        0x00000001046f0580 chromedriver + 558464\n7   chromedriver                        0x00000001046e5ce0 chromedriver + 515296\n8   chromedriver                        0x00000001046e5718 chromedriver + 513816\n9   chromedriver                        0x0000000104727cec chromedriver + 785644\n10  chromedriver                        0x00000001046e3ed0 chromedriver + 507600\n11  chromedriver                        0x00000001046e48a8 chromedriver + 510120\n12  chromedriver                        0x0000000104a5f3a0 chromedriver + 4158368\n13  chromedriver                        0x0000000104a63e04 chromedriver + 4177412\n14  chromedriver                        0x0000000104a45060 chromedriver + 4051040\n15  chromedriver                        0x0000000104a646f0 chromedriver + 4179696\n16  chromedriver                        0x0000000104a38060 chromedriver + 3997792\n17  chromedriver                        0x0000000104a820b8 chromedriver + 4300984\n18  chromedriver                        0x0000000104a82234 chromedriver + 4301364\n19  chromedriver                        0x0000000104a8ff20 chromedriver + 4357920\n20  libsystem_pthread.dylib             0x0000000188dfaf94 _pthread_start + 136\n21  libsystem_pthread.dylib             0x0000000188df5d34 thread_start + 8\n"
     ]
    }
   ],
   "source": [
    "# Why is it taking so long to even *start* trying to exit the login dialog?!\n",
    "s = Scraper(timeout=3)\n",
    "\n",
    "# Scrape only one location that I can test via browser\n",
    "df = s.scrape_plugshare_locations(TEST_LOCATION, TEST_LOCATION)\n",
    "df.info()\n",
    "df.head()"
   ]
  },
  {
   "cell_type": "code",
   "execution_count": 22,
   "id": "bd97727a",
   "metadata": {},
   "outputs": [
    {
     "data": {
      "text/plain": [
       "<Response [200]>"
      ]
     },
     "execution_count": 22,
     "metadata": {},
     "output_type": "execute_result"
    }
   ],
   "source": [
    "import requests\n",
    "\n",
    "r = requests.get(\"https://www.plugshare.com/scripts/vendor-2cdcca5031.js\")\n",
    "r"
   ]
  },
  {
   "cell_type": "code",
   "execution_count": 26,
   "id": "a3ae3470",
   "metadata": {},
   "outputs": [
    {
     "data": {
      "text/plain": [
       "1175150"
      ]
     },
     "execution_count": 26,
     "metadata": {},
     "output_type": "execute_result"
    }
   ],
   "source": [
    "len(r.text)"
   ]
  },
  {
   "cell_type": "code",
   "execution_count": 19,
   "id": "d57a137c",
   "metadata": {},
   "outputs": [
    {
     "data": {
      "text/plain": [
       "'J-1772 1 Plug 7 kW\\n1 Station\\nElectrify America, CCS/SAE 3 Plugs 350 kW\\n3 Stations\\nElectrify America, , Jun 7, 2024\\ncheck_circleJ C\\nBMW iX 2024, Jun 5, 2024\\ncheck_circleKJva\\nMercedes EQE 350350 Kilowatts, May 30, 2024\\ncheck_circleKJva\\nMercedes EQE 350350 Kilowatts, May 24, 2024\\ncheck_circleBEV\\nChevrolet Blazer EV 2024\\nSo far so good! Screen is cracked on the charger, difficult to read the prompts… but I guess it doesn’t matter if it charges!, May 24, 2024\\ncheck_circleKMac\\nKia EV6 2022235 Kilowatts\\nScreen on 1 not working but can charge through the app, 0.08 mi\\n9.3 Springfield Town Center - Target - East Lot (2)\\nJ-1772, 0.18 mi\\n4.8 Springfield Town Center - LA Fitness\\nJ-1772, 0.22 mi\\n1 Springfield Town Center - Frontier Garage\\nJ-1772, 0.22 mi\\n10 Springfield Town Center - Target - West Lot\\nNACS (Tesla), 0.23 mi\\n4.7 Springfield Town Center - Maggianos\\nJ-1772, , , '"
      ]
     },
     "execution_count": 19,
     "metadata": {},
     "output_type": "execute_result"
    }
   ],
   "source": [
    "df.loc[0, 'Comments']"
   ]
  },
  {
   "cell_type": "code",
   "execution_count": null,
   "id": "e960a02e",
   "metadata": {},
   "outputs": [],
   "source": []
  }
 ],
 "metadata": {
  "kernelspec": {
   "display_name": ".venv",
   "language": "python",
   "name": "python3"
  },
  "language_info": {
   "codemirror_mode": {
    "name": "ipython",
    "version": 3
   },
   "file_extension": ".py",
   "mimetype": "text/x-python",
   "name": "python",
   "nbconvert_exporter": "python",
   "pygments_lexer": "ipython3",
   "version": "3.11.5"
  }
 },
 "nbformat": 4,
 "nbformat_minor": 5
}
