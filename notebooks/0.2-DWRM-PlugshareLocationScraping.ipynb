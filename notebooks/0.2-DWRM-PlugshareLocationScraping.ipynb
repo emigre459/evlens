{
 "cells": [
  {
   "cell_type": "markdown",
   "id": "bddfc535-9593-42fe-8b05-4680ba70926a",
   "metadata": {},
   "source": [
    "# Purpose\n",
    "\n",
    "Figure out pulling location IDs for only DCFC US (non-Tesla to start with) in the US. Need location IDs to efficiently scrape Plugshare with some of our other code."
   ]
  },
  {
   "cell_type": "markdown",
   "id": "9005defb-b608-430d-b91a-c384cf8bed2e",
   "metadata": {},
   "source": [
    "# Imports"
   ]
  },
  {
   "cell_type": "code",
   "execution_count": 1,
   "id": "8eadbe4f-bacf-4f41-9ffa-07e3d1e29d8f",
   "metadata": {},
   "outputs": [
    {
     "name": "stderr",
     "output_type": "stream",
     "text": [
      "2024-06-22_T19_58_32EDT: INFO (Notebook-0.2:L31) - TEST!\n"
     ]
    }
   ],
   "source": [
    "\n",
    "%load_ext autoreload\n",
    "%autoreload 2\n",
    "\n",
    "import numpy as np\n",
    "from rich import print\n",
    "import os\n",
    "import pandas as pd\n",
    "from bs4 import BeautifulSoup\n",
    "import requests\n",
    "from tqdm import tqdm\n",
    "from typing import List, Union, Set\n",
    "\n",
    "from evlens.data.plugshare import Scraper\n",
    "\n",
    "from selenium import webdriver\n",
    "from selenium.webdriver.common.by import By\n",
    "from selenium.webdriver.chrome.options import Options\n",
    "from selenium.webdriver.support.ui import WebDriverWait\n",
    "from selenium.webdriver.support import expected_conditions as EC\n",
    "from selenium.webdriver import ActionChains\n",
    "from selenium.common.exceptions import NoSuchElementException, TimeoutException, ElementClickInterceptedException, ElementNotInteractableException\n",
    "\n",
    "# Electrify America in Springfield, VA mall parking lot\n",
    "TEST_LOCATION = 252784\n",
    "\n",
    "from dotenv import load_dotenv\n",
    "load_dotenv(override=True)\n",
    "\n",
    "from evlens.logs import setup_logger\n",
    "logger = setup_logger(\"Notebook-0.2\")\n",
    "logger.info(\"TEST!\")"
   ]
  },
  {
   "cell_type": "markdown",
   "id": "b2bcfa9d",
   "metadata": {},
   "source": [
    "# Set up our constants"
   ]
  },
  {
   "cell_type": "markdown",
   "id": "7d38e79f",
   "metadata": {},
   "source": [
    "# Grabbing the data from the first page\n",
    "\n",
    "First let's focus on simply pulling location IDs from the pins we see on the default map view before we get into the details of rastering across the US."
   ]
  },
  {
   "cell_type": "markdown",
   "id": "21b241e6",
   "metadata": {},
   "source": [
    "## Helper Functions"
   ]
  },
  {
   "cell_type": "code",
   "execution_count": null,
   "id": "2d1f7939",
   "metadata": {},
   "outputs": [],
   "source": [
    "URL = \"https://developer.plugshare.com/embed\""
   ]
  },
  {
   "cell_type": "code",
   "execution_count": 3,
   "id": "85d93492",
   "metadata": {},
   "outputs": [],
   "source": [
    "\n",
    "\n",
    "class SeleniumDriver():\n",
    "    \n",
    "    def __init__(self, timeout: int = 3):\n",
    "        self.timeout = timeout\n",
    "        self.chrome_options = Options()\n",
    "            \n",
    "        # Removes automation infobar\n",
    "        self.chrome_options.add_experimental_option(\"excludeSwitches\", [\"enable-automation\"])\n",
    "\n",
    "\n",
    "        # Get rid of kruft that will slow us down\n",
    "        self.chrome_options.add_argument(\"--disable-extensions\")\n",
    "        self.chrome_options.add_argument(\"--disable-notifications\")\n",
    "\n",
    "        # Turn off geolocation to speed things up\n",
    "        prefs = {\"profile.default_content_setting_values.geolocation\":2} \n",
    "        self.chrome_options.add_experimental_option(\"prefs\", prefs)\n",
    "        \n",
    "\n",
    "        self.driver = webdriver.Chrome(options=self.chrome_options)\n",
    "        self.driver.maximize_window()\n",
    "        self.wait = WebDriverWait(self.driver, timeout)"
   ]
  },
  {
   "cell_type": "code",
   "execution_count": 4,
   "id": "57e3348a",
   "metadata": {},
   "outputs": [],
   "source": [
    "def get_elements(driver, criterion, xpath: str):\n",
    "    elements = driver.find_elements(criterion, xpath)\n",
    "    if len(elements) == 1:\n",
    "        logger.info(\"Found only one element\")\n",
    "        return elements[0]\n",
    "    elif len(elements) == 0:\n",
    "        logger.error(\"Found no elements\")\n",
    "        return None\n",
    "    \n",
    "    logger.info(f\"Found {len(elements)} elements\")\n",
    "    return elements"
   ]
  },
  {
   "cell_type": "markdown",
   "id": "28114cde",
   "metadata": {},
   "source": [
    "## Parsing It"
   ]
  },
  {
   "cell_type": "code",
   "execution_count": 23,
   "id": "4063853a",
   "metadata": {},
   "outputs": [
    {
     "name": "stderr",
     "output_type": "stream",
     "text": [
      "2024-06-23_T17_30_38EDT: INFO (evlens.data.plugshare:L563) - Beginning location ID scraping!\n",
      "Parsing pins: 100%|██████████| 2/2 [00:02<00:00,  1.41s/it]\n",
      "Searching map tiles: 100%|██████████| 1/1 [00:06<00:00,  6.06s/it]\n",
      "2024-06-23_T17_30_46EDT: INFO (evlens.data.plugshare:L330) - Saving checkpoint 'df_location_ids'...\n",
      "2024-06-23_T17_30_46EDT: INFO (evlens.data.plugshare:L338) - Save complete!\n",
      "2024-06-23_T17_30_46EDT: INFO (evlens.data.plugshare:L604) - All location IDs scraped (that we could)!\n"
     ]
    },
    {
     "data": {
      "text/html": [
       "<pre style=\"white-space:pre;overflow-x:auto;line-height:normal;font-family:Menlo,'DejaVu Sans Mono',consolas,'Courier New',monospace\">Took <span style=\"color: #008080; text-decoration-color: #008080; font-weight: bold\">8.7657949924469</span> seconds to execute\n",
       "</pre>\n"
      ],
      "text/plain": [
       "Took \u001b[1;36m8.7657949924469\u001b[0m seconds to execute\n"
      ]
     },
     "metadata": {},
     "output_type": "display_data"
    },
    {
     "data": {
      "text/html": [
       "<div>\n",
       "<style scoped>\n",
       "    .dataframe tbody tr th:only-of-type {\n",
       "        vertical-align: middle;\n",
       "    }\n",
       "\n",
       "    .dataframe tbody tr th {\n",
       "        vertical-align: top;\n",
       "    }\n",
       "\n",
       "    .dataframe thead th {\n",
       "        text-align: right;\n",
       "    }\n",
       "</style>\n",
       "<table border=\"1\" class=\"dataframe\">\n",
       "  <thead>\n",
       "    <tr style=\"text-align: right;\">\n",
       "      <th></th>\n",
       "      <th>parsed_datetime</th>\n",
       "      <th>plug_types_searched</th>\n",
       "      <th>location_id</th>\n",
       "      <th>search_cell_latitude</th>\n",
       "      <th>search_cell_longitude</th>\n",
       "    </tr>\n",
       "  </thead>\n",
       "  <tbody>\n",
       "    <tr>\n",
       "      <th>0</th>\n",
       "      <td>06-23-2024_T21_30_44</td>\n",
       "      <td>[SAE Combo DC CCS]</td>\n",
       "      <td>563873</td>\n",
       "      <td>40.752583</td>\n",
       "      <td>-73.99995</td>\n",
       "    </tr>\n",
       "    <tr>\n",
       "      <th>1</th>\n",
       "      <td>06-23-2024_T21_30_44</td>\n",
       "      <td>[SAE Combo DC CCS]</td>\n",
       "      <td>574882</td>\n",
       "      <td>40.752583</td>\n",
       "      <td>-73.99995</td>\n",
       "    </tr>\n",
       "  </tbody>\n",
       "</table>\n",
       "</div>"
      ],
      "text/plain": [
       "        parsed_datetime plug_types_searched location_id  search_cell_latitude  \\\n",
       "0  06-23-2024_T21_30_44  [SAE Combo DC CCS]      563873             40.752583   \n",
       "1  06-23-2024_T21_30_44  [SAE Combo DC CCS]      574882             40.752583   \n",
       "\n",
       "   search_cell_longitude  \n",
       "0              -73.99995  \n",
       "1              -73.99995  "
      ]
     },
     "execution_count": 23,
     "metadata": {},
     "output_type": "execute_result"
    }
   ],
   "source": [
    "from time import time\n",
    "from evlens.data.plugshare import LocationIDScraper, SearchCriterion\n",
    "\n",
    "from datetime import date\n",
    "TODAY_STRING = date.today().strftime(\"%m-%d-%Y\")\n",
    "\n",
    "# Moynihan Train Station - should have only one pin for CCS\n",
    "TEST_COORDS = (40.7525834,-73.9999498) # Lat, long\n",
    "RADIUS = 1 # miles\n",
    "SLEEP_FOR_IFRAME_PAN = 1.5\n",
    "\n",
    "start_time = time()\n",
    "lis = LocationIDScraper(\n",
    "    f\"../data/external/plugshare/{TODAY_STRING}/\",\n",
    "    timeout=3,\n",
    "    headless=False\n",
    ")\n",
    "\n",
    "sc = SearchCriterion(\n",
    "    TEST_COORDS[0],\n",
    "    TEST_COORDS[1],\n",
    "    RADIUS,\n",
    "    SLEEP_FOR_IFRAME_PAN\n",
    ")\n",
    "df_location_ids = lis.run([sc])\n",
    "\n",
    "print(f\"Took {time() - start_time} seconds to execute\")\n",
    "\n",
    "# Should return [563873, 574882]\n",
    "df_location_ids"
   ]
  },
  {
   "cell_type": "markdown",
   "id": "2fbb1b81",
   "metadata": {},
   "source": [
    "The current problem: the pin popup shoves the viewport so I lose track of my pin elements and they go stale. BUT if I zoom out to make room, the pin elements *also* go stale. \n",
    "\n",
    "* I think I have to:\n",
    "    1. Click the first pin and record its info\n",
    "    2. Re-query the map (UGH time consuming)\n",
    "    3. Click the next pin and record\n",
    "    4. Rinse and repeat for all pins I originally found..."
   ]
  },
  {
   "cell_type": "code",
   "execution_count": 240,
   "id": "7887009a",
   "metadata": {},
   "outputs": [
    {
     "ename": "StaleElementReferenceException",
     "evalue": "Message: stale element reference: stale element not found in the current frame\n  (Session info: chrome=126.0.6478.114); For documentation on this error, please visit: https://www.selenium.dev/documentation/webdriver/troubleshooting/errors#stale-element-reference-exception\nStacktrace:\n0   chromedriver                        0x0000000104b67a20 chromedriver + 4389408\n1   chromedriver                        0x0000000104b6032c chromedriver + 4358956\n2   chromedriver                        0x000000010477cafc chromedriver + 281340\n3   chromedriver                        0x0000000104780fcc chromedriver + 298956\n4   chromedriver                        0x0000000104782e44 chromedriver + 306756\n5   chromedriver                        0x0000000104782ebc chromedriver + 306876\n6   chromedriver                        0x00000001047c0bec chromedriver + 560108\n7   chromedriver                        0x00000001047b5bac chromedriver + 514988\n8   chromedriver                        0x00000001047b5718 chromedriver + 513816\n9   chromedriver                        0x00000001047f7cec chromedriver + 785644\n10  chromedriver                        0x00000001047b3ed0 chromedriver + 507600\n11  chromedriver                        0x00000001047b48a8 chromedriver + 510120\n12  chromedriver                        0x0000000104b2f3a4 chromedriver + 4158372\n13  chromedriver                        0x0000000104b33e08 chromedriver + 4177416\n14  chromedriver                        0x0000000104b15064 chromedriver + 4051044\n15  chromedriver                        0x0000000104b346f4 chromedriver + 4179700\n16  chromedriver                        0x0000000104b08064 chromedriver + 3997796\n17  chromedriver                        0x0000000104b520bc chromedriver + 4300988\n18  chromedriver                        0x0000000104b52238 chromedriver + 4301368\n19  chromedriver                        0x0000000104b5ff24 chromedriver + 4357924\n20  libsystem_pthread.dylib             0x000000019f3e2f94 _pthread_start + 136\n21  libsystem_pthread.dylib             0x000000019f3ddd34 thread_start + 8\n",
     "output_type": "error",
     "traceback": [
      "\u001b[0;31m---------------------------------------------------------------------------\u001b[0m",
      "\u001b[0;31mStaleElementReferenceException\u001b[0m            Traceback (most recent call last)",
      "Cell \u001b[0;32mIn[240], line 4\u001b[0m\n\u001b[1;32m      2\u001b[0m \u001b[38;5;28;01mfor\u001b[39;00m i, pin \u001b[38;5;129;01min\u001b[39;00m \u001b[38;5;28menumerate\u001b[39m(pins):\n\u001b[1;32m      3\u001b[0m     \u001b[38;5;28;01mtry\u001b[39;00m:\n\u001b[0;32m----> 4\u001b[0m         location_ids\u001b[38;5;241m.\u001b[39madd(\u001b[43mparse_location_link\u001b[49m\u001b[43m(\u001b[49m\u001b[43ms\u001b[49m\u001b[38;5;241;43m.\u001b[39;49m\u001b[43mdriver\u001b[49m\u001b[43m,\u001b[49m\u001b[43m \u001b[49m\u001b[43mpin\u001b[49m\u001b[43m)\u001b[49m)\n\u001b[1;32m      5\u001b[0m     \u001b[38;5;28;01mexcept\u001b[39;00m (ElementClickInterceptedException, ElementNotInteractableException):\n\u001b[1;32m      6\u001b[0m         logger\u001b[38;5;241m.\u001b[39merror(\u001b[38;5;124mf\u001b[39m\u001b[38;5;124m\"\u001b[39m\u001b[38;5;124mPin \u001b[39m\u001b[38;5;132;01m{\u001b[39;00mi\u001b[38;5;132;01m}\u001b[39;00m\u001b[38;5;124m not clickable\u001b[39m\u001b[38;5;124m\"\u001b[39m)\n",
      "Cell \u001b[0;32mIn[162], line 4\u001b[0m, in \u001b[0;36mparse_location_link\u001b[0;34m(driver, pin_element)\u001b[0m\n\u001b[1;32m      3\u001b[0m \u001b[38;5;28;01mdef\u001b[39;00m \u001b[38;5;21mparse_location_link\u001b[39m(driver, pin_element):\n\u001b[0;32m----> 4\u001b[0m     \u001b[43mpin_element\u001b[49m\u001b[38;5;241;43m.\u001b[39;49m\u001b[43mclick\u001b[49m\u001b[43m(\u001b[49m\u001b[43m)\u001b[49m\n\u001b[1;32m      5\u001b[0m     location_link \u001b[38;5;241m=\u001b[39m driver\u001b[38;5;241m.\u001b[39mfind_element(\n\u001b[1;32m      6\u001b[0m         By\u001b[38;5;241m.\u001b[39mXPATH,\n\u001b[1;32m      7\u001b[0m         \u001b[38;5;124m'\u001b[39m\u001b[38;5;124m//*[@id=\u001b[39m\u001b[38;5;124m\"\u001b[39m\u001b[38;5;124mcharger_info_footer\u001b[39m\u001b[38;5;124m\"\u001b[39m\u001b[38;5;124m]/a\u001b[39m\u001b[38;5;124m'\u001b[39m\n\u001b[1;32m      8\u001b[0m     )\n\u001b[1;32m      9\u001b[0m     link \u001b[38;5;241m=\u001b[39m location_link\u001b[38;5;241m.\u001b[39mget_attribute(\u001b[38;5;124m'\u001b[39m\u001b[38;5;124mhref\u001b[39m\u001b[38;5;124m'\u001b[39m)\n",
      "File \u001b[0;32m~/Projects/evlens/.venv/lib/python3.11/site-packages/selenium/webdriver/remote/webelement.py:94\u001b[0m, in \u001b[0;36mWebElement.click\u001b[0;34m(self)\u001b[0m\n\u001b[1;32m     92\u001b[0m \u001b[38;5;28;01mdef\u001b[39;00m \u001b[38;5;21mclick\u001b[39m(\u001b[38;5;28mself\u001b[39m) \u001b[38;5;241m-\u001b[39m\u001b[38;5;241m>\u001b[39m \u001b[38;5;28;01mNone\u001b[39;00m:\n\u001b[1;32m     93\u001b[0m \u001b[38;5;250m    \u001b[39m\u001b[38;5;124;03m\"\"\"Clicks the element.\"\"\"\u001b[39;00m\n\u001b[0;32m---> 94\u001b[0m     \u001b[38;5;28;43mself\u001b[39;49m\u001b[38;5;241;43m.\u001b[39;49m\u001b[43m_execute\u001b[49m\u001b[43m(\u001b[49m\u001b[43mCommand\u001b[49m\u001b[38;5;241;43m.\u001b[39;49m\u001b[43mCLICK_ELEMENT\u001b[49m\u001b[43m)\u001b[49m\n",
      "File \u001b[0;32m~/Projects/evlens/.venv/lib/python3.11/site-packages/selenium/webdriver/remote/webelement.py:395\u001b[0m, in \u001b[0;36mWebElement._execute\u001b[0;34m(self, command, params)\u001b[0m\n\u001b[1;32m    393\u001b[0m     params \u001b[38;5;241m=\u001b[39m {}\n\u001b[1;32m    394\u001b[0m params[\u001b[38;5;124m\"\u001b[39m\u001b[38;5;124mid\u001b[39m\u001b[38;5;124m\"\u001b[39m] \u001b[38;5;241m=\u001b[39m \u001b[38;5;28mself\u001b[39m\u001b[38;5;241m.\u001b[39m_id\n\u001b[0;32m--> 395\u001b[0m \u001b[38;5;28;01mreturn\u001b[39;00m \u001b[38;5;28;43mself\u001b[39;49m\u001b[38;5;241;43m.\u001b[39;49m\u001b[43m_parent\u001b[49m\u001b[38;5;241;43m.\u001b[39;49m\u001b[43mexecute\u001b[49m\u001b[43m(\u001b[49m\u001b[43mcommand\u001b[49m\u001b[43m,\u001b[49m\u001b[43m \u001b[49m\u001b[43mparams\u001b[49m\u001b[43m)\u001b[49m\n",
      "File \u001b[0;32m~/Projects/evlens/.venv/lib/python3.11/site-packages/selenium/webdriver/remote/webdriver.py:347\u001b[0m, in \u001b[0;36mWebDriver.execute\u001b[0;34m(self, driver_command, params)\u001b[0m\n\u001b[1;32m    345\u001b[0m response \u001b[38;5;241m=\u001b[39m \u001b[38;5;28mself\u001b[39m\u001b[38;5;241m.\u001b[39mcommand_executor\u001b[38;5;241m.\u001b[39mexecute(driver_command, params)\n\u001b[1;32m    346\u001b[0m \u001b[38;5;28;01mif\u001b[39;00m response:\n\u001b[0;32m--> 347\u001b[0m     \u001b[38;5;28;43mself\u001b[39;49m\u001b[38;5;241;43m.\u001b[39;49m\u001b[43merror_handler\u001b[49m\u001b[38;5;241;43m.\u001b[39;49m\u001b[43mcheck_response\u001b[49m\u001b[43m(\u001b[49m\u001b[43mresponse\u001b[49m\u001b[43m)\u001b[49m\n\u001b[1;32m    348\u001b[0m     response[\u001b[38;5;124m\"\u001b[39m\u001b[38;5;124mvalue\u001b[39m\u001b[38;5;124m\"\u001b[39m] \u001b[38;5;241m=\u001b[39m \u001b[38;5;28mself\u001b[39m\u001b[38;5;241m.\u001b[39m_unwrap_value(response\u001b[38;5;241m.\u001b[39mget(\u001b[38;5;124m\"\u001b[39m\u001b[38;5;124mvalue\u001b[39m\u001b[38;5;124m\"\u001b[39m, \u001b[38;5;28;01mNone\u001b[39;00m))\n\u001b[1;32m    349\u001b[0m     \u001b[38;5;28;01mreturn\u001b[39;00m response\n",
      "File \u001b[0;32m~/Projects/evlens/.venv/lib/python3.11/site-packages/selenium/webdriver/remote/errorhandler.py:229\u001b[0m, in \u001b[0;36mErrorHandler.check_response\u001b[0;34m(self, response)\u001b[0m\n\u001b[1;32m    227\u001b[0m         alert_text \u001b[38;5;241m=\u001b[39m value[\u001b[38;5;124m\"\u001b[39m\u001b[38;5;124malert\u001b[39m\u001b[38;5;124m\"\u001b[39m]\u001b[38;5;241m.\u001b[39mget(\u001b[38;5;124m\"\u001b[39m\u001b[38;5;124mtext\u001b[39m\u001b[38;5;124m\"\u001b[39m)\n\u001b[1;32m    228\u001b[0m     \u001b[38;5;28;01mraise\u001b[39;00m exception_class(message, screen, stacktrace, alert_text)  \u001b[38;5;66;03m# type: ignore[call-arg]  # mypy is not smart enough here\u001b[39;00m\n\u001b[0;32m--> 229\u001b[0m \u001b[38;5;28;01mraise\u001b[39;00m exception_class(message, screen, stacktrace)\n",
      "\u001b[0;31mStaleElementReferenceException\u001b[0m: Message: stale element reference: stale element not found in the current frame\n  (Session info: chrome=126.0.6478.114); For documentation on this error, please visit: https://www.selenium.dev/documentation/webdriver/troubleshooting/errors#stale-element-reference-exception\nStacktrace:\n0   chromedriver                        0x0000000104b67a20 chromedriver + 4389408\n1   chromedriver                        0x0000000104b6032c chromedriver + 4358956\n2   chromedriver                        0x000000010477cafc chromedriver + 281340\n3   chromedriver                        0x0000000104780fcc chromedriver + 298956\n4   chromedriver                        0x0000000104782e44 chromedriver + 306756\n5   chromedriver                        0x0000000104782ebc chromedriver + 306876\n6   chromedriver                        0x00000001047c0bec chromedriver + 560108\n7   chromedriver                        0x00000001047b5bac chromedriver + 514988\n8   chromedriver                        0x00000001047b5718 chromedriver + 513816\n9   chromedriver                        0x00000001047f7cec chromedriver + 785644\n10  chromedriver                        0x00000001047b3ed0 chromedriver + 507600\n11  chromedriver                        0x00000001047b48a8 chromedriver + 510120\n12  chromedriver                        0x0000000104b2f3a4 chromedriver + 4158372\n13  chromedriver                        0x0000000104b33e08 chromedriver + 4177416\n14  chromedriver                        0x0000000104b15064 chromedriver + 4051044\n15  chromedriver                        0x0000000104b346f4 chromedriver + 4179700\n16  chromedriver                        0x0000000104b08064 chromedriver + 3997796\n17  chromedriver                        0x0000000104b520bc chromedriver + 4300988\n18  chromedriver                        0x0000000104b52238 chromedriver + 4301368\n19  chromedriver                        0x0000000104b5ff24 chromedriver + 4357924\n20  libsystem_pthread.dylib             0x000000019f3e2f94 _pthread_start + 136\n21  libsystem_pthread.dylib             0x000000019f3ddd34 thread_start + 8\n"
     ]
    }
   ],
   "source": [
    "from tqdm import tqdm\n",
    "\n",
    "location_ids = set()\n",
    "for i, pin in tqdm(enumerate(pins), desc=\"Parsing pins\"):\n",
    "    try:\n",
    "        location_ids.add(parse_location_link(s.driver, pin))\n",
    "    except (ElementClickInterceptedException, ElementNotInteractableException):\n",
    "        logger.error(f\"Pin {i} not clickable\")\n",
    "    except (NoSuchElementException):\n",
    "        logger.error(f\"Pin {i} not found weirdly...\")\n",
    "        \n",
    "location_ids"
   ]
  },
  {
   "cell_type": "code",
   "execution_count": 190,
   "id": "a94631df",
   "metadata": {},
   "outputs": [
    {
     "name": "stderr",
     "output_type": "stream",
     "text": [
      "2024-06-21_T23_46_57EDT: INFO (Notebook-0.2:L10) - Found 3 elements\n"
     ]
    }
   ],
   "source": [
    "# Try switching out of (likely stale) iframe and re-switching to it\n",
    "s.driver.switch_to.default_content()\n",
    "\n",
    "map_iframe = s.driver.find_element(By.XPATH, '//*[@id=\"widget\"]/iframe')\n",
    "s.driver.switch_to.frame(map_iframe)\n",
    "\n",
    "# Expect one element\n",
    "pins = get_elements(s.driver, By.CSS_SELECTOR, 'img[src=\"https://maps.gstatic.com/mapfiles/transparent.png\"]')"
   ]
  },
  {
   "cell_type": "code",
   "execution_count": 81,
   "id": "469f32b3",
   "metadata": {},
   "outputs": [
    {
     "data": {
      "text/plain": [
       "['141640', '141640']"
      ]
     },
     "execution_count": 81,
     "metadata": {},
     "output_type": "execute_result"
    }
   ],
   "source": [
    "location_ids"
   ]
  },
  {
   "cell_type": "code",
   "execution_count": null,
   "id": "e3fb060b",
   "metadata": {},
   "outputs": [],
   "source": [
    "s.driver.switch_to.default_content()"
   ]
  },
  {
   "cell_type": "code",
   "execution_count": 31,
   "id": "828eb1b2",
   "metadata": {},
   "outputs": [],
   "source": [
    "s.driver.quit()"
   ]
  },
  {
   "cell_type": "code",
   "execution_count": null,
   "id": "a62d7dc6",
   "metadata": {},
   "outputs": [],
   "source": []
  }
 ],
 "metadata": {
  "kernelspec": {
   "display_name": ".venv",
   "language": "python",
   "name": "python3"
  },
  "language_info": {
   "codemirror_mode": {
    "name": "ipython",
    "version": 3
   },
   "file_extension": ".py",
   "mimetype": "text/x-python",
   "name": "python",
   "nbconvert_exporter": "python",
   "pygments_lexer": "ipython3",
   "version": "3.11.5"
  }
 },
 "nbformat": 4,
 "nbformat_minor": 5
}
