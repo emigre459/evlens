{
 "cells": [
  {
   "cell_type": "markdown",
   "id": "bddfc535-9593-42fe-8b05-4680ba70926a",
   "metadata": {},
   "source": [
    "# Purpose\n",
    "\n",
    "Figure out pulling location IDs for only DCFC US (non-Tesla to start with) in the US. Need location IDs to efficiently scrape Plugshare with some of our other code."
   ]
  },
  {
   "cell_type": "markdown",
   "id": "9005defb-b608-430d-b91a-c384cf8bed2e",
   "metadata": {},
   "source": [
    "# Imports"
   ]
  },
  {
   "cell_type": "code",
   "execution_count": 1,
   "id": "8eadbe4f-bacf-4f41-9ffa-07e3d1e29d8f",
   "metadata": {},
   "outputs": [
    {
     "name": "stderr",
     "output_type": "stream",
     "text": [
      "2024-06-22_T19_58_32EDT: INFO (Notebook-0.2:L31) - TEST!\n"
     ]
    }
   ],
   "source": [
    "\n",
    "%load_ext autoreload\n",
    "%autoreload 2\n",
    "\n",
    "import numpy as np\n",
    "from rich import print\n",
    "import os\n",
    "import pandas as pd\n",
    "from bs4 import BeautifulSoup\n",
    "import requests\n",
    "from tqdm import tqdm\n",
    "from typing import List, Union, Set\n",
    "\n",
    "from evlens.data.plugshare import Scraper\n",
    "\n",
    "from selenium import webdriver\n",
    "from selenium.webdriver.common.by import By\n",
    "from selenium.webdriver.chrome.options import Options\n",
    "from selenium.webdriver.support.ui import WebDriverWait\n",
    "from selenium.webdriver.support import expected_conditions as EC\n",
    "from selenium.webdriver import ActionChains\n",
    "from selenium.common.exceptions import NoSuchElementException, TimeoutException, ElementClickInterceptedException, ElementNotInteractableException\n",
    "\n",
    "# Electrify America in Springfield, VA mall parking lot\n",
    "TEST_LOCATION = 252784\n",
    "\n",
    "from dotenv import load_dotenv\n",
    "load_dotenv(override=True)\n",
    "\n",
    "from evlens.logs import setup_logger\n",
    "logger = setup_logger(\"Notebook-0.2\")\n",
    "logger.info(\"TEST!\")"
   ]
  },
  {
   "cell_type": "markdown",
   "id": "b2bcfa9d",
   "metadata": {},
   "source": [
    "# Set up our constants"
   ]
  },
  {
   "cell_type": "markdown",
   "id": "7d38e79f",
   "metadata": {},
   "source": [
    "# Grabbing the data from the first page\n",
    "\n",
    "First let's focus on simply pulling location IDs from the pins we see on the default map view before we get into the details of rastering across the US."
   ]
  },
  {
   "cell_type": "markdown",
   "id": "21b241e6",
   "metadata": {},
   "source": [
    "## Helper Functions"
   ]
  },
  {
   "cell_type": "code",
   "execution_count": null,
   "id": "2d1f7939",
   "metadata": {},
   "outputs": [],
   "source": [
    "URL = \"https://developer.plugshare.com/embed\""
   ]
  },
  {
   "cell_type": "code",
   "execution_count": 3,
   "id": "85d93492",
   "metadata": {},
   "outputs": [],
   "source": [
    "\n",
    "\n",
    "class SeleniumDriver():\n",
    "    \n",
    "    def __init__(self, timeout: int = 3):\n",
    "        self.timeout = timeout\n",
    "        self.chrome_options = Options()\n",
    "            \n",
    "        # Removes automation infobar\n",
    "        self.chrome_options.add_experimental_option(\"excludeSwitches\", [\"enable-automation\"])\n",
    "\n",
    "\n",
    "        # Get rid of kruft that will slow us down\n",
    "        self.chrome_options.add_argument(\"--disable-extensions\")\n",
    "        self.chrome_options.add_argument(\"--disable-notifications\")\n",
    "\n",
    "        # Turn off geolocation to speed things up\n",
    "        prefs = {\"profile.default_content_setting_values.geolocation\":2} \n",
    "        self.chrome_options.add_experimental_option(\"prefs\", prefs)\n",
    "        \n",
    "\n",
    "        self.driver = webdriver.Chrome(options=self.chrome_options)\n",
    "        self.driver.maximize_window()\n",
    "        self.wait = WebDriverWait(self.driver, timeout)"
   ]
  },
  {
   "cell_type": "code",
   "execution_count": 4,
   "id": "57e3348a",
   "metadata": {},
   "outputs": [],
   "source": [
    "def get_elements(driver, criterion, xpath: str):\n",
    "    elements = driver.find_elements(criterion, xpath)\n",
    "    if len(elements) == 1:\n",
    "        logger.info(\"Found only one element\")\n",
    "        return elements[0]\n",
    "    elif len(elements) == 0:\n",
    "        logger.error(\"Found no elements\")\n",
    "        return None\n",
    "    \n",
    "    logger.info(f\"Found {len(elements)} elements\")\n",
    "    return elements"
   ]
  },
  {
   "cell_type": "markdown",
   "id": "28114cde",
   "metadata": {},
   "source": [
    "## Parsing It"
   ]
  },
  {
   "cell_type": "code",
   "execution_count": 23,
   "id": "4063853a",
   "metadata": {},
   "outputs": [
    {
     "name": "stderr",
     "output_type": "stream",
     "text": [
      "2024-06-23_T17_30_38EDT: INFO (evlens.data.plugshare:L563) - Beginning location ID scraping!\n",
      "Parsing pins: 100%|██████████| 2/2 [00:02<00:00,  1.41s/it]\n",
      "Searching map tiles: 100%|██████████| 1/1 [00:06<00:00,  6.06s/it]\n",
      "2024-06-23_T17_30_46EDT: INFO (evlens.data.plugshare:L330) - Saving checkpoint 'df_location_ids'...\n",
      "2024-06-23_T17_30_46EDT: INFO (evlens.data.plugshare:L338) - Save complete!\n",
      "2024-06-23_T17_30_46EDT: INFO (evlens.data.plugshare:L604) - All location IDs scraped (that we could)!\n"
     ]
    },
    {
     "data": {
      "text/html": [
       "<pre style=\"white-space:pre;overflow-x:auto;line-height:normal;font-family:Menlo,'DejaVu Sans Mono',consolas,'Courier New',monospace\">Took <span style=\"color: #008080; text-decoration-color: #008080; font-weight: bold\">8.7657949924469</span> seconds to execute\n",
       "</pre>\n"
      ],
      "text/plain": [
       "Took \u001b[1;36m8.7657949924469\u001b[0m seconds to execute\n"
      ]
     },
     "metadata": {},
     "output_type": "display_data"
    },
    {
     "data": {
      "text/html": [
       "<div>\n",
       "<style scoped>\n",
       "    .dataframe tbody tr th:only-of-type {\n",
       "        vertical-align: middle;\n",
       "    }\n",
       "\n",
       "    .dataframe tbody tr th {\n",
       "        vertical-align: top;\n",
       "    }\n",
       "\n",
       "    .dataframe thead th {\n",
       "        text-align: right;\n",
       "    }\n",
       "</style>\n",
       "<table border=\"1\" class=\"dataframe\">\n",
       "  <thead>\n",
       "    <tr style=\"text-align: right;\">\n",
       "      <th></th>\n",
       "      <th>parsed_datetime</th>\n",
       "      <th>plug_types_searched</th>\n",
       "      <th>location_id</th>\n",
       "      <th>search_cell_latitude</th>\n",
       "      <th>search_cell_longitude</th>\n",
       "    </tr>\n",
       "  </thead>\n",
       "  <tbody>\n",
       "    <tr>\n",
       "      <th>0</th>\n",
       "      <td>06-23-2024_T21_30_44</td>\n",
       "      <td>[SAE Combo DC CCS]</td>\n",
       "      <td>563873</td>\n",
       "      <td>40.752583</td>\n",
       "      <td>-73.99995</td>\n",
       "    </tr>\n",
       "    <tr>\n",
       "      <th>1</th>\n",
       "      <td>06-23-2024_T21_30_44</td>\n",
       "      <td>[SAE Combo DC CCS]</td>\n",
       "      <td>574882</td>\n",
       "      <td>40.752583</td>\n",
       "      <td>-73.99995</td>\n",
       "    </tr>\n",
       "  </tbody>\n",
       "</table>\n",
       "</div>"
      ],
      "text/plain": [
       "        parsed_datetime plug_types_searched location_id  search_cell_latitude  \\\n",
       "0  06-23-2024_T21_30_44  [SAE Combo DC CCS]      563873             40.752583   \n",
       "1  06-23-2024_T21_30_44  [SAE Combo DC CCS]      574882             40.752583   \n",
       "\n",
       "   search_cell_longitude  \n",
       "0              -73.99995  \n",
       "1              -73.99995  "
      ]
     },
     "execution_count": 23,
     "metadata": {},
     "output_type": "execute_result"
    }
   ],
   "source": [
    "from time import time\n",
    "from evlens.data.plugshare import LocationIDScraper, SearchCriterion\n",
    "\n",
    "from datetime import date\n",
    "TODAY_STRING = date.today().strftime(\"%m-%d-%Y\")\n",
    "\n",
    "# Moynihan Train Station - should have only one pin for CCS\n",
    "TEST_COORDS = (40.7525834,-73.9999498) # Lat, long\n",
    "RADIUS = 1 # miles\n",
    "SLEEP_FOR_IFRAME_PAN = 1.5\n",
    "\n",
    "start_time = time()\n",
    "lis = LocationIDScraper(\n",
    "    f\"../data/external/plugshare/{TODAY_STRING}/\",\n",
    "    timeout=3,\n",
    "    headless=False\n",
    ")\n",
    "\n",
    "sc = SearchCriterion(\n",
    "    TEST_COORDS[0],\n",
    "    TEST_COORDS[1],\n",
    "    RADIUS,\n",
    "    SLEEP_FOR_IFRAME_PAN\n",
    ")\n",
    "df_location_ids = lis.run([sc])\n",
    "\n",
    "print(f\"Took {time() - start_time} seconds to execute\")\n",
    "\n",
    "# Should return [563873, 574882]\n",
    "df_location_ids"
   ]
  },
  {
   "cell_type": "markdown",
   "id": "2fbb1b81",
   "metadata": {},
   "source": [
    "The current problem: the pin popup shoves the viewport so I lose track of my pin elements and they go stale. BUT if I zoom out to make room, the pin elements *also* go stale. \n",
    "\n",
    "* I think I have to:\n",
    "    1. Click the first pin and record its info\n",
    "    2. Re-query the map (UGH time consuming)\n",
    "    3. Click the next pin and record\n",
    "    4. Rinse and repeat for all pins I originally found..."
   ]
  },
  {
   "cell_type": "markdown",
   "id": "571267bd",
   "metadata": {},
   "source": [
    "# Gridding Up the US\n",
    "\n",
    "The idea is that we'll be able to draw a line around the country of interest (USA for now) and then build hexagonal or some other kind of grid of size `radius` such that we can iterate through one at a time.\n",
    "\n",
    "Each grid tile will need a lat/long coordinate as its center to make it useful."
   ]
  },
  {
   "cell_type": "code",
   "execution_count": 32,
   "id": "a62d7dc6",
   "metadata": {},
   "outputs": [
    {
     "name": "stderr",
     "output_type": "stream",
     "text": [
      "/var/folders/98/fhwnl49n19l_xywxzghbm4jm0000gn/T/ipykernel_63722/4069941300.py:6: FutureWarning: The geopandas.dataset module is deprecated and will be removed in GeoPandas 1.0. You can get the original 'naturalearth_lowres' data from https://www.naturalearthdata.com/downloads/110m-cultural-vectors/.\n",
      "  gdf = gpd.read_file(gpd.datasets.get_path('naturalearth_lowres'))\n"
     ]
    },
    {
     "data": {
      "text/html": [
       "<div>\n",
       "<style scoped>\n",
       "    .dataframe tbody tr th:only-of-type {\n",
       "        vertical-align: middle;\n",
       "    }\n",
       "\n",
       "    .dataframe tbody tr th {\n",
       "        vertical-align: top;\n",
       "    }\n",
       "\n",
       "    .dataframe thead th {\n",
       "        text-align: right;\n",
       "    }\n",
       "</style>\n",
       "<table border=\"1\" class=\"dataframe\">\n",
       "  <thead>\n",
       "    <tr style=\"text-align: right;\">\n",
       "      <th></th>\n",
       "      <th>pop_est</th>\n",
       "      <th>continent</th>\n",
       "      <th>name</th>\n",
       "      <th>iso_a3</th>\n",
       "      <th>gdp_md_est</th>\n",
       "      <th>geometry</th>\n",
       "    </tr>\n",
       "  </thead>\n",
       "  <tbody>\n",
       "    <tr>\n",
       "      <th>0</th>\n",
       "      <td>889953.0</td>\n",
       "      <td>Oceania</td>\n",
       "      <td>Fiji</td>\n",
       "      <td>FJI</td>\n",
       "      <td>5496</td>\n",
       "      <td>MULTIPOLYGON (((180.00000 -16.06713, 180.00000...</td>\n",
       "    </tr>\n",
       "    <tr>\n",
       "      <th>1</th>\n",
       "      <td>58005463.0</td>\n",
       "      <td>Africa</td>\n",
       "      <td>Tanzania</td>\n",
       "      <td>TZA</td>\n",
       "      <td>63177</td>\n",
       "      <td>POLYGON ((33.90371 -0.95000, 34.07262 -1.05982...</td>\n",
       "    </tr>\n",
       "    <tr>\n",
       "      <th>2</th>\n",
       "      <td>603253.0</td>\n",
       "      <td>Africa</td>\n",
       "      <td>W. Sahara</td>\n",
       "      <td>ESH</td>\n",
       "      <td>907</td>\n",
       "      <td>POLYGON ((-8.66559 27.65643, -8.66512 27.58948...</td>\n",
       "    </tr>\n",
       "    <tr>\n",
       "      <th>3</th>\n",
       "      <td>37589262.0</td>\n",
       "      <td>North America</td>\n",
       "      <td>Canada</td>\n",
       "      <td>CAN</td>\n",
       "      <td>1736425</td>\n",
       "      <td>MULTIPOLYGON (((-122.84000 49.00000, -122.9742...</td>\n",
       "    </tr>\n",
       "    <tr>\n",
       "      <th>4</th>\n",
       "      <td>328239523.0</td>\n",
       "      <td>North America</td>\n",
       "      <td>United States of America</td>\n",
       "      <td>USA</td>\n",
       "      <td>21433226</td>\n",
       "      <td>MULTIPOLYGON (((-122.84000 49.00000, -120.0000...</td>\n",
       "    </tr>\n",
       "    <tr>\n",
       "      <th>...</th>\n",
       "      <td>...</td>\n",
       "      <td>...</td>\n",
       "      <td>...</td>\n",
       "      <td>...</td>\n",
       "      <td>...</td>\n",
       "      <td>...</td>\n",
       "    </tr>\n",
       "    <tr>\n",
       "      <th>172</th>\n",
       "      <td>6944975.0</td>\n",
       "      <td>Europe</td>\n",
       "      <td>Serbia</td>\n",
       "      <td>SRB</td>\n",
       "      <td>51475</td>\n",
       "      <td>POLYGON ((18.82982 45.90887, 18.82984 45.90888...</td>\n",
       "    </tr>\n",
       "    <tr>\n",
       "      <th>173</th>\n",
       "      <td>622137.0</td>\n",
       "      <td>Europe</td>\n",
       "      <td>Montenegro</td>\n",
       "      <td>MNE</td>\n",
       "      <td>5542</td>\n",
       "      <td>POLYGON ((20.07070 42.58863, 19.80161 42.50009...</td>\n",
       "    </tr>\n",
       "    <tr>\n",
       "      <th>174</th>\n",
       "      <td>1794248.0</td>\n",
       "      <td>Europe</td>\n",
       "      <td>Kosovo</td>\n",
       "      <td>-99</td>\n",
       "      <td>7926</td>\n",
       "      <td>POLYGON ((20.59025 41.85541, 20.52295 42.21787...</td>\n",
       "    </tr>\n",
       "    <tr>\n",
       "      <th>175</th>\n",
       "      <td>1394973.0</td>\n",
       "      <td>North America</td>\n",
       "      <td>Trinidad and Tobago</td>\n",
       "      <td>TTO</td>\n",
       "      <td>24269</td>\n",
       "      <td>POLYGON ((-61.68000 10.76000, -61.10500 10.890...</td>\n",
       "    </tr>\n",
       "    <tr>\n",
       "      <th>176</th>\n",
       "      <td>11062113.0</td>\n",
       "      <td>Africa</td>\n",
       "      <td>S. Sudan</td>\n",
       "      <td>SSD</td>\n",
       "      <td>11998</td>\n",
       "      <td>POLYGON ((30.83385 3.50917, 29.95350 4.17370, ...</td>\n",
       "    </tr>\n",
       "  </tbody>\n",
       "</table>\n",
       "<p>177 rows × 6 columns</p>\n",
       "</div>"
      ],
      "text/plain": [
       "         pop_est      continent                      name iso_a3  gdp_md_est  \\\n",
       "0       889953.0        Oceania                      Fiji    FJI        5496   \n",
       "1     58005463.0         Africa                  Tanzania    TZA       63177   \n",
       "2       603253.0         Africa                 W. Sahara    ESH         907   \n",
       "3     37589262.0  North America                    Canada    CAN     1736425   \n",
       "4    328239523.0  North America  United States of America    USA    21433226   \n",
       "..           ...            ...                       ...    ...         ...   \n",
       "172    6944975.0         Europe                    Serbia    SRB       51475   \n",
       "173     622137.0         Europe                Montenegro    MNE        5542   \n",
       "174    1794248.0         Europe                    Kosovo    -99        7926   \n",
       "175    1394973.0  North America       Trinidad and Tobago    TTO       24269   \n",
       "176   11062113.0         Africa                  S. Sudan    SSD       11998   \n",
       "\n",
       "                                              geometry  \n",
       "0    MULTIPOLYGON (((180.00000 -16.06713, 180.00000...  \n",
       "1    POLYGON ((33.90371 -0.95000, 34.07262 -1.05982...  \n",
       "2    POLYGON ((-8.66559 27.65643, -8.66512 27.58948...  \n",
       "3    MULTIPOLYGON (((-122.84000 49.00000, -122.9742...  \n",
       "4    MULTIPOLYGON (((-122.84000 49.00000, -120.0000...  \n",
       "..                                                 ...  \n",
       "172  POLYGON ((18.82982 45.90887, 18.82984 45.90888...  \n",
       "173  POLYGON ((20.07070 42.58863, 19.80161 42.50009...  \n",
       "174  POLYGON ((20.59025 41.85541, 20.52295 42.21787...  \n",
       "175  POLYGON ((-61.68000 10.76000, -61.10500 10.890...  \n",
       "176  POLYGON ((30.83385 3.50917, 29.95350 4.17370, ...  \n",
       "\n",
       "[177 rows x 6 columns]"
      ]
     },
     "execution_count": 32,
     "metadata": {},
     "output_type": "execute_result"
    }
   ],
   "source": [
    "import geopandas as gpd\n",
    "import h3pandas\n",
    "\n",
    "# Prepare data\n",
    "# gdf = gpd.read_file('../references/2010_us_outline_5m.json')\n",
    "gdf = gpd.read_file(gpd.datasets.get_path('naturalearth_lowres'))\n",
    "gdf"
   ]
  },
  {
   "cell_type": "code",
   "execution_count": 34,
   "id": "f204c143",
   "metadata": {},
   "outputs": [
    {
     "data": {
      "text/plain": [
       "<Axes: >"
      ]
     },
     "execution_count": 34,
     "metadata": {},
     "output_type": "execute_result"
    },
    {
     "data": {
      "image/png": "[encoded data removed]",
      "text/plain": [
       "<Figure size 640x480 with 1 Axes>"
      ]
     },
     "metadata": {},
     "output_type": "display_data"
    }
   ],
   "source": [
    "gdf = gdf.loc[gdf['name'].eq('United States of America')]\n",
    "gdf.plot()"
   ]
  },
  {
   "cell_type": "code",
   "execution_count": 37,
   "id": "d727f23c",
   "metadata": {},
   "outputs": [
    {
     "data": {
      "text/plain": [
       "<Axes: >"
      ]
     },
     "execution_count": 37,
     "metadata": {},
     "output_type": "execute_result"
    },
    {
     "data": {
      "image/png": "[encoded data removed]",
      "text/plain": [
       "<Figure size 640x480 with 1 Axes>"
      ]
     },
     "metadata": {},
     "output_type": "display_data"
    }
   ],
   "source": [
    "resolution = 4\n",
    "\n",
    "# Resample to H3 cells\n",
    "gdf_h3 = gdf.h3.polyfill_resample(resolution)\n",
    "gdf_h3.plot()"
   ]
  },
  {
   "cell_type": "code",
   "execution_count": 54,
   "id": "7d592158",
   "metadata": {},
   "outputs": [],
   "source": [
    "from typing import Literal\n",
    "from pyproj import Geod\n",
    "\n",
    "def find_area_of_cell(cell, unit: Union[Literal['mi^2'], Literal['m^2']] = 'mi^2') -> float:\n",
    "    geod = Geod(ellps=\"WGS84\")\n",
    "    geod_area = abs(geod.geometry_area_perimeter(cell)[0]) # m^2\n",
    "    if unit == 'mi^2':\n",
    "        geod_area /= 2.59E6\n",
    "        \n",
    "    return geod_area"
   ]
  },
  {
   "cell_type": "code",
   "execution_count": 62,
   "id": "466b8e42",
   "metadata": {},
   "outputs": [
    {
     "data": {
      "text/plain": [
       "count    1.812316e+06\n",
       "mean     2.026008e+00\n",
       "std      1.589585e-01\n",
       "min      1.565716e+00\n",
       "25%      1.918172e+00\n",
       "50%      2.026387e+00\n",
       "75%      2.137517e+00\n",
       "max      2.360981e+00\n",
       "Name: geometry, dtype: float64"
      ]
     },
     "execution_count": 62,
     "metadata": {},
     "output_type": "execute_result"
    }
   ],
   "source": [
    "# How to set the resolution to get a median area of 1 mi^2?\n",
    "resolution = 7\n",
    "\n",
    "gdf_h3 = gdf.h3.polyfill_resample(resolution)\n",
    "cell_areas = gdf_h3.geometry.apply(find_area_of_cell)\n",
    "cell_areas.describe()"
   ]
  },
  {
   "cell_type": "code",
   "execution_count": 72,
   "id": "4dcc058f",
   "metadata": {},
   "outputs": [],
   "source": [
    "gdf_h3['cell_area'] = cell_areas\n",
    "gdf_h3 = gdf_h3[['geometry', 'cell_area']]"
   ]
  },
  {
   "cell_type": "code",
   "execution_count": 73,
   "id": "e9a05c6d",
   "metadata": {},
   "outputs": [
    {
     "name": "stdout",
     "output_type": "stream",
     "text": [
      "<class 'geopandas.geodataframe.GeoDataFrame'>\n",
      "Index: 1812316 entries, 872631cacffffff to 872b99662ffffff\n",
      "Data columns (total 2 columns):\n",
      " #   Column     Dtype   \n",
      "---  ------     -----   \n",
      " 0   geometry   geometry\n",
      " 1   cell_area  float64 \n",
      "dtypes: float64(1), geometry(1)\n",
      "memory usage: 106.0+ MB\n"
     ]
    }
   ],
   "source": [
    "gdf_h3.info()"
   ]
  },
  {
   "cell_type": "code",
   "execution_count": 80,
   "id": "90585286",
   "metadata": {},
   "outputs": [
    {
     "data": {
      "text/plain": [
       "(28.841314897402793, -96.2376026059896)"
      ]
     },
     "execution_count": 80,
     "metadata": {},
     "output_type": "execute_result"
    }
   ],
   "source": [
    "# Figure out how to grab the lat/long centroid of every cell\n",
    "def get_lat_long_of_cell(cell):\n",
    "    centroid_xy = cell.centroid.coords.xy\n",
    "    longitude = centroid_xy[0][0]\n",
    "    latitude = centroid_xy[1][0]\n",
    "    \n",
    "    return latitude, longitude\n",
    "\n",
    "get_lat_long_of_cell(gdf_h3.geometry.sample(1).iloc[0])"
   ]
  },
  {
   "cell_type": "code",
   "execution_count": 81,
   "id": "8e0e8cd1",
   "metadata": {},
   "outputs": [
    {
     "name": "stderr",
     "output_type": "stream",
     "text": [
      "/Users/davemcrench/Projects/evlens/.venv/lib/python3.11/site-packages/geopandas/geodataframe.py:1528: SettingWithCopyWarning: \n",
      "A value is trying to be set on a copy of a slice from a DataFrame.\n",
      "Try using .loc[row_indexer,col_indexer] = value instead\n",
      "\n",
      "See the caveats in the documentation: https://pandas.pydata.org/pandas-docs/stable/user_guide/indexing.html#returning-a-view-versus-a-copy\n",
      "  super().__setitem__(key, value)\n"
     ]
    },
    {
     "data": {
      "text/plain": [
       "h3_polyfill\n",
       "872a96b81ffffff    (40.98842628908962, -84.46774222450958)\n",
       "Name: lat_long, dtype: object"
      ]
     },
     "execution_count": 81,
     "metadata": {},
     "output_type": "execute_result"
    }
   ],
   "source": [
    "gdf_h3['lat_long'] = gdf_h3.geometry.apply(get_lat_long_of_cell)\n",
    "gdf_h3['lat_long'].sample(1)"
   ]
  },
  {
   "cell_type": "code",
   "execution_count": 87,
   "id": "7f59ea1a",
   "metadata": {},
   "outputs": [
    {
     "name": "stdout",
     "output_type": "stream",
     "text": [
      "<class 'geopandas.geodataframe.GeoDataFrame'>\n",
      "Index: 1812316 entries, 872631cacffffff to 872b99662ffffff\n",
      "Data columns (total 5 columns):\n",
      " #   Column     Dtype   \n",
      "---  ------     -----   \n",
      " 0   geometry   geometry\n",
      " 1   cell_area  float64 \n",
      " 2   lat_long   object  \n",
      " 3   latitude   float64 \n",
      " 4   longitude  float64 \n",
      "dtypes: float64(3), geometry(1), object(1)\n",
      "memory usage: 147.5+ MB\n"
     ]
    },
    {
     "name": "stderr",
     "output_type": "stream",
     "text": [
      "/Users/davemcrench/Projects/evlens/.venv/lib/python3.11/site-packages/geopandas/geodataframe.py:1528: SettingWithCopyWarning: \n",
      "A value is trying to be set on a copy of a slice from a DataFrame.\n",
      "Try using .loc[row_indexer,col_indexer] = value instead\n",
      "\n",
      "See the caveats in the documentation: https://pandas.pydata.org/pandas-docs/stable/user_guide/indexing.html#returning-a-view-versus-a-copy\n",
      "  super().__setitem__(key, value)\n"
     ]
    }
   ],
   "source": [
    "gdf_h3_lat_long = pd.DataFrame(gdf_h3.lat_long.tolist()).rename(columns={0: 'latitude', 1: 'longitude'})\n",
    "\n",
    "for col in ['latitude', 'longitude']:\n",
    "    gdf_h3[col] = gdf_h3_lat_long[col].values\n",
    "    \n",
    "gdf_h3.info()"
   ]
  },
  {
   "cell_type": "code",
   "execution_count": 88,
   "id": "8a5637f0",
   "metadata": {},
   "outputs": [
    {
     "data": {
      "text/plain": [
       "geometry     0\n",
       "cell_area    0\n",
       "lat_long     0\n",
       "latitude     0\n",
       "longitude    0\n",
       "dtype: int64"
      ]
     },
     "execution_count": 88,
     "metadata": {},
     "output_type": "execute_result"
    }
   ],
   "source": [
    "gdf_h3.isnull().sum()"
   ]
  },
  {
   "cell_type": "code",
   "execution_count": 94,
   "id": "ed5fe9c8",
   "metadata": {},
   "outputs": [],
   "source": [
    "gdf_h3.to_pickle('../data/processed/h3_hexagons_usa.pkl')"
   ]
  },
  {
   "cell_type": "code",
   "execution_count": 98,
   "id": "37f4ff7c",
   "metadata": {},
   "outputs": [],
   "source": [
    "gdf_h3[['latitude', 'longitude', 'cell_area']].rename(columns={'cell_area': 'cell_area_sq_miles'}).reset_index(drop=True).to_pickle('../references/h3_hexagon_coordinates.pkl')"
   ]
  },
  {
   "cell_type": "code",
   "execution_count": 96,
   "id": "df206768",
   "metadata": {},
   "outputs": [
    {
     "data": {
      "text/html": [
       "<div>\n",
       "<style scoped>\n",
       "    .dataframe tbody tr th:only-of-type {\n",
       "        vertical-align: middle;\n",
       "    }\n",
       "\n",
       "    .dataframe tbody tr th {\n",
       "        vertical-align: top;\n",
       "    }\n",
       "\n",
       "    .dataframe thead th {\n",
       "        text-align: right;\n",
       "    }\n",
       "</style>\n",
       "<table border=\"1\" class=\"dataframe\">\n",
       "  <thead>\n",
       "    <tr style=\"text-align: right;\">\n",
       "      <th></th>\n",
       "      <th>latitude</th>\n",
       "      <th>longitude</th>\n",
       "      <th>cell_area</th>\n",
       "    </tr>\n",
       "  </thead>\n",
       "  <tbody>\n",
       "    <tr>\n",
       "      <th>0</th>\n",
       "      <td>45.464431</td>\n",
       "      <td>-98.886784</td>\n",
       "      <td>2.011903</td>\n",
       "    </tr>\n",
       "    <tr>\n",
       "      <th>1</th>\n",
       "      <td>39.455015</td>\n",
       "      <td>-74.652521</td>\n",
       "      <td>1.956755</td>\n",
       "    </tr>\n",
       "    <tr>\n",
       "      <th>2</th>\n",
       "      <td>39.796307</td>\n",
       "      <td>-82.959108</td>\n",
       "      <td>1.960595</td>\n",
       "    </tr>\n",
       "    <tr>\n",
       "      <th>3</th>\n",
       "      <td>65.729917</td>\n",
       "      <td>-153.760950</td>\n",
       "      <td>1.961247</td>\n",
       "    </tr>\n",
       "    <tr>\n",
       "      <th>4</th>\n",
       "      <td>34.999866</td>\n",
       "      <td>-113.618679</td>\n",
       "      <td>2.262247</td>\n",
       "    </tr>\n",
       "    <tr>\n",
       "      <th>...</th>\n",
       "      <td>...</td>\n",
       "      <td>...</td>\n",
       "      <td>...</td>\n",
       "    </tr>\n",
       "    <tr>\n",
       "      <th>1812311</th>\n",
       "      <td>44.034825</td>\n",
       "      <td>-95.046059</td>\n",
       "      <td>2.015590</td>\n",
       "    </tr>\n",
       "    <tr>\n",
       "      <th>1812312</th>\n",
       "      <td>58.232777</td>\n",
       "      <td>-134.617931</td>\n",
       "      <td>1.643765</td>\n",
       "    </tr>\n",
       "    <tr>\n",
       "      <th>1812313</th>\n",
       "      <td>47.504406</td>\n",
       "      <td>-103.981484</td>\n",
       "      <td>1.995752</td>\n",
       "    </tr>\n",
       "    <tr>\n",
       "      <th>1812314</th>\n",
       "      <td>40.329259</td>\n",
       "      <td>-82.095223</td>\n",
       "      <td>1.984732</td>\n",
       "    </tr>\n",
       "    <tr>\n",
       "      <th>1812315</th>\n",
       "      <td>43.084696</td>\n",
       "      <td>-78.029690</td>\n",
       "      <td>2.094468</td>\n",
       "    </tr>\n",
       "  </tbody>\n",
       "</table>\n",
       "<p>1812316 rows × 3 columns</p>\n",
       "</div>"
      ],
      "text/plain": [
       "          latitude   longitude  cell_area\n",
       "0        45.464431  -98.886784   2.011903\n",
       "1        39.455015  -74.652521   1.956755\n",
       "2        39.796307  -82.959108   1.960595\n",
       "3        65.729917 -153.760950   1.961247\n",
       "4        34.999866 -113.618679   2.262247\n",
       "...            ...         ...        ...\n",
       "1812311  44.034825  -95.046059   2.015590\n",
       "1812312  58.232777 -134.617931   1.643765\n",
       "1812313  47.504406 -103.981484   1.995752\n",
       "1812314  40.329259  -82.095223   1.984732\n",
       "1812315  43.084696  -78.029690   2.094468\n",
       "\n",
       "[1812316 rows x 3 columns]"
      ]
     },
     "execution_count": 96,
     "metadata": {},
     "output_type": "execute_result"
    }
   ],
   "source": [
    "gdf_h3[['latitude', 'longitude', 'cell_area']].reset_index(drop=True)"
   ]
  },
  {
   "cell_type": "code",
   "execution_count": null,
   "id": "6b2a0dfb",
   "metadata": {},
   "outputs": [],
   "source": []
  }
 ],
 "metadata": {
  "kernelspec": {
   "display_name": ".venv",
   "language": "python",
   "name": "python3"
  },
  "language_info": {
   "codemirror_mode": {
    "name": "ipython",
    "version": 3
   },
   "file_extension": ".py",
   "mimetype": "text/x-python",
   "name": "python",
   "nbconvert_exporter": "python",
   "pygments_lexer": "ipython3",
   "version": "3.11.5"
  }
 },
 "nbformat": 4,
 "nbformat_minor": 5
}
