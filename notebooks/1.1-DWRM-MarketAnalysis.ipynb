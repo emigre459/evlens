{
 "cells": [
  {
   "cell_type": "markdown",
   "id": "ba866201-17a8-4da6-a881-861350e0f47d",
   "metadata": {},
   "source": [
    "# Imports"
   ]
  },
  {
   "cell_type": "code",
   "execution_count": 2,
   "id": "5ee152df-792c-4940-b9ff-863c4e40af5c",
   "metadata": {},
   "outputs": [],
   "source": [
    "%load_ext autoreload\n",
    "%autoreload 2\n",
    "\n",
    "import pandas as pd\n",
    "import numpy as np\n",
    "from rich import print\n",
    "import os"
   ]
  },
  {
   "cell_type": "code",
   "execution_count": 8,
   "id": "a7d70410-f646-424c-9148-8b8b8b360e9f",
   "metadata": {
    "scrolled": true
   },
   "outputs": [
    {
     "name": "stderr",
     "output_type": "stream",
     "text": [
      "<timed exec>:3: DtypeWarning: Columns (15,16,20,31,33,34,39,41,43,46,49,52,57,58,59,60,61,62,65,67,69,70,71) have mixed types. Specify dtype option on import or set low_memory=False.\n"
     ]
    },
    {
     "name": "stdout",
     "output_type": "stream",
     "text": [
      "<class 'pandas.core.frame.DataFrame'>\n",
      "Index: 60634 entries, 87 to 80408\n",
      "Data columns (total 74 columns):\n",
      " #   Column                                   Non-Null Count  Dtype  \n",
      "---  ------                                   --------------  -----  \n",
      " 0   Fuel Type Code                           60634 non-null  object \n",
      " 1   Station Name                             60633 non-null  object \n",
      " 2   Street Address                           60634 non-null  object \n",
      " 3   Intersection Directions                  1940 non-null   object \n",
      " 4   City                                     60630 non-null  object \n",
      " 5   State                                    60621 non-null  object \n",
      " 6   ZIP                                      60634 non-null  object \n",
      " 7   Plus4                                    0 non-null      float64\n",
      " 8   Station Phone                            60016 non-null  object \n",
      " 9   Status Code                              60634 non-null  object \n",
      " 10  Expected Date                            0 non-null      float64\n",
      " 11  Groups With Access Code                  60634 non-null  object \n",
      " 12  Access Days Time                         55163 non-null  object \n",
      " 13  Cards Accepted                           5247 non-null   object \n",
      " 14  BD Blends                                0 non-null      object \n",
      " 15  NG Fill Type Code                        0 non-null      object \n",
      " 16  NG PSI                                   0 non-null      object \n",
      " 17  EV Level1 EVSE Num                       91 non-null     float64\n",
      " 18  EV Level2 EVSE Num                       52998 non-null  float64\n",
      " 19  EV DC Fast Count                         8901 non-null   float64\n",
      " 20  EV Other Info                            31 non-null     object \n",
      " 21  EV Network                               60634 non-null  object \n",
      " 22  EV Network Web                           54525 non-null  object \n",
      " 23  Geocode Status                           60633 non-null  object \n",
      " 24  Latitude                                 60634 non-null  float64\n",
      " 25  Longitude                                60634 non-null  float64\n",
      " 26  Date Last Confirmed                      60472 non-null  object \n",
      " 27  ID                                       60634 non-null  int64  \n",
      " 28  Updated At                               60634 non-null  object \n",
      " 29  Owner Type Code                          14291 non-null  object \n",
      " 30  Federal Agency ID                        31 non-null     float64\n",
      " 31  Federal Agency Name                      31 non-null     object \n",
      " 32  Open Date                                60628 non-null  object \n",
      " 33  Hydrogen Status Link                     0 non-null      object \n",
      " 34  NG Vehicle Class                         0 non-null      object \n",
      " 35  LPG Primary                              0 non-null      object \n",
      " 36  E85 Blender Pump                         0 non-null      object \n",
      " 37  EV Connector Types                       60613 non-null  object \n",
      " 38  Country                                  60634 non-null  object \n",
      " 39  Intersection Directions (French)         0 non-null      object \n",
      " 40  Access Days Time (French)                0 non-null      object \n",
      " 41  BD Blends (French)                       0 non-null      object \n",
      " 42  Groups With Access Code (French)         60634 non-null  object \n",
      " 43  Hydrogen Is Retail                       0 non-null      object \n",
      " 44  Access Code                              60634 non-null  object \n",
      " 45  Access Detail Code                       4076 non-null   object \n",
      " 46  Federal Agency Code                      31 non-null     object \n",
      " 47  Facility Type                            13540 non-null  object \n",
      " 48  CNG Dispenser Num                        0 non-null      float64\n",
      " 49  CNG On-Site Renewable Source             0 non-null      object \n",
      " 50  CNG Total Compression Capacity           0 non-null      float64\n",
      " 51  CNG Storage Capacity                     0 non-null      float64\n",
      " 52  LNG On-Site Renewable Source             0 non-null      object \n",
      " 53  E85 Other Ethanol Blends                 0 non-null      object \n",
      " 54  EV Pricing                               11973 non-null  object \n",
      " 55  EV Pricing (French)                      0 non-null      object \n",
      " 56  LPG Nozzle Types                         0 non-null      object \n",
      " 57  Hydrogen Pressures                       0 non-null      object \n",
      " 58  Hydrogen Standards                       0 non-null      object \n",
      " 59  CNG Fill Type Code                       0 non-null      object \n",
      " 60  CNG PSI                                  0 non-null      object \n",
      " 61  CNG Vehicle Class                        0 non-null      object \n",
      " 62  LNG Vehicle Class                        0 non-null      object \n",
      " 63  EV On-Site Renewable Source              325 non-null    object \n",
      " 64  Restricted Access                        10276 non-null  object \n",
      " 65  RD Blends                                0 non-null      object \n",
      " 66  RD Blends (French)                       0 non-null      float64\n",
      " 67  RD Blended with Biodiesel                0 non-null      object \n",
      " 68  RD Maximum Biodiesel Level               0 non-null      float64\n",
      " 69  NPS Unit Name                            88 non-null     object \n",
      " 70  CNG Station Sells Renewable Natural Gas  0 non-null      object \n",
      " 71  LNG Station Sells Renewable Natural Gas  0 non-null      object \n",
      " 72  Maximum Vehicle Class                    8686 non-null   object \n",
      " 73  EV Workplace Charging                    60634 non-null  object \n",
      "dtypes: float64(13), int64(1), object(60)\n",
      "memory usage: 161.3 MB\n",
      "CPU times: user 650 ms, sys: 27.8 ms, total: 678 ms\n",
      "Wall time: 694 ms\n"
     ]
    }
   ],
   "source": [
    "%%time\n",
    "# https://afdc.energy.gov/fuels/electricity_locations.html#/analyze\n",
    "file = '../data/external/alt_fuel_stations (Jan 5 2024).csv'\n",
    "df = pd.read_csv(file)\n",
    "df = df[(df['Fuel Type Code'] == 'ELEC') & (df['Country'] == 'US')]\n",
    "df.info(memory_usage='deep')"
   ]
  },
  {
   "cell_type": "code",
   "execution_count": 30,
   "id": "c08cc794-9226-4d3c-b50d-d0ef59865e71",
   "metadata": {
    "scrolled": true
   },
   "outputs": [
    {
     "data": {
      "text/plain": [
       "True"
      ]
     },
     "execution_count": 30,
     "metadata": {},
     "output_type": "execute_result"
    }
   ],
   "source": [
    "# Are all of these open as of today?\n",
    "df['Open Date'] = pd.to_datetime(df['Open Date'])\n",
    "len(df[df['Open Date'].fillna(value=pd.Timestamp.today()) < pd.Timestamp.today()]) == len(df)"
   ]
  },
  {
   "cell_type": "code",
   "execution_count": 47,
   "id": "9ef26c03-80ed-4215-a0c0-7d9116732c42",
   "metadata": {
    "scrolled": true
   },
   "outputs": [
    {
     "data": {
      "text/html": [
       "<div>\n",
       "<style scoped>\n",
       "    .dataframe tbody tr th:only-of-type {\n",
       "        vertical-align: middle;\n",
       "    }\n",
       "\n",
       "    .dataframe tbody tr th {\n",
       "        vertical-align: top;\n",
       "    }\n",
       "\n",
       "    .dataframe thead th {\n",
       "        text-align: right;\n",
       "    }\n",
       "</style>\n",
       "<table border=\"1\" class=\"dataframe\">\n",
       "  <thead>\n",
       "    <tr style=\"text-align: right;\">\n",
       "      <th></th>\n",
       "      <th>EV Network</th>\n",
       "      <th>EV DC Fast Count</th>\n",
       "    </tr>\n",
       "  </thead>\n",
       "  <tbody>\n",
       "    <tr>\n",
       "      <th>0</th>\n",
       "      <td>7CHARGE</td>\n",
       "      <td>92.0</td>\n",
       "    </tr>\n",
       "    <tr>\n",
       "      <th>1</th>\n",
       "      <td>AMPUP</td>\n",
       "      <td>5.0</td>\n",
       "    </tr>\n",
       "    <tr>\n",
       "      <th>2</th>\n",
       "      <td>BP_PULSE</td>\n",
       "      <td>79.0</td>\n",
       "    </tr>\n",
       "    <tr>\n",
       "      <th>3</th>\n",
       "      <td>Blink Network</td>\n",
       "      <td>187.0</td>\n",
       "    </tr>\n",
       "    <tr>\n",
       "      <th>4</th>\n",
       "      <td>CHARGELAB</td>\n",
       "      <td>22.0</td>\n",
       "    </tr>\n",
       "    <tr>\n",
       "      <th>5</th>\n",
       "      <td>CHARGEUP</td>\n",
       "      <td>23.0</td>\n",
       "    </tr>\n",
       "    <tr>\n",
       "      <th>6</th>\n",
       "      <td>CIRCLE_K</td>\n",
       "      <td>100.0</td>\n",
       "    </tr>\n",
       "    <tr>\n",
       "      <th>7</th>\n",
       "      <td>ChargePoint Network</td>\n",
       "      <td>2396.0</td>\n",
       "    </tr>\n",
       "    <tr>\n",
       "      <th>8</th>\n",
       "      <td>EV Connect</td>\n",
       "      <td>818.0</td>\n",
       "    </tr>\n",
       "    <tr>\n",
       "      <th>9</th>\n",
       "      <td>EVCS</td>\n",
       "      <td>362.0</td>\n",
       "    </tr>\n",
       "    <tr>\n",
       "      <th>10</th>\n",
       "      <td>EVGATEWAY</td>\n",
       "      <td>96.0</td>\n",
       "    </tr>\n",
       "    <tr>\n",
       "      <th>11</th>\n",
       "      <td>EVRANGE</td>\n",
       "      <td>20.0</td>\n",
       "    </tr>\n",
       "    <tr>\n",
       "      <th>12</th>\n",
       "      <td>Electrify America</td>\n",
       "      <td>3967.0</td>\n",
       "    </tr>\n",
       "    <tr>\n",
       "      <th>13</th>\n",
       "      <td>FCN</td>\n",
       "      <td>798.0</td>\n",
       "    </tr>\n",
       "    <tr>\n",
       "      <th>14</th>\n",
       "      <td>FLO</td>\n",
       "      <td>43.0</td>\n",
       "    </tr>\n",
       "    <tr>\n",
       "      <th>15</th>\n",
       "      <td>FPLEV</td>\n",
       "      <td>85.0</td>\n",
       "    </tr>\n",
       "    <tr>\n",
       "      <th>16</th>\n",
       "      <td>GRAVITI_ENERGY</td>\n",
       "      <td>65.0</td>\n",
       "    </tr>\n",
       "    <tr>\n",
       "      <th>17</th>\n",
       "      <td>JULE</td>\n",
       "      <td>10.0</td>\n",
       "    </tr>\n",
       "    <tr>\n",
       "      <th>18</th>\n",
       "      <td>LIVINGSTON</td>\n",
       "      <td>3.0</td>\n",
       "    </tr>\n",
       "    <tr>\n",
       "      <th>19</th>\n",
       "      <td>LOOP</td>\n",
       "      <td>7.0</td>\n",
       "    </tr>\n",
       "    <tr>\n",
       "      <th>20</th>\n",
       "      <td>Non-Networked</td>\n",
       "      <td>1056.0</td>\n",
       "    </tr>\n",
       "    <tr>\n",
       "      <th>21</th>\n",
       "      <td>OpConnect</td>\n",
       "      <td>6.0</td>\n",
       "    </tr>\n",
       "    <tr>\n",
       "      <th>22</th>\n",
       "      <td>POWERFLEX</td>\n",
       "      <td>46.0</td>\n",
       "    </tr>\n",
       "    <tr>\n",
       "      <th>23</th>\n",
       "      <td>POWER_NODE</td>\n",
       "      <td>4.0</td>\n",
       "    </tr>\n",
       "    <tr>\n",
       "      <th>24</th>\n",
       "      <td>RED_E</td>\n",
       "      <td>57.0</td>\n",
       "    </tr>\n",
       "    <tr>\n",
       "      <th>25</th>\n",
       "      <td>REVEL</td>\n",
       "      <td>15.0</td>\n",
       "    </tr>\n",
       "    <tr>\n",
       "      <th>26</th>\n",
       "      <td>RIVIAN_ADVENTURE</td>\n",
       "      <td>385.0</td>\n",
       "    </tr>\n",
       "    <tr>\n",
       "      <th>27</th>\n",
       "      <td>SHELL_RECHARGE</td>\n",
       "      <td>505.0</td>\n",
       "    </tr>\n",
       "    <tr>\n",
       "      <th>28</th>\n",
       "      <td>SWTCH</td>\n",
       "      <td>2.0</td>\n",
       "    </tr>\n",
       "    <tr>\n",
       "      <th>29</th>\n",
       "      <td>Tesla</td>\n",
       "      <td>23679.0</td>\n",
       "    </tr>\n",
       "    <tr>\n",
       "      <th>30</th>\n",
       "      <td>Tesla Destination</td>\n",
       "      <td>16.0</td>\n",
       "    </tr>\n",
       "    <tr>\n",
       "      <th>31</th>\n",
       "      <td>UNIVERSAL</td>\n",
       "      <td>4.0</td>\n",
       "    </tr>\n",
       "    <tr>\n",
       "      <th>32</th>\n",
       "      <td>Volta</td>\n",
       "      <td>122.0</td>\n",
       "    </tr>\n",
       "    <tr>\n",
       "      <th>33</th>\n",
       "      <td>ZEFNET</td>\n",
       "      <td>57.0</td>\n",
       "    </tr>\n",
       "    <tr>\n",
       "      <th>34</th>\n",
       "      <td>eVgo Network</td>\n",
       "      <td>2873.0</td>\n",
       "    </tr>\n",
       "  </tbody>\n",
       "</table>\n",
       "</div>"
      ],
      "text/plain": [
       "             EV Network  EV DC Fast Count\n",
       "0               7CHARGE              92.0\n",
       "1                 AMPUP               5.0\n",
       "2              BP_PULSE              79.0\n",
       "3         Blink Network             187.0\n",
       "4             CHARGELAB              22.0\n",
       "5              CHARGEUP              23.0\n",
       "6              CIRCLE_K             100.0\n",
       "7   ChargePoint Network            2396.0\n",
       "8            EV Connect             818.0\n",
       "9                  EVCS             362.0\n",
       "10            EVGATEWAY              96.0\n",
       "11              EVRANGE              20.0\n",
       "12    Electrify America            3967.0\n",
       "13                  FCN             798.0\n",
       "14                  FLO              43.0\n",
       "15                FPLEV              85.0\n",
       "16       GRAVITI_ENERGY              65.0\n",
       "17                 JULE              10.0\n",
       "18           LIVINGSTON               3.0\n",
       "19                 LOOP               7.0\n",
       "20        Non-Networked            1056.0\n",
       "21            OpConnect               6.0\n",
       "22            POWERFLEX              46.0\n",
       "23           POWER_NODE               4.0\n",
       "24                RED_E              57.0\n",
       "25                REVEL              15.0\n",
       "26     RIVIAN_ADVENTURE             385.0\n",
       "27       SHELL_RECHARGE             505.0\n",
       "28                SWTCH               2.0\n",
       "29                Tesla           23679.0\n",
       "30    Tesla Destination              16.0\n",
       "31            UNIVERSAL               4.0\n",
       "32                Volta             122.0\n",
       "33               ZEFNET              57.0\n",
       "34         eVgo Network            2873.0"
      ]
     },
     "execution_count": 47,
     "metadata": {},
     "output_type": "execute_result"
    }
   ],
   "source": [
    "dc_plug_counts_by_network = df.dropna(subset='EV DC Fast Count').groupby('EV Network')['EV DC Fast Count'].sum().reset_index()\n",
    "dc_plug_counts_by_network"
   ]
  },
  {
   "cell_type": "code",
   "execution_count": 49,
   "id": "23624b7e-763a-415b-bca0-e636d3676052",
   "metadata": {},
   "outputs": [
    {
     "data": {
      "text/html": [
       "<div>\n",
       "<style scoped>\n",
       "    .dataframe tbody tr th:only-of-type {\n",
       "        vertical-align: middle;\n",
       "    }\n",
       "\n",
       "    .dataframe tbody tr th {\n",
       "        vertical-align: top;\n",
       "    }\n",
       "\n",
       "    .dataframe thead th {\n",
       "        text-align: right;\n",
       "    }\n",
       "</style>\n",
       "<table border=\"1\" class=\"dataframe\">\n",
       "  <thead>\n",
       "    <tr style=\"text-align: right;\">\n",
       "      <th></th>\n",
       "      <th>EV Network</th>\n",
       "      <th>EV DC Fast Count</th>\n",
       "    </tr>\n",
       "  </thead>\n",
       "  <tbody>\n",
       "    <tr>\n",
       "      <th>29</th>\n",
       "      <td>Tesla</td>\n",
       "      <td>23679.0</td>\n",
       "    </tr>\n",
       "    <tr>\n",
       "      <th>30</th>\n",
       "      <td>Tesla Destination</td>\n",
       "      <td>16.0</td>\n",
       "    </tr>\n",
       "  </tbody>\n",
       "</table>\n",
       "</div>"
      ],
      "text/plain": [
       "           EV Network  EV DC Fast Count\n",
       "29              Tesla           23679.0\n",
       "30  Tesla Destination              16.0"
      ]
     },
     "execution_count": 49,
     "metadata": {},
     "output_type": "execute_result"
    }
   ],
   "source": [
    "non_tesla_plugs = dc_counts_by_network[~dc_plug_counts_by_network['EV Network'].str.contains('Tesla')]\n",
    "tesla_plugs = dc_counts_by_network[dc_plug_counts_by_network['EV Network'].str.contains('Tesla')]\n",
    "tesla_plugs"
   ]
  },
  {
   "cell_type": "code",
   "execution_count": 50,
   "id": "cd4754f2-d9d6-4b2f-82fc-21447c9db3cd",
   "metadata": {},
   "outputs": [
    {
     "data": {
      "text/html": [
       "<pre style=\"white-space:pre;overflow-x:auto;line-height:normal;font-family:Menlo,'DejaVu Sans Mono',consolas,'Courier New',monospace\">tesla_plugs<span style=\"font-weight: bold\">[</span><span style=\"color: #008000; text-decoration-color: #008000\">'EV DC Fast Count'</span><span style=\"font-weight: bold\">]</span><span style=\"color: #800080; text-decoration-color: #800080; font-weight: bold\">.sum</span><span style=\"font-weight: bold\">()</span>=<span style=\"color: #008080; text-decoration-color: #008080; font-weight: bold\">23</span>,<span style=\"color: #008080; text-decoration-color: #008080; font-weight: bold\">695.0</span>\n",
       "</pre>\n"
      ],
      "text/plain": [
       "tesla_plugs\u001b[1m[\u001b[0m\u001b[32m'EV DC Fast Count'\u001b[0m\u001b[1m]\u001b[0m\u001b[1;35m.sum\u001b[0m\u001b[1m(\u001b[0m\u001b[1m)\u001b[0m=\u001b[1;36m23\u001b[0m,\u001b[1;36m695.0\u001b[0m\n"
      ]
     },
     "metadata": {},
     "output_type": "display_data"
    },
    {
     "data": {
      "text/html": [
       "<pre style=\"white-space:pre;overflow-x:auto;line-height:normal;font-family:Menlo,'DejaVu Sans Mono',consolas,'Courier New',monospace\">non_tesla_plugs<span style=\"font-weight: bold\">[</span><span style=\"color: #008000; text-decoration-color: #008000\">'EV DC Fast Count'</span><span style=\"font-weight: bold\">]</span><span style=\"color: #800080; text-decoration-color: #800080; font-weight: bold\">.sum</span><span style=\"font-weight: bold\">()</span>=<span style=\"color: #008080; text-decoration-color: #008080; font-weight: bold\">14</span>,<span style=\"color: #008080; text-decoration-color: #008080; font-weight: bold\">310.0</span>\n",
       "</pre>\n"
      ],
      "text/plain": [
       "non_tesla_plugs\u001b[1m[\u001b[0m\u001b[32m'EV DC Fast Count'\u001b[0m\u001b[1m]\u001b[0m\u001b[1;35m.sum\u001b[0m\u001b[1m(\u001b[0m\u001b[1m)\u001b[0m=\u001b[1;36m14\u001b[0m,\u001b[1;36m310.0\u001b[0m\n"
      ]
     },
     "metadata": {},
     "output_type": "display_data"
    }
   ],
   "source": [
    "print(f\"{tesla_plugs['EV DC Fast Count'].sum()=:,}\")\n",
    "print(f\"{non_tesla_plugs['EV DC Fast Count'].sum()=:,}\")"
   ]
  },
  {
   "cell_type": "code",
   "execution_count": 51,
   "id": "a8b10e0f-29f0-426b-a457-a678d188da85",
   "metadata": {},
   "outputs": [
    {
     "data": {
      "text/plain": [
       "7920.0"
      ]
     },
     "execution_count": 51,
     "metadata": {},
     "output_type": "execute_result"
    }
   ],
   "source": [
    "# How much revenue across an arbitrary # of stations?\n",
    "# Assume (non-Tesla) 4x plugs per station and $2,640 of monthly recurring revenue per station [https://blog.evbox.com/make-money-ev-charging-stations#:~:text=EV%20charging%20station%20revenue%20overview]\n",
    "annual_revenue_per_dc_station = 2640  * 12\n",
    "annual_revenue_per_dc_plug = annual_revenue_per_dc_station / 4\n",
    "annual_revenue_per_dc_plug"
   ]
  },
  {
   "cell_type": "code",
   "execution_count": 91,
   "id": "562b226d-7bad-4651-b42a-9f2b92a245ae",
   "metadata": {},
   "outputs": [
    {
     "data": {
      "text/plain": [
       "39600.0"
      ]
     },
     "execution_count": 91,
     "metadata": {},
     "output_type": "execute_result"
    }
   ],
   "source": [
    "annual_revenue_estimate_per_dc_plug"
   ]
  },
  {
   "cell_type": "code",
   "execution_count": 92,
   "id": "30483782-0931-4c76-9d8f-85e75026dce0",
   "metadata": {},
   "outputs": [
    {
     "data": {
      "text/plain": [
       "9045.000000000002"
      ]
     },
     "execution_count": 92,
     "metadata": {},
     "output_type": "execute_result"
    }
   ],
   "source": [
    "annual_revenue_estimate_per_level2_plug"
   ]
  },
  {
   "cell_type": "code",
   "execution_count": 90,
   "id": "1375f8a7-619b-4aaa-90a4-1554d65d9796",
   "metadata": {},
   "outputs": [
    {
     "data": {
      "text/plain": [
       "39600.0"
      ]
     },
     "execution_count": 90,
     "metadata": {},
     "output_type": "execute_result"
    }
   ],
   "source": [
    "annual_revenue_per_plug"
   ]
  },
  {
   "cell_type": "code",
   "execution_count": 93,
   "id": "749cef27-901a-4360-938a-3f1b809e8359",
   "metadata": {},
   "outputs": [
    {
     "data": {
      "text/plain": [
       "566676000.0"
      ]
     },
     "execution_count": 93,
     "metadata": {},
     "output_type": "execute_result"
    }
   ],
   "source": [
    "all_networks_revenue_annual"
   ]
  },
  {
   "cell_type": "code",
   "execution_count": 62,
   "id": "439ea3ec-8db7-49f8-94cc-41f6e14a43f4",
   "metadata": {},
   "outputs": [
    {
     "data": {
      "text/html": [
       "<pre style=\"white-space:pre;overflow-x:auto;line-height:normal;font-family:Menlo,'DejaVu Sans Mono',consolas,'Courier New',monospace\">$<span style=\"color: #008080; text-decoration-color: #008080; font-weight: bold\">113</span>,<span style=\"color: #008080; text-decoration-color: #008080; font-weight: bold\">335</span>,<span style=\"color: #008080; text-decoration-color: #008080; font-weight: bold\">200.0</span>\n",
       "</pre>\n"
      ],
      "text/plain": [
       "$\u001b[1;36m113\u001b[0m,\u001b[1;36m335\u001b[0m,\u001b[1;36m200.0\u001b[0m\n"
      ]
     },
     "metadata": {},
     "output_type": "display_data"
    }
   ],
   "source": [
    "all_networks_dc_revenue_annual = annual_revenue_per_dc_plug * non_tesla_plugs['EV DC Fast Count'].sum()\n",
    "print(f\"${all_networks_dc_revenue_annual:,}\")"
   ]
  },
  {
   "cell_type": "code",
   "execution_count": 63,
   "id": "8018d211-7739-4c4b-b833-dcb787467a21",
   "metadata": {},
   "outputs": [
    {
     "data": {
      "text/html": [
       "<pre style=\"white-space:pre;overflow-x:auto;line-height:normal;font-family:Menlo,'DejaVu Sans Mono',consolas,'Courier New',monospace\">$<span style=\"color: #008080; text-decoration-color: #008080; font-weight: bold\">28</span>,<span style=\"color: #008080; text-decoration-color: #008080; font-weight: bold\">333</span>,<span style=\"color: #008080; text-decoration-color: #008080; font-weight: bold\">800.0</span>\n",
       "</pre>\n"
      ],
      "text/plain": [
       "$\u001b[1;36m28\u001b[0m,\u001b[1;36m333\u001b[0m,\u001b[1;36m800.0\u001b[0m\n"
      ]
     },
     "metadata": {},
     "output_type": "display_data"
    }
   ],
   "source": [
    "print(f\"${all_networks_dc_revenue_annual*0.25:,}\")"
   ]
  },
  {
   "cell_type": "code",
   "execution_count": 64,
   "id": "8eb9ef2d-23b6-4690-bf96-738441ad5d5c",
   "metadata": {},
   "outputs": [
    {
     "data": {
      "text/plain": [
       "425007000"
      ]
     },
     "execution_count": 64,
     "metadata": {},
     "output_type": "execute_result"
    }
   ],
   "source": [
    "28_333_800 * 15"
   ]
  },
  {
   "cell_type": "code",
   "execution_count": 60,
   "id": "aeddfc09-1a89-401f-bd22-4b286a8fac6d",
   "metadata": {},
   "outputs": [
    {
     "data": {
      "text/html": [
       "<pre style=\"white-space:pre;overflow-x:auto;line-height:normal;font-family:Menlo,'DejaVu Sans Mono',consolas,'Courier New',monospace\"><span style=\"color: #808000; text-decoration-color: #808000\">non_tesla_fraction</span>=<span style=\"color: #008080; text-decoration-color: #008080; font-weight: bold\">0.3765294040257861</span>\n",
       "</pre>\n"
      ],
      "text/plain": [
       "\u001b[33mnon_tesla_fraction\u001b[0m=\u001b[1;36m0\u001b[0m\u001b[1;36m.3765294040257861\u001b[0m\n"
      ]
     },
     "metadata": {},
     "output_type": "display_data"
    },
    {
     "data": {
      "text/html": [
       "<pre style=\"white-space:pre;overflow-x:auto;line-height:normal;font-family:Menlo,'DejaVu Sans Mono',consolas,'Courier New',monospace\"><span style=\"color: #808000; text-decoration-color: #808000\">mckinsey_2030_public_dcfc_plug_multiplier</span>=<span style=\"color: #008080; text-decoration-color: #008080; font-weight: bold\">15.0</span>\n",
       "</pre>\n"
      ],
      "text/plain": [
       "\u001b[33mmckinsey_2030_public_dcfc_plug_multiplier\u001b[0m=\u001b[1;36m15\u001b[0m\u001b[1;36m.0\u001b[0m\n"
      ]
     },
     "metadata": {},
     "output_type": "display_data"
    },
    {
     "data": {
      "text/html": [
       "<pre style=\"white-space:pre;overflow-x:auto;line-height:normal;font-family:Menlo,'DejaVu Sans Mono',consolas,'Courier New',monospace\"><span style=\"color: #808000; text-decoration-color: #808000\">plug_count_2030</span>=<span style=\"color: #008080; text-decoration-color: #008080; font-weight: bold\">570</span>,<span style=\"color: #008080; text-decoration-color: #008080; font-weight: bold\">075.0</span>\n",
       "</pre>\n"
      ],
      "text/plain": [
       "\u001b[33mplug_count_2030\u001b[0m=\u001b[1;36m570\u001b[0m,\u001b[1;36m075.0\u001b[0m\n"
      ]
     },
     "metadata": {},
     "output_type": "display_data"
    },
    {
     "data": {
      "text/html": [
       "<pre style=\"white-space:pre;overflow-x:auto;line-height:normal;font-family:Menlo,'DejaVu Sans Mono',consolas,'Courier New',monospace\">Expected number of non-Tesla DCFC stations in US by <span style=\"color: #008080; text-decoration-color: #008080; font-weight: bold\">2030</span>: <span style=\"color: #008080; text-decoration-color: #008080; font-weight: bold\">53</span>,<span style=\"color: #008080; text-decoration-color: #008080; font-weight: bold\">662.50000000001</span>\n",
       "</pre>\n"
      ],
      "text/plain": [
       "Expected number of non-Tesla DCFC stations in US by \u001b[1;36m2030\u001b[0m: \u001b[1;36m53\u001b[0m,\u001b[1;36m662.50000000001\u001b[0m\n"
      ]
     },
     "metadata": {},
     "output_type": "display_data"
    },
    {
     "data": {
      "text/html": [
       "<pre style=\"white-space:pre;overflow-x:auto;line-height:normal;font-family:Menlo,'DejaVu Sans Mono',consolas,'Courier New',monospace\">Revenue for all non-Tesla DCFC plugs by <span style=\"color: #008080; text-decoration-color: #008080; font-weight: bold\">2030</span>: $<span style=\"color: #008080; text-decoration-color: #008080; font-weight: bold\">1</span>,<span style=\"color: #008080; text-decoration-color: #008080; font-weight: bold\">700</span>,<span style=\"color: #008080; text-decoration-color: #008080; font-weight: bold\">028</span>,<span style=\"color: #008080; text-decoration-color: #008080; font-weight: bold\">000.0000002</span>\n",
       "</pre>\n"
      ],
      "text/plain": [
       "Revenue for all non-Tesla DCFC plugs by \u001b[1;36m2030\u001b[0m: $\u001b[1;36m1\u001b[0m,\u001b[1;36m700\u001b[0m,\u001b[1;36m028\u001b[0m,\u001b[1;36m000.0000002\u001b[0m\n"
      ]
     },
     "metadata": {},
     "output_type": "display_data"
    }
   ],
   "source": [
    "# What will this number of lost revenue be in 2030 when we have more DCFC public plugs?\n",
    "# https://www.mckinsey.com/features/mckinsey-center-for-future-mobility/our-insights/can-public-ev-fast-charging-stations-be-profitable-in-the-united-states\n",
    "# Assume 4 plugs per station, similar proportion of non-Tesla-to-Tesla station counts\n",
    "non_tesla_fraction = non_tesla_plugs['EV DC Fast Count'].sum() / dc_counts_by_network['EV DC Fast Count'].sum()\n",
    "print(f\"{non_tesla_fraction=}\")\n",
    "mckinsey_2030_public_dcfc_plug_multiplier = 1.5/0.1 # need multiplier since plug counts don't line up with McK estimate\n",
    "print(f\"{mckinsey_2030_public_dcfc_plug_multiplier=:,}\")\n",
    "plug_count_2030 = mckinsey_2030_public_dcfc_plug_multiplier * dc_counts_by_network['EV DC Fast Count'].sum()\n",
    "print(f\"{plug_count_2030=:,}\")\n",
    "print(f\"Expected number of non-Tesla DCFC stations in US by 2030: {non_tesla_fraction * plug_count_2030 / 4:,}\")\n",
    "non_tesla_plugs_annual_revenue_2030 = non_tesla_fraction * plug_count_2030 * annual_revenue_per_dc_plug\n",
    "print(f\"Revenue for all non-Tesla DCFC plugs by 2030: ${non_tesla_plugs_annual_revenue_2030:,}\")"
   ]
  },
  {
   "cell_type": "code",
   "execution_count": 61,
   "id": "3cfaed50-bf02-4f8b-88bd-04f3c31e7e98",
   "metadata": {},
   "outputs": [
    {
     "data": {
      "text/html": [
       "<pre style=\"white-space:pre;overflow-x:auto;line-height:normal;font-family:Menlo,'DejaVu Sans Mono',consolas,'Courier New',monospace\"><span style=\"color: #008080; text-decoration-color: #008080; font-weight: bold\">25</span>% lost revenue due to down plugs: $<span style=\"color: #008080; text-decoration-color: #008080; font-weight: bold\">425</span>,<span style=\"color: #008080; text-decoration-color: #008080; font-weight: bold\">007</span>,<span style=\"color: #008080; text-decoration-color: #008080; font-weight: bold\">000.00000006</span>\n",
       "</pre>\n"
      ],
      "text/plain": [
       "\u001b[1;36m25\u001b[0m% lost revenue due to down plugs: $\u001b[1;36m425\u001b[0m,\u001b[1;36m007\u001b[0m,\u001b[1;36m000.00000006\u001b[0m\n"
      ]
     },
     "metadata": {},
     "output_type": "display_data"
    }
   ],
   "source": [
    "print(f\"25% lost revenue due to down plugs: ${non_tesla_plugs_annual_revenue_2030*0.25:,}\")"
   ]
  },
  {
   "cell_type": "code",
   "execution_count": 83,
   "id": "1200cce5-0141-4758-bb53-4a489b400776",
   "metadata": {},
   "outputs": [
    {
     "name": "stderr",
     "output_type": "stream",
     "text": [
      "/Users/davemcrench/Documents/Projects/evlens/evlens/data/markets.py:34: DtypeWarning: Columns (15,16,20,31,33,34,39,41,43,46,49,52,57,58,59,60,61,62,65,67,69,70,71) have mixed types. Specify dtype option on import or set low_memory=False.\n",
      "  print(f\"${all_networks_dc_revenue_annual*0.25:,}\")\n"
     ]
    },
    {
     "data": {
      "text/html": [
       "<pre style=\"white-space:pre;overflow-x:auto;line-height:normal;font-family:Menlo,'DejaVu Sans Mono',consolas,'Courier New',monospace\">Number of Tesla plugs: <span style=\"color: #008080; text-decoration-color: #008080; font-weight: bold\">23</span>,<span style=\"color: #008080; text-decoration-color: #008080; font-weight: bold\">695</span>\n",
       "</pre>\n"
      ],
      "text/plain": [
       "Number of Tesla plugs: \u001b[1;36m23\u001b[0m,\u001b[1;36m695\u001b[0m\n"
      ]
     },
     "metadata": {},
     "output_type": "display_data"
    },
    {
     "data": {
      "text/html": [
       "<pre style=\"white-space:pre;overflow-x:auto;line-height:normal;font-family:Menlo,'DejaVu Sans Mono',consolas,'Courier New',monospace\">Number of non-Tesla plugs: <span style=\"color: #008080; text-decoration-color: #008080; font-weight: bold\">14</span>,<span style=\"color: #008080; text-decoration-color: #008080; font-weight: bold\">310</span>\n",
       "</pre>\n"
      ],
      "text/plain": [
       "Number of non-Tesla plugs: \u001b[1;36m14\u001b[0m,\u001b[1;36m310\u001b[0m\n"
      ]
     },
     "metadata": {},
     "output_type": "display_data"
    },
    {
     "data": {
      "text/html": [
       "<pre style=\"white-space:pre;overflow-x:auto;line-height:normal;font-family:Menlo,'DejaVu Sans Mono',consolas,'Courier New',monospace\"><span style=\"color: #008080; text-decoration-color: #008080; font-weight: bold\">2023</span> Non-Tesla Revenue: $<span style=\"color: #008080; text-decoration-color: #008080; font-weight: bold\">566</span>,<span style=\"color: #008080; text-decoration-color: #008080; font-weight: bold\">676</span>,<span style=\"color: #008080; text-decoration-color: #008080; font-weight: bold\">000.0</span>\n",
       "</pre>\n"
      ],
      "text/plain": [
       "\u001b[1;36m2023\u001b[0m Non-Tesla Revenue: $\u001b[1;36m566\u001b[0m,\u001b[1;36m676\u001b[0m,\u001b[1;36m000.0\u001b[0m\n"
      ]
     },
     "metadata": {},
     "output_type": "display_data"
    },
    {
     "data": {
      "text/html": [
       "<pre style=\"white-space:pre;overflow-x:auto;line-height:normal;font-family:Menlo,'DejaVu Sans Mono',consolas,'Courier New',monospace\"><span style=\"color: #008080; text-decoration-color: #008080; font-weight: bold\">2023</span> Non-Tesla Revenue Lost: $<span style=\"color: #008080; text-decoration-color: #008080; font-weight: bold\">141</span>,<span style=\"color: #008080; text-decoration-color: #008080; font-weight: bold\">669</span>,<span style=\"color: #008080; text-decoration-color: #008080; font-weight: bold\">000.0</span>\n",
       "</pre>\n"
      ],
      "text/plain": [
       "\u001b[1;36m2023\u001b[0m Non-Tesla Revenue Lost: $\u001b[1;36m141\u001b[0m,\u001b[1;36m669\u001b[0m,\u001b[1;36m000.0\u001b[0m\n"
      ]
     },
     "metadata": {},
     "output_type": "display_data"
    },
    {
     "data": {
      "text/html": [
       "<pre style=\"white-space:pre;overflow-x:auto;line-height:normal;font-family:Menlo,'DejaVu Sans Mono',consolas,'Courier New',monospace\"><span style=\"color: #808000; text-decoration-color: #808000\">non_tesla_fraction</span>=<span style=\"color: #008080; text-decoration-color: #008080; font-weight: bold\">0.3765294040257861</span>\n",
       "</pre>\n"
      ],
      "text/plain": [
       "\u001b[33mnon_tesla_fraction\u001b[0m=\u001b[1;36m0\u001b[0m\u001b[1;36m.3765294040257861\u001b[0m\n"
      ]
     },
     "metadata": {},
     "output_type": "display_data"
    },
    {
     "data": {
      "text/html": [
       "<pre style=\"white-space:pre;overflow-x:auto;line-height:normal;font-family:Menlo,'DejaVu Sans Mono',consolas,'Courier New',monospace\"><span style=\"color: #808000; text-decoration-color: #808000\">plug_count_2030</span>=<span style=\"color: #008080; text-decoration-color: #008080; font-weight: bold\">570</span>,<span style=\"color: #008080; text-decoration-color: #008080; font-weight: bold\">075.0</span>\n",
       "</pre>\n"
      ],
      "text/plain": [
       "\u001b[33mplug_count_2030\u001b[0m=\u001b[1;36m570\u001b[0m,\u001b[1;36m075.0\u001b[0m\n"
      ]
     },
     "metadata": {},
     "output_type": "display_data"
    },
    {
     "data": {
      "text/html": [
       "<pre style=\"white-space:pre;overflow-x:auto;line-height:normal;font-family:Menlo,'DejaVu Sans Mono',consolas,'Courier New',monospace\">Expected number of non-Tesla stations in US by <span style=\"color: #008080; text-decoration-color: #008080; font-weight: bold\">2030</span>: <span style=\"color: #008080; text-decoration-color: #008080; font-weight: bold\">53</span>,<span style=\"color: #008080; text-decoration-color: #008080; font-weight: bold\">662.50000000001</span>\n",
       "</pre>\n"
      ],
      "text/plain": [
       "Expected number of non-Tesla stations in US by \u001b[1;36m2030\u001b[0m: \u001b[1;36m53\u001b[0m,\u001b[1;36m662.50000000001\u001b[0m\n"
      ]
     },
     "metadata": {},
     "output_type": "display_data"
    },
    {
     "data": {
      "text/html": [
       "<pre style=\"white-space:pre;overflow-x:auto;line-height:normal;font-family:Menlo,'DejaVu Sans Mono',consolas,'Courier New',monospace\"><span style=\"color: #008080; text-decoration-color: #008080; font-weight: bold\">2030</span> non-Tesla revenue by <span style=\"color: #008080; text-decoration-color: #008080; font-weight: bold\">2030</span>: $<span style=\"color: #008080; text-decoration-color: #008080; font-weight: bold\">8</span>,<span style=\"color: #008080; text-decoration-color: #008080; font-weight: bold\">500</span>,<span style=\"color: #008080; text-decoration-color: #008080; font-weight: bold\">140</span>,<span style=\"color: #008080; text-decoration-color: #008080; font-weight: bold\">000.000001</span>\n",
       "</pre>\n"
      ],
      "text/plain": [
       "\u001b[1;36m2030\u001b[0m non-Tesla revenue by \u001b[1;36m2030\u001b[0m: $\u001b[1;36m8\u001b[0m,\u001b[1;36m500\u001b[0m,\u001b[1;36m140\u001b[0m,\u001b[1;36m000.000001\u001b[0m\n"
      ]
     },
     "metadata": {},
     "output_type": "display_data"
    },
    {
     "data": {
      "text/html": [
       "<pre style=\"white-space:pre;overflow-x:auto;line-height:normal;font-family:Menlo,'DejaVu Sans Mono',consolas,'Courier New',monospace\">Lost <span style=\"color: #008080; text-decoration-color: #008080; font-weight: bold\">2030</span> non-Tesla revenue due to down plugs: $<span style=\"color: #008080; text-decoration-color: #008080; font-weight: bold\">2</span>,<span style=\"color: #008080; text-decoration-color: #008080; font-weight: bold\">125</span>,<span style=\"color: #008080; text-decoration-color: #008080; font-weight: bold\">035</span>,<span style=\"color: #008080; text-decoration-color: #008080; font-weight: bold\">000.0000002</span>\n",
       "</pre>\n"
      ],
      "text/plain": [
       "Lost \u001b[1;36m2030\u001b[0m non-Tesla revenue due to down plugs: $\u001b[1;36m2\u001b[0m,\u001b[1;36m125\u001b[0m,\u001b[1;36m035\u001b[0m,\u001b[1;36m000.0000002\u001b[0m\n"
      ]
     },
     "metadata": {},
     "output_type": "display_data"
    }
   ],
   "source": [
    "from evlens.data.markets import clean_adfc_charging_stations_data\n",
    "\n",
    "df = clean_adfc_charging_stations_data(file, include_level2=False, revenue_loss_plug_fraction=0.25)"
   ]
  },
  {
   "cell_type": "code",
   "execution_count": 104,
   "id": "12dcd043-57a2-46d7-a125-b431dda632b7",
   "metadata": {},
   "outputs": [
    {
     "data": {
      "text/html": [
       "<pre style=\"white-space:pre;overflow-x:auto;line-height:normal;font-family:Menlo,'DejaVu Sans Mono',consolas,'Courier New',monospace\"><span style=\"color: #008080; text-decoration-color: #008080; font-weight: bold\">643</span>,<span style=\"color: #008080; text-decoration-color: #008080; font-weight: bold\">950</span>,<span style=\"color: #008080; text-decoration-color: #008080; font-weight: bold\">000</span>\n",
       "</pre>\n"
      ],
      "text/plain": [
       "\u001b[1;36m643\u001b[0m,\u001b[1;36m950\u001b[0m,\u001b[1;36m000\u001b[0m\n"
      ]
     },
     "metadata": {},
     "output_type": "display_data"
    }
   ],
   "source": [
    "print(f\"{45_000*14_310:,}\")"
   ]
  },
  {
   "cell_type": "code",
   "execution_count": 102,
   "id": "02482288-e8c7-4587-a4f9-b00e2e35a1aa",
   "metadata": {},
   "outputs": [
    {
     "name": "stderr",
     "output_type": "stream",
     "text": [
      "/Users/davemcrench/Documents/Projects/evlens/evlens/data/markets.py:34: DtypeWarning: Columns (15,16,20,31,33,34,39,41,43,46,49,52,57,58,59,60,61,62,65,67,69,70,71) have mixed types. Specify dtype option on import or set low_memory=False.\n",
      "  df = pd.read_csv(filepath)\n"
     ]
    },
    {
     "data": {
      "text/html": [
       "<pre style=\"white-space:pre;overflow-x:auto;line-height:normal;font-family:Menlo,'DejaVu Sans Mono',consolas,'Courier New',monospace\">Number of Tesla plugs: <span style=\"color: #008080; text-decoration-color: #008080; font-weight: bold\">23</span>,<span style=\"color: #008080; text-decoration-color: #008080; font-weight: bold\">695</span>\n",
       "</pre>\n"
      ],
      "text/plain": [
       "Number of Tesla plugs: \u001b[1;36m23\u001b[0m,\u001b[1;36m695\u001b[0m\n"
      ]
     },
     "metadata": {},
     "output_type": "display_data"
    },
    {
     "data": {
      "text/html": [
       "<pre style=\"white-space:pre;overflow-x:auto;line-height:normal;font-family:Menlo,'DejaVu Sans Mono',consolas,'Courier New',monospace\">Number of non-Tesla plugs: <span style=\"color: #008080; text-decoration-color: #008080; font-weight: bold\">14</span>,<span style=\"color: #008080; text-decoration-color: #008080; font-weight: bold\">310</span>\n",
       "</pre>\n"
      ],
      "text/plain": [
       "Number of non-Tesla plugs: \u001b[1;36m14\u001b[0m,\u001b[1;36m310\u001b[0m\n"
      ]
     },
     "metadata": {},
     "output_type": "display_data"
    },
    {
     "data": {
      "text/html": [
       "<pre style=\"white-space:pre;overflow-x:auto;line-height:normal;font-family:Menlo,'DejaVu Sans Mono',consolas,'Courier New',monospace\"><span style=\"color: #008080; text-decoration-color: #008080; font-weight: bold\">2023</span> Non-Tesla Revenue: $<span style=\"color: #008080; text-decoration-color: #008080; font-weight: bold\">566</span>,<span style=\"color: #008080; text-decoration-color: #008080; font-weight: bold\">676</span>,<span style=\"color: #008080; text-decoration-color: #008080; font-weight: bold\">000.0</span>\n",
       "</pre>\n"
      ],
      "text/plain": [
       "\u001b[1;36m2023\u001b[0m Non-Tesla Revenue: $\u001b[1;36m566\u001b[0m,\u001b[1;36m676\u001b[0m,\u001b[1;36m000.0\u001b[0m\n"
      ]
     },
     "metadata": {},
     "output_type": "display_data"
    },
    {
     "data": {
      "text/html": [
       "<pre style=\"white-space:pre;overflow-x:auto;line-height:normal;font-family:Menlo,'DejaVu Sans Mono',consolas,'Courier New',monospace\"><span style=\"color: #008080; text-decoration-color: #008080; font-weight: bold\">2023</span> Non-Tesla Revenue Lost: $<span style=\"color: #008080; text-decoration-color: #008080; font-weight: bold\">141</span>,<span style=\"color: #008080; text-decoration-color: #008080; font-weight: bold\">669</span>,<span style=\"color: #008080; text-decoration-color: #008080; font-weight: bold\">000.0</span>\n",
       "</pre>\n"
      ],
      "text/plain": [
       "\u001b[1;36m2023\u001b[0m Non-Tesla Revenue Lost: $\u001b[1;36m141\u001b[0m,\u001b[1;36m669\u001b[0m,\u001b[1;36m000.0\u001b[0m\n"
      ]
     },
     "metadata": {},
     "output_type": "display_data"
    },
    {
     "data": {
      "text/html": [
       "<pre style=\"white-space:pre;overflow-x:auto;line-height:normal;font-family:Menlo,'DejaVu Sans Mono',consolas,'Courier New',monospace\"><span style=\"color: #808000; text-decoration-color: #808000\">non_tesla_fraction</span>=<span style=\"color: #008080; text-decoration-color: #008080; font-weight: bold\">0.3765294040257861</span>\n",
       "</pre>\n"
      ],
      "text/plain": [
       "\u001b[33mnon_tesla_fraction\u001b[0m=\u001b[1;36m0\u001b[0m\u001b[1;36m.3765294040257861\u001b[0m\n"
      ]
     },
     "metadata": {},
     "output_type": "display_data"
    },
    {
     "data": {
      "text/html": [
       "<pre style=\"white-space:pre;overflow-x:auto;line-height:normal;font-family:Menlo,'DejaVu Sans Mono',consolas,'Courier New',monospace\"><span style=\"color: #808000; text-decoration-color: #808000\">plug_count_2030</span>=<span style=\"color: #008080; text-decoration-color: #008080; font-weight: bold\">570</span>,<span style=\"color: #008080; text-decoration-color: #008080; font-weight: bold\">075.0</span>\n",
       "</pre>\n"
      ],
      "text/plain": [
       "\u001b[33mplug_count_2030\u001b[0m=\u001b[1;36m570\u001b[0m,\u001b[1;36m075.0\u001b[0m\n"
      ]
     },
     "metadata": {},
     "output_type": "display_data"
    },
    {
     "data": {
      "text/html": [
       "<pre style=\"white-space:pre;overflow-x:auto;line-height:normal;font-family:Menlo,'DejaVu Sans Mono',consolas,'Courier New',monospace\">Expected number of non-Tesla stations in US by <span style=\"color: #008080; text-decoration-color: #008080; font-weight: bold\">2030</span>: <span style=\"color: #008080; text-decoration-color: #008080; font-weight: bold\">53</span>,<span style=\"color: #008080; text-decoration-color: #008080; font-weight: bold\">662.50000000001</span>\n",
       "</pre>\n"
      ],
      "text/plain": [
       "Expected number of non-Tesla stations in US by \u001b[1;36m2030\u001b[0m: \u001b[1;36m53\u001b[0m,\u001b[1;36m662.50000000001\u001b[0m\n"
      ]
     },
     "metadata": {},
     "output_type": "display_data"
    },
    {
     "data": {
      "text/html": [
       "<pre style=\"white-space:pre;overflow-x:auto;line-height:normal;font-family:Menlo,'DejaVu Sans Mono',consolas,'Courier New',monospace\"><span style=\"color: #008080; text-decoration-color: #008080; font-weight: bold\">2030</span> non-Tesla revenue by <span style=\"color: #008080; text-decoration-color: #008080; font-weight: bold\">2030</span>: $<span style=\"color: #008080; text-decoration-color: #008080; font-weight: bold\">8</span>,<span style=\"color: #008080; text-decoration-color: #008080; font-weight: bold\">500</span>,<span style=\"color: #008080; text-decoration-color: #008080; font-weight: bold\">140</span>,<span style=\"color: #008080; text-decoration-color: #008080; font-weight: bold\">000.0</span>\n",
       "</pre>\n"
      ],
      "text/plain": [
       "\u001b[1;36m2030\u001b[0m non-Tesla revenue by \u001b[1;36m2030\u001b[0m: $\u001b[1;36m8\u001b[0m,\u001b[1;36m500\u001b[0m,\u001b[1;36m140\u001b[0m,\u001b[1;36m000.0\u001b[0m\n"
      ]
     },
     "metadata": {},
     "output_type": "display_data"
    },
    {
     "data": {
      "text/html": [
       "<pre style=\"white-space:pre;overflow-x:auto;line-height:normal;font-family:Menlo,'DejaVu Sans Mono',consolas,'Courier New',monospace\">Lost <span style=\"color: #008080; text-decoration-color: #008080; font-weight: bold\">2030</span> non-Tesla revenue due to down plugs: $<span style=\"color: #008080; text-decoration-color: #008080; font-weight: bold\">2</span>,<span style=\"color: #008080; text-decoration-color: #008080; font-weight: bold\">125</span>,<span style=\"color: #008080; text-decoration-color: #008080; font-weight: bold\">035</span>,<span style=\"color: #008080; text-decoration-color: #008080; font-weight: bold\">000.0</span>\n",
       "</pre>\n"
      ],
      "text/plain": [
       "Lost \u001b[1;36m2030\u001b[0m non-Tesla revenue due to down plugs: $\u001b[1;36m2\u001b[0m,\u001b[1;36m125\u001b[0m,\u001b[1;36m035\u001b[0m,\u001b[1;36m000.0\u001b[0m\n"
      ]
     },
     "metadata": {},
     "output_type": "display_data"
    }
   ],
   "source": [
    "from evlens.data.markets import clean_adfc_charging_stations_data\n",
    "\n",
    "df = clean_adfc_charging_stations_data(file, include_level2=False, revenue_loss_plug_fraction=0.25)"
   ]
  },
  {
   "cell_type": "code",
   "execution_count": 105,
   "id": "a657fd97-c2b3-44ba-a546-f86fe3b81db2",
   "metadata": {},
   "outputs": [
    {
     "name": "stderr",
     "output_type": "stream",
     "text": [
      "/Users/davemcrench/Documents/Projects/evlens/evlens/data/markets.py:34: DtypeWarning: Columns (15,16,20,31,33,34,39,41,43,46,49,52,57,58,59,60,61,62,65,67,69,70,71) have mixed types. Specify dtype option on import or set low_memory=False.\n",
      "  df = pd.read_csv(filepath)\n"
     ]
    },
    {
     "data": {
      "text/html": [
       "<pre style=\"white-space:pre;overflow-x:auto;line-height:normal;font-family:Menlo,'DejaVu Sans Mono',consolas,'Courier New',monospace\">Number of Tesla plugs: <span style=\"color: #008080; text-decoration-color: #008080; font-weight: bold\">40</span>\n",
       "</pre>\n"
      ],
      "text/plain": [
       "Number of Tesla plugs: \u001b[1;36m40\u001b[0m\n"
      ]
     },
     "metadata": {},
     "output_type": "display_data"
    },
    {
     "data": {
      "text/html": [
       "<pre style=\"white-space:pre;overflow-x:auto;line-height:normal;font-family:Menlo,'DejaVu Sans Mono',consolas,'Courier New',monospace\">Number of non-Tesla plugs: <span style=\"color: #008080; text-decoration-color: #008080; font-weight: bold\">5</span>,<span style=\"color: #008080; text-decoration-color: #008080; font-weight: bold\">122</span>\n",
       "</pre>\n"
      ],
      "text/plain": [
       "Number of non-Tesla plugs: \u001b[1;36m5\u001b[0m,\u001b[1;36m122\u001b[0m\n"
      ]
     },
     "metadata": {},
     "output_type": "display_data"
    },
    {
     "data": {
      "text/html": [
       "<pre style=\"white-space:pre;overflow-x:auto;line-height:normal;font-family:Menlo,'DejaVu Sans Mono',consolas,'Courier New',monospace\"><span style=\"color: #008080; text-decoration-color: #008080; font-weight: bold\">2023</span> Non-Tesla Revenue: $<span style=\"color: #008080; text-decoration-color: #008080; font-weight: bold\">112</span>,<span style=\"color: #008080; text-decoration-color: #008080; font-weight: bold\">541</span>,<span style=\"color: #008080; text-decoration-color: #008080; font-weight: bold\">175.0</span>\n",
       "</pre>\n"
      ],
      "text/plain": [
       "\u001b[1;36m2023\u001b[0m Non-Tesla Revenue: $\u001b[1;36m112\u001b[0m,\u001b[1;36m541\u001b[0m,\u001b[1;36m175.0\u001b[0m\n"
      ]
     },
     "metadata": {},
     "output_type": "display_data"
    },
    {
     "data": {
      "text/html": [
       "<pre style=\"white-space:pre;overflow-x:auto;line-height:normal;font-family:Menlo,'DejaVu Sans Mono',consolas,'Courier New',monospace\"><span style=\"color: #008080; text-decoration-color: #008080; font-weight: bold\">2023</span> Non-Tesla Revenue Lost: $<span style=\"color: #008080; text-decoration-color: #008080; font-weight: bold\">28</span>,<span style=\"color: #008080; text-decoration-color: #008080; font-weight: bold\">135</span>,<span style=\"color: #008080; text-decoration-color: #008080; font-weight: bold\">293.75</span>\n",
       "</pre>\n"
      ],
      "text/plain": [
       "\u001b[1;36m2023\u001b[0m Non-Tesla Revenue Lost: $\u001b[1;36m28\u001b[0m,\u001b[1;36m135\u001b[0m,\u001b[1;36m293.75\u001b[0m\n"
      ]
     },
     "metadata": {},
     "output_type": "display_data"
    },
    {
     "data": {
      "text/html": [
       "<pre style=\"white-space:pre;overflow-x:auto;line-height:normal;font-family:Menlo,'DejaVu Sans Mono',consolas,'Courier New',monospace\"><span style=\"color: #808000; text-decoration-color: #808000\">non_tesla_fraction</span>=<span style=\"color: #008080; text-decoration-color: #008080; font-weight: bold\">0.9922510654784967</span>\n",
       "</pre>\n"
      ],
      "text/plain": [
       "\u001b[33mnon_tesla_fraction\u001b[0m=\u001b[1;36m0\u001b[0m\u001b[1;36m.9922510654784967\u001b[0m\n"
      ]
     },
     "metadata": {},
     "output_type": "display_data"
    },
    {
     "data": {
      "text/html": [
       "<pre style=\"white-space:pre;overflow-x:auto;line-height:normal;font-family:Menlo,'DejaVu Sans Mono',consolas,'Courier New',monospace\"><span style=\"color: #808000; text-decoration-color: #808000\">plug_count_2030</span>=<span style=\"color: #008080; text-decoration-color: #008080; font-weight: bold\">77</span>,<span style=\"color: #008080; text-decoration-color: #008080; font-weight: bold\">430.0</span>\n",
       "</pre>\n"
      ],
      "text/plain": [
       "\u001b[33mplug_count_2030\u001b[0m=\u001b[1;36m77\u001b[0m,\u001b[1;36m430.0\u001b[0m\n"
      ]
     },
     "metadata": {},
     "output_type": "display_data"
    },
    {
     "data": {
      "text/html": [
       "<pre style=\"white-space:pre;overflow-x:auto;line-height:normal;font-family:Menlo,'DejaVu Sans Mono',consolas,'Courier New',monospace\">Expected number of non-Tesla stations in US by <span style=\"color: #008080; text-decoration-color: #008080; font-weight: bold\">2030</span>: <span style=\"color: #008080; text-decoration-color: #008080; font-weight: bold\">19</span>,<span style=\"color: #008080; text-decoration-color: #008080; font-weight: bold\">207.5</span>\n",
       "</pre>\n"
      ],
      "text/plain": [
       "Expected number of non-Tesla stations in US by \u001b[1;36m2030\u001b[0m: \u001b[1;36m19\u001b[0m,\u001b[1;36m207.5\u001b[0m\n"
      ]
     },
     "metadata": {},
     "output_type": "display_data"
    },
    {
     "data": {
      "text/html": [
       "<pre style=\"white-space:pre;overflow-x:auto;line-height:normal;font-family:Menlo,'DejaVu Sans Mono',consolas,'Courier New',monospace\"><span style=\"color: #008080; text-decoration-color: #008080; font-weight: bold\">2030</span> non-Tesla revenue by <span style=\"color: #008080; text-decoration-color: #008080; font-weight: bold\">2030</span>: $<span style=\"color: #008080; text-decoration-color: #008080; font-weight: bold\">1</span>,<span style=\"color: #008080; text-decoration-color: #008080; font-weight: bold\">688</span>,<span style=\"color: #008080; text-decoration-color: #008080; font-weight: bold\">117</span>,<span style=\"color: #008080; text-decoration-color: #008080; font-weight: bold\">625.0</span>\n",
       "</pre>\n"
      ],
      "text/plain": [
       "\u001b[1;36m2030\u001b[0m non-Tesla revenue by \u001b[1;36m2030\u001b[0m: $\u001b[1;36m1\u001b[0m,\u001b[1;36m688\u001b[0m,\u001b[1;36m117\u001b[0m,\u001b[1;36m625.0\u001b[0m\n"
      ]
     },
     "metadata": {},
     "output_type": "display_data"
    },
    {
     "data": {
      "text/html": [
       "<pre style=\"white-space:pre;overflow-x:auto;line-height:normal;font-family:Menlo,'DejaVu Sans Mono',consolas,'Courier New',monospace\">Lost <span style=\"color: #008080; text-decoration-color: #008080; font-weight: bold\">2030</span> non-Tesla revenue due to down plugs: $<span style=\"color: #008080; text-decoration-color: #008080; font-weight: bold\">422</span>,<span style=\"color: #008080; text-decoration-color: #008080; font-weight: bold\">029</span>,<span style=\"color: #008080; text-decoration-color: #008080; font-weight: bold\">406.25</span>\n",
       "</pre>\n"
      ],
      "text/plain": [
       "Lost \u001b[1;36m2030\u001b[0m non-Tesla revenue due to down plugs: $\u001b[1;36m422\u001b[0m,\u001b[1;36m029\u001b[0m,\u001b[1;36m406.25\u001b[0m\n"
      ]
     },
     "metadata": {},
     "output_type": "display_data"
    }
   ],
   "source": [
    "# What happens to numbers if we include L2 chargers?\n",
    "df_l2 = clean_adfc_charging_stations_data(file, include_level2=True, revenue_loss_plug_fraction=0.25)"
   ]
  },
  {
   "cell_type": "code",
   "execution_count": 107,
   "id": "f5a7418c-ec3d-47a6-8d99-f619208cd359",
   "metadata": {},
   "outputs": [
    {
     "data": {
      "text/html": [
       "<div>\n",
       "<style scoped>\n",
       "    .dataframe tbody tr th:only-of-type {\n",
       "        vertical-align: middle;\n",
       "    }\n",
       "\n",
       "    .dataframe tbody tr th {\n",
       "        vertical-align: top;\n",
       "    }\n",
       "\n",
       "    .dataframe thead th {\n",
       "        text-align: right;\n",
       "    }\n",
       "</style>\n",
       "<table border=\"1\" class=\"dataframe\">\n",
       "  <thead>\n",
       "    <tr style=\"text-align: right;\">\n",
       "      <th></th>\n",
       "      <th>EV Network</th>\n",
       "      <th>EV DC Fast Count</th>\n",
       "      <th>EV Level2 EVSE Num</th>\n",
       "      <th>Total</th>\n",
       "    </tr>\n",
       "  </thead>\n",
       "  <tbody>\n",
       "    <tr>\n",
       "      <th>0</th>\n",
       "      <td>AMPUP</td>\n",
       "      <td>2.0</td>\n",
       "      <td>2.0</td>\n",
       "      <td>4</td>\n",
       "    </tr>\n",
       "    <tr>\n",
       "      <th>1</th>\n",
       "      <td>Blink Network</td>\n",
       "      <td>78.0</td>\n",
       "      <td>153.0</td>\n",
       "      <td>231</td>\n",
       "    </tr>\n",
       "    <tr>\n",
       "      <th>2</th>\n",
       "      <td>CHARGELAB</td>\n",
       "      <td>10.0</td>\n",
       "      <td>7.0</td>\n",
       "      <td>17</td>\n",
       "    </tr>\n",
       "    <tr>\n",
       "      <th>3</th>\n",
       "      <td>CHARGEUP</td>\n",
       "      <td>4.0</td>\n",
       "      <td>11.0</td>\n",
       "      <td>15</td>\n",
       "    </tr>\n",
       "    <tr>\n",
       "      <th>4</th>\n",
       "      <td>ChargePoint Network</td>\n",
       "      <td>3.0</td>\n",
       "      <td>8.0</td>\n",
       "      <td>11</td>\n",
       "    </tr>\n",
       "    <tr>\n",
       "      <th>5</th>\n",
       "      <td>EV Connect</td>\n",
       "      <td>145.0</td>\n",
       "      <td>178.0</td>\n",
       "      <td>323</td>\n",
       "    </tr>\n",
       "    <tr>\n",
       "      <th>6</th>\n",
       "      <td>EVCS</td>\n",
       "      <td>144.0</td>\n",
       "      <td>219.0</td>\n",
       "      <td>363</td>\n",
       "    </tr>\n",
       "    <tr>\n",
       "      <th>7</th>\n",
       "      <td>EVGATEWAY</td>\n",
       "      <td>15.0</td>\n",
       "      <td>67.0</td>\n",
       "      <td>82</td>\n",
       "    </tr>\n",
       "    <tr>\n",
       "      <th>8</th>\n",
       "      <td>Electrify America</td>\n",
       "      <td>346.0</td>\n",
       "      <td>113.0</td>\n",
       "      <td>459</td>\n",
       "    </tr>\n",
       "    <tr>\n",
       "      <th>9</th>\n",
       "      <td>FCN</td>\n",
       "      <td>142.0</td>\n",
       "      <td>98.0</td>\n",
       "      <td>240</td>\n",
       "    </tr>\n",
       "    <tr>\n",
       "      <th>10</th>\n",
       "      <td>FLO</td>\n",
       "      <td>5.0</td>\n",
       "      <td>8.0</td>\n",
       "      <td>13</td>\n",
       "    </tr>\n",
       "    <tr>\n",
       "      <th>11</th>\n",
       "      <td>GRAVITI_ENERGY</td>\n",
       "      <td>3.0</td>\n",
       "      <td>7.0</td>\n",
       "      <td>10</td>\n",
       "    </tr>\n",
       "    <tr>\n",
       "      <th>12</th>\n",
       "      <td>LIVINGSTON</td>\n",
       "      <td>3.0</td>\n",
       "      <td>5.0</td>\n",
       "      <td>8</td>\n",
       "    </tr>\n",
       "    <tr>\n",
       "      <th>13</th>\n",
       "      <td>LOOP</td>\n",
       "      <td>6.0</td>\n",
       "      <td>2.0</td>\n",
       "      <td>8</td>\n",
       "    </tr>\n",
       "    <tr>\n",
       "      <th>14</th>\n",
       "      <td>Non-Networked</td>\n",
       "      <td>658.0</td>\n",
       "      <td>1112.0</td>\n",
       "      <td>1770</td>\n",
       "    </tr>\n",
       "    <tr>\n",
       "      <th>15</th>\n",
       "      <td>POWERFLEX</td>\n",
       "      <td>26.0</td>\n",
       "      <td>229.0</td>\n",
       "      <td>255</td>\n",
       "    </tr>\n",
       "    <tr>\n",
       "      <th>16</th>\n",
       "      <td>RED_E</td>\n",
       "      <td>4.0</td>\n",
       "      <td>3.0</td>\n",
       "      <td>7</td>\n",
       "    </tr>\n",
       "    <tr>\n",
       "      <th>17</th>\n",
       "      <td>SHELL_RECHARGE</td>\n",
       "      <td>166.0</td>\n",
       "      <td>351.0</td>\n",
       "      <td>517</td>\n",
       "    </tr>\n",
       "    <tr>\n",
       "      <th>18</th>\n",
       "      <td>SWTCH</td>\n",
       "      <td>1.0</td>\n",
       "      <td>2.0</td>\n",
       "      <td>3</td>\n",
       "    </tr>\n",
       "    <tr>\n",
       "      <th>19</th>\n",
       "      <td>Tesla</td>\n",
       "      <td>8.0</td>\n",
       "      <td>8.0</td>\n",
       "      <td>16</td>\n",
       "    </tr>\n",
       "    <tr>\n",
       "      <th>20</th>\n",
       "      <td>Tesla Destination</td>\n",
       "      <td>16.0</td>\n",
       "      <td>8.0</td>\n",
       "      <td>24</td>\n",
       "    </tr>\n",
       "    <tr>\n",
       "      <th>21</th>\n",
       "      <td>UNIVERSAL</td>\n",
       "      <td>2.0</td>\n",
       "      <td>4.0</td>\n",
       "      <td>6</td>\n",
       "    </tr>\n",
       "    <tr>\n",
       "      <th>22</th>\n",
       "      <td>Volta</td>\n",
       "      <td>1.0</td>\n",
       "      <td>1.0</td>\n",
       "      <td>2</td>\n",
       "    </tr>\n",
       "    <tr>\n",
       "      <th>23</th>\n",
       "      <td>ZEFNET</td>\n",
       "      <td>46.0</td>\n",
       "      <td>81.0</td>\n",
       "      <td>127</td>\n",
       "    </tr>\n",
       "    <tr>\n",
       "      <th>24</th>\n",
       "      <td>eVgo Network</td>\n",
       "      <td>357.0</td>\n",
       "      <td>294.0</td>\n",
       "      <td>651</td>\n",
       "    </tr>\n",
       "  </tbody>\n",
       "</table>\n",
       "</div>"
      ],
      "text/plain": [
       "             EV Network  EV DC Fast Count  EV Level2 EVSE Num  Total\n",
       "0                 AMPUP               2.0                 2.0      4\n",
       "1         Blink Network              78.0               153.0    231\n",
       "2             CHARGELAB              10.0                 7.0     17\n",
       "3              CHARGEUP               4.0                11.0     15\n",
       "4   ChargePoint Network               3.0                 8.0     11\n",
       "5            EV Connect             145.0               178.0    323\n",
       "6                  EVCS             144.0               219.0    363\n",
       "7             EVGATEWAY              15.0                67.0     82\n",
       "8     Electrify America             346.0               113.0    459\n",
       "9                   FCN             142.0                98.0    240\n",
       "10                  FLO               5.0                 8.0     13\n",
       "11       GRAVITI_ENERGY               3.0                 7.0     10\n",
       "12           LIVINGSTON               3.0                 5.0      8\n",
       "13                 LOOP               6.0                 2.0      8\n",
       "14        Non-Networked             658.0              1112.0   1770\n",
       "15            POWERFLEX              26.0               229.0    255\n",
       "16                RED_E               4.0                 3.0      7\n",
       "17       SHELL_RECHARGE             166.0               351.0    517\n",
       "18                SWTCH               1.0                 2.0      3\n",
       "19                Tesla               8.0                 8.0     16\n",
       "20    Tesla Destination              16.0                 8.0     24\n",
       "21            UNIVERSAL               2.0                 4.0      6\n",
       "22                Volta               1.0                 1.0      2\n",
       "23               ZEFNET              46.0                81.0    127\n",
       "24         eVgo Network             357.0               294.0    651"
      ]
     },
     "execution_count": 107,
     "metadata": {},
     "output_type": "execute_result"
    }
   ],
   "source": [
    "plug_counts_by_network"
   ]
  },
  {
   "cell_type": "code",
   "execution_count": 108,
   "id": "7be41966-f5c6-48b8-a416-80bfad2fc58f",
   "metadata": {},
   "outputs": [
    {
     "data": {
      "text/html": [
       "<pre style=\"white-space:pre;overflow-x:auto;line-height:normal;font-family:Menlo,'DejaVu Sans Mono',consolas,'Courier New',monospace\">Number of Tesla plugs: <span style=\"color: #008080; text-decoration-color: #008080; font-weight: bold\">36</span>,<span style=\"color: #008080; text-decoration-color: #008080; font-weight: bold\">707</span>\n",
       "</pre>\n"
      ],
      "text/plain": [
       "Number of Tesla plugs: \u001b[1;36m36\u001b[0m,\u001b[1;36m707\u001b[0m\n"
      ]
     },
     "metadata": {},
     "output_type": "display_data"
    },
    {
     "data": {
      "text/html": [
       "<pre style=\"white-space:pre;overflow-x:auto;line-height:normal;font-family:Menlo,'DejaVu Sans Mono',consolas,'Courier New',monospace\">Number of non-Tesla plugs: <span style=\"color: #008080; text-decoration-color: #008080; font-weight: bold\">123</span>,<span style=\"color: #008080; text-decoration-color: #008080; font-weight: bold\">942</span>\n",
       "</pre>\n"
      ],
      "text/plain": [
       "Number of non-Tesla plugs: \u001b[1;36m123\u001b[0m,\u001b[1;36m942\u001b[0m\n"
      ]
     },
     "metadata": {},
     "output_type": "display_data"
    },
    {
     "data": {
      "text/html": [
       "<pre style=\"white-space:pre;overflow-x:auto;line-height:normal;font-family:Menlo,'DejaVu Sans Mono',consolas,'Courier New',monospace\"><span style=\"color: #008080; text-decoration-color: #008080; font-weight: bold\">2023</span> Non-Tesla Revenue: $<span style=\"color: #008080; text-decoration-color: #008080; font-weight: bold\">1</span>,<span style=\"color: #008080; text-decoration-color: #008080; font-weight: bold\">558</span>,<span style=\"color: #008080; text-decoration-color: #008080; font-weight: bold\">297</span>,<span style=\"color: #008080; text-decoration-color: #008080; font-weight: bold\">440.0000002</span>\n",
       "</pre>\n"
      ],
      "text/plain": [
       "\u001b[1;36m2023\u001b[0m Non-Tesla Revenue: $\u001b[1;36m1\u001b[0m,\u001b[1;36m558\u001b[0m,\u001b[1;36m297\u001b[0m,\u001b[1;36m440.0000002\u001b[0m\n"
      ]
     },
     "metadata": {},
     "output_type": "display_data"
    },
    {
     "data": {
      "text/html": [
       "<pre style=\"white-space:pre;overflow-x:auto;line-height:normal;font-family:Menlo,'DejaVu Sans Mono',consolas,'Courier New',monospace\"><span style=\"color: #008080; text-decoration-color: #008080; font-weight: bold\">2023</span> Non-Tesla Revenue Lost: $<span style=\"color: #008080; text-decoration-color: #008080; font-weight: bold\">389</span>,<span style=\"color: #008080; text-decoration-color: #008080; font-weight: bold\">574</span>,<span style=\"color: #008080; text-decoration-color: #008080; font-weight: bold\">360.00000006</span>\n",
       "</pre>\n"
      ],
      "text/plain": [
       "\u001b[1;36m2023\u001b[0m Non-Tesla Revenue Lost: $\u001b[1;36m389\u001b[0m,\u001b[1;36m574\u001b[0m,\u001b[1;36m360.00000006\u001b[0m\n"
      ]
     },
     "metadata": {},
     "output_type": "display_data"
    },
    {
     "data": {
      "text/html": [
       "<pre style=\"white-space:pre;overflow-x:auto;line-height:normal;font-family:Menlo,'DejaVu Sans Mono',consolas,'Courier New',monospace\"><span style=\"color: #808000; text-decoration-color: #808000\">non_tesla_fraction</span>=<span style=\"color: #008080; text-decoration-color: #008080; font-weight: bold\">0.7715080703894827</span>\n",
       "</pre>\n"
      ],
      "text/plain": [
       "\u001b[33mnon_tesla_fraction\u001b[0m=\u001b[1;36m0\u001b[0m\u001b[1;36m.7715080703894827\u001b[0m\n"
      ]
     },
     "metadata": {},
     "output_type": "display_data"
    },
    {
     "data": {
      "text/html": [
       "<pre style=\"white-space:pre;overflow-x:auto;line-height:normal;font-family:Menlo,'DejaVu Sans Mono',consolas,'Courier New',monospace\"><span style=\"color: #808000; text-decoration-color: #808000\">plug_count_2030</span>=<span style=\"color: #008080; text-decoration-color: #008080; font-weight: bold\">2</span>,<span style=\"color: #008080; text-decoration-color: #008080; font-weight: bold\">409</span>,<span style=\"color: #008080; text-decoration-color: #008080; font-weight: bold\">735.0</span>\n",
       "</pre>\n"
      ],
      "text/plain": [
       "\u001b[33mplug_count_2030\u001b[0m=\u001b[1;36m2\u001b[0m,\u001b[1;36m409\u001b[0m,\u001b[1;36m735.0\u001b[0m\n"
      ]
     },
     "metadata": {},
     "output_type": "display_data"
    },
    {
     "data": {
      "text/html": [
       "<pre style=\"white-space:pre;overflow-x:auto;line-height:normal;font-family:Menlo,'DejaVu Sans Mono',consolas,'Courier New',monospace\">Expected number of non-Tesla stations in US by <span style=\"color: #008080; text-decoration-color: #008080; font-weight: bold\">2030</span>: <span style=\"color: #008080; text-decoration-color: #008080; font-weight: bold\">464</span>,<span style=\"color: #008080; text-decoration-color: #008080; font-weight: bold\">782.5</span>\n",
       "</pre>\n"
      ],
      "text/plain": [
       "Expected number of non-Tesla stations in US by \u001b[1;36m2030\u001b[0m: \u001b[1;36m464\u001b[0m,\u001b[1;36m782.5\u001b[0m\n"
      ]
     },
     "metadata": {},
     "output_type": "display_data"
    },
    {
     "data": {
      "text/html": [
       "<pre style=\"white-space:pre;overflow-x:auto;line-height:normal;font-family:Menlo,'DejaVu Sans Mono',consolas,'Courier New',monospace\"><span style=\"color: #008080; text-decoration-color: #008080; font-weight: bold\">2030</span> non-Tesla revenue by <span style=\"color: #008080; text-decoration-color: #008080; font-weight: bold\">2030</span>: $<span style=\"color: #008080; text-decoration-color: #008080; font-weight: bold\">23</span>,<span style=\"color: #008080; text-decoration-color: #008080; font-weight: bold\">374</span>,<span style=\"color: #008080; text-decoration-color: #008080; font-weight: bold\">461</span>,<span style=\"color: #008080; text-decoration-color: #008080; font-weight: bold\">600.000004</span>\n",
       "</pre>\n"
      ],
      "text/plain": [
       "\u001b[1;36m2030\u001b[0m non-Tesla revenue by \u001b[1;36m2030\u001b[0m: $\u001b[1;36m23\u001b[0m,\u001b[1;36m374\u001b[0m,\u001b[1;36m461\u001b[0m,\u001b[1;36m600.000004\u001b[0m\n"
      ]
     },
     "metadata": {},
     "output_type": "display_data"
    },
    {
     "data": {
      "text/html": [
       "<pre style=\"white-space:pre;overflow-x:auto;line-height:normal;font-family:Menlo,'DejaVu Sans Mono',consolas,'Courier New',monospace\">Lost <span style=\"color: #008080; text-decoration-color: #008080; font-weight: bold\">2030</span> non-Tesla revenue due to down plugs: $<span style=\"color: #008080; text-decoration-color: #008080; font-weight: bold\">5</span>,<span style=\"color: #008080; text-decoration-color: #008080; font-weight: bold\">843</span>,<span style=\"color: #008080; text-decoration-color: #008080; font-weight: bold\">615</span>,<span style=\"color: #008080; text-decoration-color: #008080; font-weight: bold\">400.000001</span>\n",
       "</pre>\n"
      ],
      "text/plain": [
       "Lost \u001b[1;36m2030\u001b[0m non-Tesla revenue due to down plugs: $\u001b[1;36m5\u001b[0m,\u001b[1;36m843\u001b[0m,\u001b[1;36m615\u001b[0m,\u001b[1;36m400.000001\u001b[0m\n"
      ]
     },
     "metadata": {},
     "output_type": "display_data"
    }
   ],
   "source": [
    "include_level2 = True\n",
    "\n",
    "if include_level2:\n",
    "        columns_of_interest = ['EV DC Fast Count', 'EV Level2 EVSE Num']\n",
    "else:\n",
    "    columns_of_interest = ['EV DC Fast Count']\n",
    "    \n",
    "plug_counts_by_network = df.dropna(subset=columns_of_interest, how='all')\\\n",
    "    .groupby('EV Network')[columns_of_interest].sum().reset_index()\n",
    "plug_counts_by_network['Total'] = \\\n",
    "    plug_counts_by_network[columns_of_interest].sum(axis=1).astype(int)\n",
    "# dc_plug_counts_by_network.drop(columns=columns_of_interest, inplace=True)\n",
    "    \n",
    "non_tesla_plugs = plug_counts_by_network[\n",
    "    ~plug_counts_by_network['EV Network'].str.contains('Tesla')\n",
    "]\n",
    "tesla_plugs = plug_counts_by_network[\n",
    "    plug_counts_by_network['EV Network'].str.contains('Tesla')\n",
    "]\n",
    "\n",
    "print(f\"Number of Tesla plugs: {tesla_plugs['Total'].sum():,}\")\n",
    "print(f\"Number of non-Tesla plugs: {non_tesla_plugs['Total'].sum():,}\")\n",
    "\n",
    "# How much revenue across an arbitrary # of stations?\n",
    "# Assume (non-Tesla) 4x plugs per station and $2,640 of monthly recurring \n",
    "# revenue per station \n",
    "# https://blog.evbox.com/make-money-ev-charging-stations#:~:text=EV%20charging%20station%20revenue%20overview\n",
    "if include_level2:\n",
    "    non_tesla_annual_revenue = \\\n",
    "        non_tesla_plugs['EV Level2 EVSE Num'].sum() * annual_revenue_estimate_per_level2_plug \\\n",
    "            + non_tesla_plugs['EV DC Fast Count'].sum() * annual_revenue_estimate_per_dc_plug\n",
    "else:\n",
    "    non_tesla_annual_revenue = \\\n",
    "        non_tesla_plugs['EV DC Fast Count'].sum() * annual_revenue_estimate_per_dc_plug\n",
    "print(f\"2023 Non-Tesla Revenue: ${non_tesla_annual_revenue:,}\")\n",
    "print(f\"2023 Non-Tesla Revenue Lost: ${non_tesla_annual_revenue*revenue_loss_plug_fraction:,}\")\n",
    "\n",
    "# What will this number of lost revenue be in 2030 when we have more DCFC public plugs?\n",
    "# https://www.mckinsey.com/features/mckinsey-center-for-future-mobility/our-insights/can-public-ev-fast-charging-stations-be-profitable-in-the-united-states\n",
    "# Assume 4 plugs per station, similar proportion of non-Tesla-to-Tesla station counts\n",
    "non_tesla_fraction = non_tesla_plugs['Total'].sum() / plug_counts_by_network['Total'].sum()\n",
    "print(f\"{non_tesla_fraction=}\")\n",
    "\n",
    "public_plug_multiplier_2030 = 1.5/0.1 # need multiplier since plug counts don't line up with McK estimate\n",
    "\n",
    "plug_count_2030 = public_plug_multiplier_2030 * plug_counts_by_network['Total'].sum()\n",
    "print(f\"{plug_count_2030=:,}\")\n",
    "print(f\"Expected number of non-Tesla stations in US by 2030: {non_tesla_fraction * plug_count_2030 / 4:,}\")\n",
    "non_tesla_plugs_annual_revenue_2030 = public_plug_multiplier_2030 * non_tesla_annual_revenue\n",
    "\n",
    "# DCFC stats\n",
    "print(f\"2030 non-Tesla revenue by 2030: ${non_tesla_plugs_annual_revenue_2030:,}\")\n",
    "print(f\"Lost 2030 non-Tesla revenue due to down plugs: ${non_tesla_plugs_annual_revenue_2030*revenue_loss_plug_fraction:,}\")"
   ]
  },
  {
   "cell_type": "markdown",
   "id": "dc37dde5-4d7e-4a3d-b191-acc0b0b18ba1",
   "metadata": {},
   "source": [
    "Something is wrong, including L2 shouldn't drop the lost revenue estimates...I think?"
   ]
  },
  {
   "cell_type": "code",
   "execution_count": null,
   "id": "bbe31b97-8cfc-471a-803f-dcfb358656c6",
   "metadata": {},
   "outputs": [],
   "source": []
  }
 ],
 "metadata": {
  "kernelspec": {
   "display_name": "evlens",
   "language": "python",
   "name": "evlens"
  },
  "language_info": {
   "codemirror_mode": {
    "name": "ipython",
    "version": 3
   },
   "file_extension": ".py",
   "mimetype": "text/x-python",
   "name": "python",
   "nbconvert_exporter": "python",
   "pygments_lexer": "ipython3",
   "version": "3.11.5"
  }
 },
 "nbformat": 4,
 "nbformat_minor": 5
}
