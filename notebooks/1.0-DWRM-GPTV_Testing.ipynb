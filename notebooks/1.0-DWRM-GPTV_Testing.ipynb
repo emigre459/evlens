{
 "cells": [
  {
   "cell_type": "markdown",
   "id": "bddfc535-9593-42fe-8b05-4680ba70926a",
   "metadata": {},
   "source": [
    "# Purpose\n",
    "\n",
    "Test out running images to GPT-4 image recognition model for querying them."
   ]
  },
  {
   "cell_type": "markdown",
   "id": "9005defb-b608-430d-b91a-c384cf8bed2e",
   "metadata": {},
   "source": [
    "# Imports"
   ]
  },
  {
   "cell_type": "code",
   "execution_count": 1,
   "id": "8eadbe4f-bacf-4f41-9ffa-07e3d1e29d8f",
   "metadata": {},
   "outputs": [],
   "source": [
    "%load_ext autoreload\n",
    "%autoreload 2\n",
    "\n",
    "import pandas as pd\n",
    "import numpy as np\n",
    "from rich import print\n",
    "import os"
   ]
  },
  {
   "cell_type": "markdown",
   "id": "d580a289-22c0-4108-8318-ef212dbd3914",
   "metadata": {},
   "source": [
    "# Constants"
   ]
  },
  {
   "cell_type": "code",
   "execution_count": 2,
   "id": "b1662f8d-4df8-4c2c-b104-5290d53bba7f",
   "metadata": {},
   "outputs": [
    {
     "name": "stdout",
     "output_type": "stream",
     "text": [
      "Name: python-dotenv\n",
      "Version: 1.0.0\n",
      "Summary: Read key-value pairs from a .env file and set them as environment variables\n",
      "Home-page: https://github.com/theskumar/python-dotenv\n",
      "Author: Saurabh Kumar\n",
      "Author-email: me+github@saurabh-kumar.com\n",
      "License: BSD-3-Clause\n",
      "Location: /Users/davemcrench/anaconda3/lib/python3.11/site-packages\n",
      "Requires: \n",
      "Required-by: anaconda-cloud-auth\n"
     ]
    }
   ],
   "source": [
    "!pip show python-dotenv"
   ]
  },
  {
   "cell_type": "code",
   "execution_count": 3,
   "id": "2ecd37c8-bf68-4a87-b888-d8add53e3877",
   "metadata": {},
   "outputs": [
    {
     "data": {
      "text/plain": [
       "True"
      ]
     },
     "execution_count": 3,
     "metadata": {},
     "output_type": "execute_result"
    }
   ],
   "source": [
    "from dotenv import load_dotenv\n",
    "\n",
    "load_dotenv(override=True)"
   ]
  },
  {
   "cell_type": "markdown",
   "id": "417c53fc-2fc9-4f82-9eb6-7d8efdbb54b9",
   "metadata": {},
   "source": [
    "# Check Available Models"
   ]
  },
  {
   "cell_type": "code",
   "execution_count": 26,
   "id": "4ba9e15e-a651-464a-be98-96b5525f78fc",
   "metadata": {},
   "outputs": [],
   "source": [
    "from typing import List, Union\n",
    "from openai import OpenAI\n",
    "\n",
    "def find_models(\n",
    "    name: str\n",
    ") -> Union[List[str], None]:\n",
    "\n",
    "    client = OpenAI()\n",
    "    models = client.models.list().model_dump()['data']\n",
    "\n",
    "    models_found = []\n",
    "    for e in models:\n",
    "        m = e['id']\n",
    "        if name in m:\n",
    "            models_found.append(m)\n",
    "\n",
    "    if len(models_found) == 0:\n",
    "        return None\n",
    "    else:\n",
    "        return models_found"
   ]
  },
  {
   "cell_type": "code",
   "execution_count": 27,
   "id": "f41e4e39-ee0a-4ac6-93a7-fc30ce8975fa",
   "metadata": {},
   "outputs": [
    {
     "data": {
      "text/plain": [
       "['gpt-4-0613',\n",
       " 'gpt-4',\n",
       " 'gpt-4-1106-preview',\n",
       " 'gpt-4-vision-preview',\n",
       " 'gpt-4-0314']"
      ]
     },
     "execution_count": 27,
     "metadata": {},
     "output_type": "execute_result"
    }
   ],
   "source": [
    "find_models('gpt-4')"
   ]
  },
  {
   "cell_type": "code",
   "execution_count": null,
   "id": "d7f45f84-b6ca-4085-b8c7-bcff9ba19022",
   "metadata": {},
   "outputs": [],
   "source": []
  }
 ],
 "metadata": {
  "kernelspec": {
   "display_name": "evlens",
   "language": "python",
   "name": "evlens"
  },
  "language_info": {
   "codemirror_mode": {
    "name": "ipython",
    "version": 3
   },
   "file_extension": ".py",
   "mimetype": "text/x-python",
   "name": "python",
   "nbconvert_exporter": "python",
   "pygments_lexer": "ipython3",
   "version": "3.11.5"
  }
 },
 "nbformat": 4,
 "nbformat_minor": 5
}
